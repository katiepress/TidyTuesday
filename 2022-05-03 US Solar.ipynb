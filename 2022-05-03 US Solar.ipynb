{
 "cells": [
  {
   "cell_type": "markdown",
   "metadata": {},
   "source": [
    "Import all the libraries."
   ]
  },
  {
   "cell_type": "code",
   "execution_count": 1,
   "metadata": {},
   "outputs": [],
   "source": [
    "import pandas as pd\n",
    "import janitor\n",
    "#from matplotlib import pyplot as plt\n",
    "#import matplotlib.dates as mdates\n",
    "#from matplotlib.dates import DateFormatter\n",
    "import seaborn as sns\n",
    "import plotly.express as px\n",
    "import plotly.graph_objects as go\n",
    "from plotly.subplots import make_subplots\n",
    "import plotly.io as pio\n",
    "#pio.renderers.default = \"notebook_connected\"\n",
    "#pio.renderers.default = \"svg\""
   ]
  },
  {
   "cell_type": "markdown",
   "metadata": {},
   "source": [
    "Get the data."
   ]
  },
  {
   "cell_type": "code",
   "execution_count": 2,
   "metadata": {},
   "outputs": [],
   "source": [
    "ppa_price = pd.read_csv('/Users/katiepress/Desktop/Rproj/Tidy Tuesday/ppa_price.csv')"
   ]
  },
  {
   "cell_type": "markdown",
   "metadata": {},
   "source": [
    "Check out the first few rows of the dataframe. Identical to head() in R. "
   ]
  },
  {
   "cell_type": "code",
   "execution_count": 3,
   "metadata": {},
   "outputs": [
    {
     "data": {
      "text/html": [
       "<div>\n",
       "<style scoped>\n",
       "    .dataframe tbody tr th:only-of-type {\n",
       "        vertical-align: middle;\n",
       "    }\n",
       "\n",
       "    .dataframe tbody tr th {\n",
       "        vertical-align: top;\n",
       "    }\n",
       "\n",
       "    .dataframe thead th {\n",
       "        text-align: right;\n",
       "    }\n",
       "</style>\n",
       "<table border=\"1\" class=\"dataframe\">\n",
       "  <thead>\n",
       "    <tr style=\"text-align: right;\">\n",
       "      <th></th>\n",
       "      <th>PPA Execution Date</th>\n",
       "      <th>Capacity (MW)</th>\n",
       "      <th>CAISO</th>\n",
       "      <th>West (non-ISO)</th>\n",
       "      <th>MISO</th>\n",
       "      <th>SPP</th>\n",
       "      <th>ERCOT</th>\n",
       "      <th>PJM</th>\n",
       "      <th>NYISO</th>\n",
       "      <th>ISO-NE</th>\n",
       "      <th>Southeast (non-ISO)</th>\n",
       "      <th>Hawaii</th>\n",
       "    </tr>\n",
       "  </thead>\n",
       "  <tbody>\n",
       "    <tr>\n",
       "      <th>0</th>\n",
       "      <td>2006-09-01T00:00:00Z</td>\n",
       "      <td>7.0</td>\n",
       "      <td>NaN</td>\n",
       "      <td>239.87343</td>\n",
       "      <td>NaN</td>\n",
       "      <td>NaN</td>\n",
       "      <td>NaN</td>\n",
       "      <td>NaN</td>\n",
       "      <td>NaN</td>\n",
       "      <td>NaN</td>\n",
       "      <td>NaN</td>\n",
       "      <td>NaN</td>\n",
       "    </tr>\n",
       "    <tr>\n",
       "      <th>1</th>\n",
       "      <td>2007-06-25T00:00:00Z</td>\n",
       "      <td>5.0</td>\n",
       "      <td>220.631414</td>\n",
       "      <td>NaN</td>\n",
       "      <td>NaN</td>\n",
       "      <td>NaN</td>\n",
       "      <td>NaN</td>\n",
       "      <td>NaN</td>\n",
       "      <td>NaN</td>\n",
       "      <td>NaN</td>\n",
       "      <td>NaN</td>\n",
       "      <td>NaN</td>\n",
       "    </tr>\n",
       "    <tr>\n",
       "      <th>2</th>\n",
       "      <td>2008-07-01T00:00:00Z</td>\n",
       "      <td>550.0</td>\n",
       "      <td>150.730405</td>\n",
       "      <td>NaN</td>\n",
       "      <td>NaN</td>\n",
       "      <td>NaN</td>\n",
       "      <td>NaN</td>\n",
       "      <td>NaN</td>\n",
       "      <td>NaN</td>\n",
       "      <td>NaN</td>\n",
       "      <td>NaN</td>\n",
       "      <td>NaN</td>\n",
       "    </tr>\n",
       "    <tr>\n",
       "      <th>3</th>\n",
       "      <td>2008-07-23T00:00:00Z</td>\n",
       "      <td>210.0</td>\n",
       "      <td>131.770690</td>\n",
       "      <td>NaN</td>\n",
       "      <td>NaN</td>\n",
       "      <td>NaN</td>\n",
       "      <td>NaN</td>\n",
       "      <td>NaN</td>\n",
       "      <td>NaN</td>\n",
       "      <td>NaN</td>\n",
       "      <td>NaN</td>\n",
       "      <td>NaN</td>\n",
       "    </tr>\n",
       "    <tr>\n",
       "      <th>4</th>\n",
       "      <td>2008-12-19T00:00:00Z</td>\n",
       "      <td>10.0</td>\n",
       "      <td>168.787932</td>\n",
       "      <td>NaN</td>\n",
       "      <td>NaN</td>\n",
       "      <td>NaN</td>\n",
       "      <td>NaN</td>\n",
       "      <td>NaN</td>\n",
       "      <td>NaN</td>\n",
       "      <td>NaN</td>\n",
       "      <td>NaN</td>\n",
       "      <td>NaN</td>\n",
       "    </tr>\n",
       "  </tbody>\n",
       "</table>\n",
       "</div>"
      ],
      "text/plain": [
       "     PPA Execution Date  Capacity (MW)       CAISO  West (non-ISO)  MISO  SPP  \\\n",
       "0  2006-09-01T00:00:00Z            7.0         NaN       239.87343   NaN  NaN   \n",
       "1  2007-06-25T00:00:00Z            5.0  220.631414             NaN   NaN  NaN   \n",
       "2  2008-07-01T00:00:00Z          550.0  150.730405             NaN   NaN  NaN   \n",
       "3  2008-07-23T00:00:00Z          210.0  131.770690             NaN   NaN  NaN   \n",
       "4  2008-12-19T00:00:00Z           10.0  168.787932             NaN   NaN  NaN   \n",
       "\n",
       "   ERCOT  PJM  NYISO  ISO-NE  Southeast (non-ISO)  Hawaii  \n",
       "0    NaN  NaN    NaN     NaN                  NaN     NaN  \n",
       "1    NaN  NaN    NaN     NaN                  NaN     NaN  \n",
       "2    NaN  NaN    NaN     NaN                  NaN     NaN  \n",
       "3    NaN  NaN    NaN     NaN                  NaN     NaN  \n",
       "4    NaN  NaN    NaN     NaN                  NaN     NaN  "
      ]
     },
     "execution_count": 3,
     "metadata": {},
     "output_type": "execute_result"
    }
   ],
   "source": [
    "ppa_price.head()"
   ]
  },
  {
   "cell_type": "markdown",
   "metadata": {},
   "source": [
    "Check out the column types. In R you could use str(ppa_price). "
   ]
  },
  {
   "cell_type": "code",
   "execution_count": 4,
   "metadata": {},
   "outputs": [
    {
     "data": {
      "text/plain": [
       "PPA Execution Date      object\n",
       "Capacity (MW)          float64\n",
       "CAISO                  float64\n",
       "West (non-ISO)         float64\n",
       "MISO                   float64\n",
       "SPP                    float64\n",
       "ERCOT                  float64\n",
       "PJM                    float64\n",
       "NYISO                  float64\n",
       "ISO-NE                 float64\n",
       "Southeast (non-ISO)    float64\n",
       "Hawaii                 float64\n",
       "dtype: object"
      ]
     },
     "execution_count": 4,
     "metadata": {},
     "output_type": "execute_result"
    }
   ],
   "source": [
    "ppa_price.dtypes"
   ]
  },
  {
   "cell_type": "markdown",
   "metadata": {},
   "source": [
    "The data is of course in wide format, so I need to gather it into long format. The pd.melt function seems similar to tidyverse::pivot_longer, but when I checked the documentation it didn't look like there was a way to drop the NAs. "
   ]
  },
  {
   "cell_type": "code",
   "execution_count": 5,
   "metadata": {},
   "outputs": [],
   "source": [
    "ppa_price_long = pd.melt(\n",
    "    ppa_price,\n",
    "    id_vars=['PPA Execution Date', 'Capacity (MW)'],\n",
    "    var_name='region',\n",
    "    value_name='price'\n",
    ")"
   ]
  },
  {
   "cell_type": "markdown",
   "metadata": {},
   "source": [
    "So the result is what would happen if I used gather() or didn't specify values_drop_na in pivot_longer. It did what I wanted, I just need an extra step to filter out the NAs. "
   ]
  },
  {
   "cell_type": "code",
   "execution_count": 6,
   "metadata": {},
   "outputs": [
    {
     "data": {
      "text/html": [
       "<div>\n",
       "<style scoped>\n",
       "    .dataframe tbody tr th:only-of-type {\n",
       "        vertical-align: middle;\n",
       "    }\n",
       "\n",
       "    .dataframe tbody tr th {\n",
       "        vertical-align: top;\n",
       "    }\n",
       "\n",
       "    .dataframe thead th {\n",
       "        text-align: right;\n",
       "    }\n",
       "</style>\n",
       "<table border=\"1\" class=\"dataframe\">\n",
       "  <thead>\n",
       "    <tr style=\"text-align: right;\">\n",
       "      <th></th>\n",
       "      <th>PPA Execution Date</th>\n",
       "      <th>Capacity (MW)</th>\n",
       "      <th>region</th>\n",
       "      <th>price</th>\n",
       "    </tr>\n",
       "  </thead>\n",
       "  <tbody>\n",
       "    <tr>\n",
       "      <th>0</th>\n",
       "      <td>2006-09-01T00:00:00Z</td>\n",
       "      <td>7.0</td>\n",
       "      <td>CAISO</td>\n",
       "      <td>NaN</td>\n",
       "    </tr>\n",
       "    <tr>\n",
       "      <th>1</th>\n",
       "      <td>2007-06-25T00:00:00Z</td>\n",
       "      <td>5.0</td>\n",
       "      <td>CAISO</td>\n",
       "      <td>220.631414</td>\n",
       "    </tr>\n",
       "    <tr>\n",
       "      <th>2</th>\n",
       "      <td>2008-07-01T00:00:00Z</td>\n",
       "      <td>550.0</td>\n",
       "      <td>CAISO</td>\n",
       "      <td>150.730405</td>\n",
       "    </tr>\n",
       "    <tr>\n",
       "      <th>3</th>\n",
       "      <td>2008-07-23T00:00:00Z</td>\n",
       "      <td>210.0</td>\n",
       "      <td>CAISO</td>\n",
       "      <td>131.770690</td>\n",
       "    </tr>\n",
       "    <tr>\n",
       "      <th>4</th>\n",
       "      <td>2008-12-19T00:00:00Z</td>\n",
       "      <td>10.0</td>\n",
       "      <td>CAISO</td>\n",
       "      <td>168.787932</td>\n",
       "    </tr>\n",
       "  </tbody>\n",
       "</table>\n",
       "</div>"
      ],
      "text/plain": [
       "     PPA Execution Date  Capacity (MW) region       price\n",
       "0  2006-09-01T00:00:00Z            7.0  CAISO         NaN\n",
       "1  2007-06-25T00:00:00Z            5.0  CAISO  220.631414\n",
       "2  2008-07-01T00:00:00Z          550.0  CAISO  150.730405\n",
       "3  2008-07-23T00:00:00Z          210.0  CAISO  131.770690\n",
       "4  2008-12-19T00:00:00Z           10.0  CAISO  168.787932"
      ]
     },
     "execution_count": 6,
     "metadata": {},
     "output_type": "execute_result"
    }
   ],
   "source": [
    "ppa_price_long.head()"
   ]
  },
  {
   "cell_type": "markdown",
   "metadata": {},
   "source": [
    "There are only two column names that need to be cleaned, but I was happy to see that pyjanitor is available so I can use my beloved clean-names() function in Python as well, I'm going to go ahead and use that. Side note - it was very confusing to install pyjanitor and then not be able to import it, I finally figured out through googling that it's just called janitor when imported?"
   ]
  },
  {
   "cell_type": "markdown",
   "metadata": {},
   "source": [
    "Clean the column names. "
   ]
  },
  {
   "cell_type": "code",
   "execution_count": 7,
   "metadata": {},
   "outputs": [],
   "source": [
    "ppa_price_long = janitor.clean_names(ppa_price_long)"
   ]
  },
  {
   "cell_type": "markdown",
   "metadata": {},
   "source": [
    "Double check that everything worked as expected. "
   ]
  },
  {
   "cell_type": "code",
   "execution_count": 8,
   "metadata": {},
   "outputs": [
    {
     "data": {
      "text/plain": [
       "Index(['ppa_execution_date', 'capacity_mw_', 'region', 'price'], dtype='object')"
      ]
     },
     "execution_count": 8,
     "metadata": {},
     "output_type": "execute_result"
    }
   ],
   "source": [
    "ppa_price_long.columns"
   ]
  },
  {
   "cell_type": "markdown",
   "metadata": {},
   "source": [
    "Not sure why \"capacity_mw_\" has an extra underscore so I guess I'll fix that. Just changing one column name here but you could use this to rename several columns at once. "
   ]
  },
  {
   "cell_type": "code",
   "execution_count": 9,
   "metadata": {},
   "outputs": [],
   "source": [
    "ppa_price_long = ppa_price_long.rename(columns={\"capacity_mw_\" : \"capacity_mw\"})"
   ]
  },
  {
   "cell_type": "markdown",
   "metadata": {},
   "source": [
    "Now drop the NAs after the fact, which gives me 333 rows, same as what I had in R. "
   ]
  },
  {
   "cell_type": "code",
   "execution_count": 10,
   "metadata": {},
   "outputs": [],
   "source": [
    "ppa_price_long = ppa_price_long.dropna()"
   ]
  },
  {
   "cell_type": "markdown",
   "metadata": {},
   "source": [
    "Creating a year variable for aggregation later. First I had to convert the ppa_execution_date to datetime format, even though it kind of looked like it was formatted correctly. "
   ]
  },
  {
   "cell_type": "code",
   "execution_count": 11,
   "metadata": {},
   "outputs": [],
   "source": [
    "ppa_price_long['ppa_execution_date'] = pd.to_datetime(ppa_price_long['ppa_execution_date'])\n",
    "ppa_price_long['ppa_year'] = ppa_price_long['ppa_execution_date'].dt.year"
   ]
  },
  {
   "cell_type": "markdown",
   "metadata": {},
   "source": [
    "Python's categorical seems similar to R's factor variable. Changing the region to categorical and putting it in alphabetical order for the plots. "
   ]
  },
  {
   "cell_type": "code",
   "execution_count": 12,
   "metadata": {},
   "outputs": [],
   "source": [
    "ppa_price_long['region_cat'] = pd.Categorical(ppa_price_long['region'], ordered=True)"
   ]
  },
  {
   "cell_type": "markdown",
   "metadata": {},
   "source": [
    "Check the min and max values of capacity for mapping to the size scale. "
   ]
  },
  {
   "cell_type": "code",
   "execution_count": 13,
   "metadata": {},
   "outputs": [
    {
     "data": {
      "text/plain": [
       "min      3.6\n",
       "max    550.0\n",
       "Name: capacity_mw, dtype: float64"
      ]
     },
     "execution_count": 13,
     "metadata": {},
     "output_type": "execute_result"
    }
   ],
   "source": [
    "ppa_price_long['capacity_mw'].agg([min, max])"
   ]
  },
  {
   "cell_type": "markdown",
   "metadata": {},
   "source": [
    "I like this colormap function since I often want to map specific colors to variables. I'm still using tableau colors here to try and match to the dashboard. "
   ]
  },
  {
   "cell_type": "code",
   "execution_count": 14,
   "metadata": {},
   "outputs": [],
   "source": [
    "sns.set_style(\"whitegrid\")\n",
    "\n",
    "colormap = {\"CAISO\": \"#4E79A7\", \"ERCOT\": \"#F28E2B\", \"Hawaii\": \"#E15759\", \"ISO-NE\": \"#76B7B2\",\n",
    "\"MISO\": \"#59A14F\", \"NYISO\": \"#BAB0AC\", \"PJM\": \"#9C755F\", \"Southeast (non-ISO)\": \"#FF9DA7\",\n",
    "\"SPP\": \"#B07AA1\", \"West (non-ISO)\": \"#EDC948\"}"
   ]
  },
  {
   "cell_type": "markdown",
   "metadata": {},
   "source": [
    "This is my first attempt at a bubble chart in seaborn. It's not terrible, but the legend was a bit hard to deal with. I wanted to remove the size legend and put the color legend on the top or the bottom of the chart. "
   ]
  },
  {
   "cell_type": "code",
   "execution_count": 15,
   "metadata": {},
   "outputs": [
    {
     "data": {
      "text/plain": [
       "<matplotlib.legend.Legend at 0x168515f60>"
      ]
     },
     "execution_count": 15,
     "metadata": {},
     "output_type": "execute_result"
    },
    {
     "data": {
      "image/png": "[encoded data removed]",
      "text/plain": [
       "<Figure size 488.125x360 with 1 Axes>"
      ]
     },
     "metadata": {
      "needs_background": "light"
     },
     "output_type": "display_data"
    }
   ],
   "source": [
    "p = sns.relplot(data=ppa_price_long, \n",
    "    x=\"ppa_execution_date\", \n",
    "    y = \"price\", \n",
    "    size = \"capacity_mw\", \n",
    "    hue = \"region_cat\",\n",
    "    palette = colormap,\n",
    "    ec=ppa_price_long[\"region_cat\"].map(colormap),\n",
    "    fc=\"none\",\n",
    "    sizes = (3, 550))\n",
    "\n",
    "p.set(xlabel=None, ylabel=\"PPA Price (2020 $/MWh)\")\n",
    "\n",
    "p.legend.remove()\n",
    "p.fig.legend(handles=p.legend.legendHandles[:11])"
   ]
  },
  {
   "cell_type": "markdown",
   "metadata": {},
   "source": [
    "I looked at the stacked bar plots for Seaborn, and there is not a great way to do them in this package. I wanted to try and do it all in Seaborn but that isn't working out very well (how do they NOT have stacked bar functions???). I will have to switch to Plotly. \n",
    "\n",
    "At least with plotly (see below) I was able to deal with the legend pretty easily. I am somewhat familiar with this from R and using it in Shiny dashboards, but I use ggplot2 in R about 95% of the time. "
   ]
  },
  {
   "cell_type": "code",
   "execution_count": 16,
   "metadata": {},
   "outputs": [
    {
     "data": {
      "text/html": [
       "        <script type=\"text/javascript\">\n",
       "        window.PlotlyConfig = {MathJaxConfig: 'local'};\n",
       "        if (window.MathJax) {MathJax.Hub.Config({SVG: {font: \"STIX-Web\"}});}\n",
       "        if (typeof require !== 'undefined') {\n",
       "        require.undef(\"plotly\");\n",
       "        requirejs.config({\n",
       "            paths: {\n",
       "                'plotly': ['https://cdn.plot.ly/plotly-2.11.1.min']\n",
       "            }\n",
       "        });\n",
       "        require(['plotly'], function(Plotly) {\n",
       "            window._Plotly = Plotly;\n",
       "        });\n",
       "        }\n",
       "        </script>\n",
       "        "
      ]
     },
     "metadata": {},
     "output_type": "display_data"
    },
    {
     "data": {
      "text/html": [
       "<div>                            <div id=\"4254f5dd-60dd-40af-ad07-3b991ca8e04b\" class=\"plotly-graph-div\" style=\"height:525px; width:100%;\"></div>            <script type=\"text/javascript\">                require([\"plotly\"], function(Plotly) {                    window.PLOTLYENV=window.PLOTLYENV || {};                                    if (document.getElementById(\"4254f5dd-60dd-40af-ad07-3b991ca8e04b\")) {                    Plotly.newPlot(                        \"4254f5dd-60dd-40af-ad07-3b991ca8e04b\",                        [{\"hovertemplate\":\"Region=CAISO<br>=%{x}<br>PPA Price (2020 $/MWh)=%{y}<br>capacity_mw=%{marker.size}<extra></extra>\",\"legendgroup\":\"CAISO\",\"marker\":{\"color\":\"#4E79A7\",\"size\":[5.0,550.0,210.0,10.0,230.0,48.0,250.0,250.0,21.0,20.0,19.0,6.0,50.0,20.0,20.0,300.0,40.0,66.0,125.0,25.8,150.0,45.0,62.5,130.0,20.0,14.0,60.0,309.0,20.0,270.0,110.0,26.0,150.0,110.0,150.0,23.0,20.0,150.0,250.0,200.0,20.0,20.0,20.0,20.0,20.0,102.0,20.0,20.8,20.0,10.0,20.0,20.0,45.0,20.0,20.0,20.0,20.0,20.0,20.0,40.0,20.0,20.0,12.0,15.0,20.0,20.0,20.0,7.314,150.0,7.0,20.0,26.66,30.0,93.6,75.0,60.0,30.0,40.0,11.4,20.0,20.0,20.0,20.0,19.5,19.5,15.0,14.7,130.0,10.5,20.0,54.0,6.8,20.0,100.815,125.0,150.0,10.0,10.0,55.0,154.272,85.0,54.0,20.0,20.0,20.0,20.0,26.0,20.0,100.0,80.0,60.0,17.0,252.32,200.0,62.5,50.0,45.0,106.688,100.0,400.0,44.0,50.0,90.0],\"sizemode\":\"area\",\"sizeref\":1.375,\"symbol\":\"circle-open\",\"line\":{\"width\":2}},\"mode\":\"markers\",\"name\":\"CAISO\",\"orientation\":\"v\",\"showlegend\":true,\"x\":[\"2007-06-25T00:00:00+00:00\",\"2008-07-01T00:00:00+00:00\",\"2008-07-23T00:00:00+00:00\",\"2008-12-19T00:00:00+00:00\",\"2009-05-08T00:00:00+00:00\",\"2009-06-22T00:00:00+00:00\",\"2009-08-17T00:00:00+00:00\",\"2009-09-08T00:00:00+00:00\",\"2009-11-20T00:00:00+00:00\",\"2009-12-24T00:00:00+00:00\",\"2009-12-24T00:00:00+00:00\",\"2009-12-24T00:00:00+00:00\",\"2010-01-26T00:00:00+00:00\",\"2010-01-26T00:00:00+00:00\",\"2010-01-26T00:00:00+00:00\",\"2010-02-24T00:00:00+00:00\",\"2010-03-06T00:00:00+00:00\",\"2010-04-21T00:00:00+00:00\",\"2010-05-10T00:00:00+00:00\",\"2010-05-20T00:00:00+00:00\",\"2010-07-29T00:00:00+00:00\",\"2010-07-29T00:00:00+00:00\",\"2010-09-20T00:00:00+00:00\",\"2010-11-10T00:00:00+00:00\",\"2010-11-15T00:00:00+00:00\",\"2010-11-15T00:00:00+00:00\",\"2010-12-21T00:00:00+00:00\",\"2010-12-30T00:00:00+00:00\",\"2010-12-30T00:00:00+00:00\",\"2011-01-05T00:00:00+00:00\",\"2011-01-07T00:00:00+00:00\",\"2011-01-25T00:00:00+00:00\",\"2011-03-08T00:00:00+00:00\",\"2011-06-03T00:00:00+00:00\",\"2011-06-21T00:00:00+00:00\",\"2011-07-08T00:00:00+00:00\",\"2011-07-14T00:00:00+00:00\",\"2011-07-21T00:00:00+00:00\",\"2011-09-29T00:00:00+00:00\",\"2012-02-03T00:00:00+00:00\",\"2012-02-27T00:00:00+00:00\",\"2012-07-03T00:00:00+00:00\",\"2012-07-03T00:00:00+00:00\",\"2012-08-03T00:00:00+00:00\",\"2012-08-13T00:00:00+00:00\",\"2012-08-16T00:00:00+00:00\",\"2012-08-29T00:00:00+00:00\",\"2012-09-17T00:00:00+00:00\",\"2012-09-17T00:00:00+00:00\",\"2012-10-17T00:00:00+00:00\",\"2012-11-01T00:00:00+00:00\",\"2012-11-15T00:00:00+00:00\",\"2013-02-28T00:00:00+00:00\",\"2013-03-22T00:00:00+00:00\",\"2013-03-22T00:00:00+00:00\",\"2013-03-25T00:00:00+00:00\",\"2013-04-10T00:00:00+00:00\",\"2013-04-16T00:00:00+00:00\",\"2013-06-01T00:00:00+00:00\",\"2013-07-10T00:00:00+00:00\",\"2013-07-10T00:00:00+00:00\",\"2013-07-17T00:00:00+00:00\",\"2013-07-17T00:00:00+00:00\",\"2013-09-06T00:00:00+00:00\",\"2013-09-27T00:00:00+00:00\",\"2013-10-09T00:00:00+00:00\",\"2013-10-22T00:00:00+00:00\",\"2013-12-01T00:00:00+00:00\",\"2013-12-19T00:00:00+00:00\",\"2014-01-30T00:00:00+00:00\",\"2014-03-17T00:00:00+00:00\",\"2014-03-26T00:00:00+00:00\",\"2014-06-12T00:00:00+00:00\",\"2014-07-18T00:00:00+00:00\",\"2014-07-23T00:00:00+00:00\",\"2014-09-03T00:00:00+00:00\",\"2014-10-03T00:00:00+00:00\",\"2014-10-20T00:00:00+00:00\",\"2014-10-21T00:00:00+00:00\",\"2014-10-22T00:00:00+00:00\",\"2014-10-22T00:00:00+00:00\",\"2014-10-22T00:00:00+00:00\",\"2014-10-22T00:00:00+00:00\",\"2014-10-22T00:00:00+00:00\",\"2014-10-22T00:00:00+00:00\",\"2014-10-22T00:00:00+00:00\",\"2014-10-22T00:00:00+00:00\",\"2014-12-09T00:00:00+00:00\",\"2015-03-05T00:00:00+00:00\",\"2015-03-23T00:00:00+00:00\",\"2015-04-03T00:00:00+00:00\",\"2015-04-14T00:00:00+00:00\",\"2015-04-17T00:00:00+00:00\",\"2015-06-25T00:00:00+00:00\",\"2015-07-15T00:00:00+00:00\",\"2015-07-16T00:00:00+00:00\",\"2015-08-12T00:00:00+00:00\",\"2015-08-16T00:00:00+00:00\",\"2015-10-08T00:00:00+00:00\",\"2015-10-09T00:00:00+00:00\",\"2015-11-05T00:00:00+00:00\",\"2015-11-06T00:00:00+00:00\",\"2015-12-18T00:00:00+00:00\",\"2015-12-18T00:00:00+00:00\",\"2015-12-18T00:00:00+00:00\",\"2015-12-18T00:00:00+00:00\",\"2016-01-06T00:00:00+00:00\",\"2016-08-04T00:00:00+00:00\",\"2016-09-15T00:00:00+00:00\",\"2016-11-18T00:00:00+00:00\",\"2017-01-17T00:00:00+00:00\",\"2017-03-23T00:00:00+00:00\",\"2017-08-08T00:00:00+00:00\",\"2017-09-23T00:00:00+00:00\",\"2017-09-26T00:00:00+00:00\",\"2017-09-26T00:00:00+00:00\",\"2017-12-08T00:00:00+00:00\",\"2018-02-21T00:00:00+00:00\",\"2018-05-07T00:00:00+00:00\",\"2019-07-01T00:00:00+00:00\",\"2019-11-26T00:00:00+00:00\",\"2021-02-23T00:00:00+00:00\",\"2021-06-01T00:00:00+00:00\"],\"xaxis\":\"x\",\"y\":[220.6314143578111,150.73040524305304,131.7706901652578,168.7879318708772,142.78340860236398,166.37159677334844,145.58888183815037,194.79262084030665,117.45124673431536,240.08263936563256,240.08263936563256,240.08263936563256,164.2326074511121,164.2326074511121,163.20807880481198,141.8306416215412,133.81512112509478,140.64368111356367,133.21471916752552,160.55576052646407,154.49478261403425,128.94246662977548,124.4615005333284,130.46105532275735,77.03929545206913,78.97446706708662,124.70222447672158,110.49071387284506,147.93328369973588,110.72793418415294,123.30544471010371,135.50909530311614,94.32048885309872,119.61881898299148,107.10791682952232,126.51001719203325,101.06462360792489,115.93134912455014,85.82776323970987,86.71512352950455,76.75697234459739,91.37579266315252,94.20718002761828,87.99418833534409,91.28766996706317,89.01428111429372,86.0512793615273,100.91375636786022,83.85064536247386,86.45576043916415,71.0327123526809,82.26990645632094,80.46987051642836,86.87988724301653,85.54537932553805,75.76944474010614,85.05792221307597,62.48902244110074,58.951732971391216,58.75522719481988,63.02709190289174,79.5726791439734,79.5726791439734,66.28936478798892,63.68742869174033,65.82685163214958,63.91986456287807,81.53604720116765,56.080659271407015,68.41520328208978,63.18045750983538,59.117106335814285,56.86209041021481,54.488431930163024,57.44522771982516,50.30075901370044,59.11949866100642,56.4938126225839,61.90740212283591,56.28496860550723,56.28496860550723,56.28496860550723,49.75052347232684,64.20597530016389,64.2219628438143,56.28496860550723,66.2044182564688,59.05724259119822,83.88826905117325,68.10352598380763,45.32687067963806,63.489127014754814,52.96529741520359,54.667308533996064,51.94942711425971,48.8948750771606,50.141477338304576,50.141477338304576,49.01080936413655,42.59416644624804,51.50922085544329,44.588438658721486,51.162849398788495,51.093216616311146,51.14188698885673,50.756371673595154,29.29335002239008,41.14025209578461,41.91675639277014,34.52772845137561,39.19113706794416,32.88355090607199,48.292314630589125,29.92160134279507,28.85320800014828,28.33044385753893,19.55306526953357,45.705585928787485,30.171215499609826,15.214713375484603,23.636449894044457,20.535411149143357,17.37611712619826],\"yaxis\":\"y\",\"type\":\"scatter\"},{\"hovertemplate\":\"Region=West (non-ISO)<br>=%{x}<br>PPA Price (2020 $/MWh)=%{y}<br>capacity_mw=%{marker.size}<extra></extra>\",\"legendgroup\":\"West (non-ISO)\",\"marker\":{\"color\":\"#EDC948\",\"size\":[7.0,30.0,19.0,20.0,50.0,29.0,25.0,20.0,23.0,12.0,10.0,20.0,30.0,23.0,9.0,250.0,30.0,20.0,127.0,9.0,19.0,20.0,20.0,15.0,15.0,250.0,50.0,250.0,20.0,48.0,40.0,50.0,10.416,30.0,56.0,56.0,105.0,60.0,120.0,52.0,30.0,45.0,30.0,100.0,100.0,46.0,30.0,30.0,150.0,10.88,25.0,71.4,46.2,86.0,50.0,90.0,100.0,7.8,200.0,56.0,100.0,50.0,25.0,25.0,50.0,50.0,30.0,300.0,250.0,200.0,101.0,100.0,50.0,60.0,30.0,122.0,58.0,35.0,50.0,50.0,100.0,13.0,22.0,160.0,120.0,50.0,300.0,50.0,66.0,100.0,100.0,200.0,127.86,150.0,100.0,200.0,190.0,50.0,130.0,350.0,250.0],\"sizemode\":\"area\",\"sizeref\":1.375,\"symbol\":\"circle-open\",\"line\":{\"width\":2}},\"mode\":\"markers\",\"name\":\"West (non-ISO)\",\"orientation\":\"v\",\"showlegend\":true,\"x\":[\"2006-09-01T00:00:00+00:00\",\"2009-02-23T00:00:00+00:00\",\"2009-03-05T00:00:00+00:00\",\"2009-06-01T00:00:00+00:00\",\"2010-02-02T00:00:00+00:00\",\"2010-04-19T00:00:00+00:00\",\"2010-04-29T00:00:00+00:00\",\"2010-06-01T00:00:00+00:00\",\"2010-06-24T00:00:00+00:00\",\"2010-06-30T00:00:00+00:00\",\"2010-06-30T00:00:00+00:00\",\"2010-07-26T00:00:00+00:00\",\"2010-08-10T00:00:00+00:00\",\"2010-08-24T00:00:00+00:00\",\"2010-12-01T00:00:00+00:00\",\"2011-02-07T00:00:00+00:00\",\"2011-02-11T00:00:00+00:00\",\"2011-02-11T00:00:00+00:00\",\"2011-06-03T00:00:00+00:00\",\"2011-10-01T00:00:00+00:00\",\"2011-12-08T00:00:00+00:00\",\"2011-12-20T00:00:00+00:00\",\"2011-12-20T00:00:00+00:00\",\"2012-01-01T00:00:00+00:00\",\"2012-01-01T00:00:00+00:00\",\"2012-08-31T00:00:00+00:00\",\"2012-10-25T00:00:00+00:00\",\"2012-12-12T00:00:00+00:00\",\"2012-12-13T00:00:00+00:00\",\"2013-06-03T00:00:00+00:00\",\"2013-06-03T00:00:00+00:00\",\"2013-07-03T00:00:00+00:00\",\"2014-02-20T00:00:00+00:00\",\"2014-05-27T00:00:00+00:00\",\"2014-07-24T00:00:00+00:00\",\"2014-07-24T00:00:00+00:00\",\"2014-08-19T00:00:00+00:00\",\"2014-08-25T00:00:00+00:00\",\"2014-09-04T00:00:00+00:00\",\"2014-09-04T00:00:00+00:00\",\"2014-11-13T00:00:00+00:00\",\"2014-11-18T00:00:00+00:00\",\"2015-03-25T00:00:00+00:00\",\"2015-06-05T00:00:00+00:00\",\"2015-06-19T00:00:00+00:00\",\"2015-06-23T00:00:00+00:00\",\"2015-08-05T00:00:00+00:00\",\"2015-08-09T00:00:00+00:00\",\"2015-08-28T00:00:00+00:00\",\"2015-09-03T00:00:00+00:00\",\"2015-09-24T00:00:00+00:00\",\"2015-09-28T00:00:00+00:00\",\"2015-09-28T00:00:00+00:00\",\"2015-11-20T00:00:00+00:00\",\"2015-11-30T00:00:00+00:00\",\"2015-12-17T00:00:00+00:00\",\"2016-05-19T00:00:00+00:00\",\"2016-12-13T00:00:00+00:00\",\"2016-12-15T00:00:00+00:00\",\"2017-04-01T00:00:00+00:00\",\"2017-05-22T00:00:00+00:00\",\"2017-06-07T00:00:00+00:00\",\"2017-10-06T00:00:00+00:00\",\"2017-10-06T00:00:00+00:00\",\"2017-10-30T00:00:00+00:00\",\"2018-01-05T00:00:00+00:00\",\"2018-01-09T00:00:00+00:00\",\"2018-05-30T00:00:00+00:00\",\"2018-05-30T00:00:00+00:00\",\"2018-05-30T00:00:00+00:00\",\"2018-05-30T00:00:00+00:00\",\"2018-05-30T00:00:00+00:00\",\"2018-05-30T00:00:00+00:00\",\"2018-06-06T00:00:00+00:00\",\"2018-06-08T00:00:00+00:00\",\"2018-06-13T00:00:00+00:00\",\"2018-06-13T00:00:00+00:00\",\"2018-07-10T00:00:00+00:00\",\"2018-08-22T00:00:00+00:00\",\"2018-08-22T00:00:00+00:00\",\"2018-09-20T00:00:00+00:00\",\"2018-10-18T00:00:00+00:00\",\"2019-02-14T00:00:00+00:00\",\"2019-03-21T00:00:00+00:00\",\"2019-03-22T00:00:00+00:00\",\"2019-05-30T00:00:00+00:00\",\"2019-06-27T00:00:00+00:00\",\"2019-06-27T00:00:00+00:00\",\"2019-08-08T00:00:00+00:00\",\"2019-10-17T00:00:00+00:00\",\"2019-10-17T00:00:00+00:00\",\"2020-03-25T00:00:00+00:00\",\"2020-04-08T00:00:00+00:00\",\"2020-06-01T00:00:00+00:00\",\"2020-09-23T00:00:00+00:00\",\"2020-09-25T00:00:00+00:00\",\"2021-02-01T00:00:00+00:00\",\"2021-02-04T00:00:00+00:00\",\"2021-03-25T00:00:00+00:00\",\"2021-06-01T00:00:00+00:00\",\"2021-06-01T00:00:00+00:00\"],\"xaxis\":\"x\",\"y\":[239.8734302320258,132.09678867228317,150.76036112897177,131.3546881148436,139.12708403650188,106.66165297410052,132.5178721596421,132.5178721596421,128.07170992260362,100.78435541286748,100.4796315006849,134.09801601299415,133.6436758491672,114.43455922227665,138.7308344812717,115.56695260570278,114.50864091068806,118.11935828776366,111.74425078754808,137.69097724320744,108.14725440354329,85.45749116114865,84.6405675400007,86.33288530907207,77.45618889483875,91.64662310148012,55.8340317259893,80.77785758242976,83.79413414393903,66.3572270235101,67.24666182926795,57.23783844618241,48.85891785120887,62.709645900907255,57.23783844618241,57.801671239864994,60.43582757285074,60.41399429955781,55.60206489882865,46.39419987909261,61.57230304761718,48.83003544231693,47.09490628352168,41.94413452558663,44.13461575434536,49.0330581395708,45.015431742091714,41.03766728729554,51.02119830262794,74.94414326883394,41.174060435802566,19.77863090217169,19.77863090217169,43.98172496666524,46.09895560719272,41.81822904546088,34.67772775209999,41.03038820681432,31.780265356808343,52.2935367179593,27.106106642536467,29.778494773970237,27.837441245399287,27.837441245399287,30.35421794446503,23.89049601934857,27.79697171721862,18.93389544428695,21.688107514517636,21.125318528116463,21.117349716902517,23.87455839692077,24.329272480262663,24.63753916920032,21.498338798626406,23.230426115312707,19.657140528549466,27.819560277691508,25.12814865333436,25.12814865333436,21.55366795842608,36.62821216499901,25.04208876693174,26.98477540798781,19.70752477461863,19.071621426276664,15.06666150942635,16.290640482574158,21.942745109630557,12.10987967969443,16.957063007123832,18.172685515422035,18.951401844782342,24.24390911915167,22.095077334198983,21.25489889077789,16.301957158396895,16.368885781181255,18.816870408402647,18.598115371486017,19.702177660993065],\"yaxis\":\"y\",\"type\":\"scatter\"},{\"hovertemplate\":\"Region=MISO<br>=%{x}<br>PPA Price (2020 $/MWh)=%{y}<br>capacity_mw=%{marker.size}<extra></extra>\",\"legendgroup\":\"MISO\",\"marker\":{\"color\":\"#59A14F\",\"size\":[28.8,100.0,62.25,81.0,20.0,52.0,100.0,10.0,40.0,10.5,100.0,9.307692307692308],\"sizemode\":\"area\",\"sizeref\":1.375,\"symbol\":\"circle-open\",\"line\":{\"width\":2}},\"mode\":\"markers\",\"name\":\"MISO\",\"orientation\":\"v\",\"showlegend\":true,\"x\":[\"2013-02-04T00:00:00+00:00\",\"2014-10-24T00:00:00+00:00\",\"2015-03-03T00:00:00+00:00\",\"2015-04-03T00:00:00+00:00\",\"2015-07-01T00:00:00+00:00\",\"2015-09-23T00:00:00+00:00\",\"2017-06-19T00:00:00+00:00\",\"2018-02-01T00:00:00+00:00\",\"2018-08-10T00:00:00+00:00\",\"2018-10-01T00:00:00+00:00\",\"2019-08-19T00:00:00+00:00\",\"2019-09-19T00:00:00+00:00\"],\"xaxis\":\"x\",\"y\":[99.91057583938934,66.35840065079067,62.332700687839,47.40774316126852,65.78777369214149,43.262990790301664,28.197735863712957,36.788433526466406,42.86942230482897,42.852437401430905,37.39622146341349,38.77729503000642],\"yaxis\":\"y\",\"type\":\"scatter\"},{\"hovertemplate\":\"Region=SPP<br>=%{x}<br>PPA Price (2020 $/MWh)=%{y}<br>capacity_mw=%{marker.size}<extra></extra>\",\"legendgroup\":\"SPP\",\"marker\":{\"color\":\"#B07AA1\",\"size\":[50.0,25.0,70.0,70.0,3.6,5.681481481481481,4.6],\"sizemode\":\"area\",\"sizeref\":1.375,\"symbol\":\"circle-open\",\"line\":{\"width\":2}},\"mode\":\"markers\",\"name\":\"SPP\",\"orientation\":\"v\",\"showlegend\":true,\"x\":[\"2009-12-23T00:00:00+00:00\",\"2015-03-02T00:00:00+00:00\",\"2015-03-04T00:00:00+00:00\",\"2015-03-04T00:00:00+00:00\",\"2015-06-01T00:00:00+00:00\",\"2018-06-01T00:00:00+00:00\",\"2019-02-01T00:00:00+00:00\"],\"xaxis\":\"x\",\"y\":[133.1772693211324,42.28745952619294,37.458763505044814,37.93510332605691,74.0088224297874,59.32046953037359,43.11242694572076],\"yaxis\":\"y\",\"type\":\"scatter\"},{\"hovertemplate\":\"Region=ERCOT<br>=%{x}<br>PPA Price (2020 $/MWh)=%{y}<br>capacity_mw=%{marker.size}<extra></extra>\",\"legendgroup\":\"ERCOT\",\"marker\":{\"color\":\"#F28E2B\",\"size\":[30.0,14.0,157.5,170.0,118.5,30.0,150.0,20.0,150.0,144.0],\"sizemode\":\"area\",\"sizeref\":1.375,\"symbol\":\"circle-open\",\"line\":{\"width\":2}},\"mode\":\"markers\",\"name\":\"ERCOT\",\"orientation\":\"v\",\"showlegend\":true,\"x\":[\"2009-03-01T00:00:00+00:00\",\"2009-06-01T00:00:00+00:00\",\"2014-05-01T00:00:00+00:00\",\"2015-10-01T00:00:00+00:00\",\"2015-10-01T00:00:00+00:00\",\"2015-11-10T00:00:00+00:00\",\"2016-11-18T00:00:00+00:00\",\"2017-01-31T00:00:00+00:00\",\"2017-12-14T00:00:00+00:00\",\"2018-10-18T00:00:00+00:00\"],\"xaxis\":\"x\",\"y\":[159.50239793933142,201.8761794144841,43.76779254843824,33.477572124902736,36.02311237955543,43.76779254843824,34.21565610106187,36.45492387680337,20.186253695552864,30.71821214540652],\"yaxis\":\"y\",\"type\":\"scatter\"},{\"hovertemplate\":\"Region=PJM<br>=%{x}<br>PPA Price (2020 $/MWh)=%{y}<br>capacity_mw=%{marker.size}<extra></extra>\",\"legendgroup\":\"PJM\",\"marker\":{\"color\":\"#9C755F\",\"size\":[10.08,20.0,10.3,80.0,60.0,20.0,100.0,8.4,8.4,86.0,70.0,17.5,90.0,88.0,70.0],\"sizemode\":\"area\",\"sizeref\":1.375,\"symbol\":\"circle-open\",\"line\":{\"width\":2}},\"mode\":\"markers\",\"name\":\"PJM\",\"orientation\":\"v\",\"showlegend\":true,\"x\":[\"2009-06-01T00:00:00+00:00\",\"2011-12-01T00:00:00+00:00\",\"2014-04-01T00:00:00+00:00\",\"2015-06-09T00:00:00+00:00\",\"2016-08-26T00:00:00+00:00\",\"2016-08-29T00:00:00+00:00\",\"2016-09-20T00:00:00+00:00\",\"2017-07-28T00:00:00+00:00\",\"2017-07-28T00:00:00+00:00\",\"2018-08-23T00:00:00+00:00\",\"2018-11-01T00:00:00+00:00\",\"2019-07-25T00:00:00+00:00\",\"2019-09-22T00:00:00+00:00\",\"2019-09-22T00:00:00+00:00\",\"2019-09-22T00:00:00+00:00\"],\"xaxis\":\"x\",\"y\":[227.7499128805374,225.77118960531632,64.79562042910489,67.58330731230001,51.74253222905902,43.12107492182049,42.2295099254328,82.81012585417109,82.17938106977354,28.234842882276205,37.52097475180009,24.156762396383648,31.61005671449397,32.28506171636523,31.61005671449397],\"yaxis\":\"y\",\"type\":\"scatter\"},{\"hovertemplate\":\"Region=NYISO<br>=%{x}<br>PPA Price (2020 $/MWh)=%{y}<br>capacity_mw=%{marker.size}<extra></extra>\",\"legendgroup\":\"NYISO\",\"marker\":{\"color\":\"#BAB0AC\",\"size\":[32.0,24.9,6.3,500.0,90.0],\"sizemode\":\"area\",\"sizeref\":1.375,\"symbol\":\"circle-open\",\"line\":{\"width\":2}},\"mode\":\"markers\",\"name\":\"NYISO\",\"orientation\":\"v\",\"showlegend\":true,\"x\":[\"2010-06-01T00:00:00+00:00\",\"2016-09-22T00:00:00+00:00\",\"2018-04-16T00:00:00+00:00\",\"2021-01-15T00:00:00+00:00\",\"2021-01-15T00:00:00+00:00\"],\"xaxis\":\"x\",\"y\":[323.5796626050128,148.5921650730072,158.18619819742358,39.50406751768193,47.35781740394759],\"yaxis\":\"y\",\"type\":\"scatter\"},{\"hovertemplate\":\"Region=ISO-NE<br>=%{x}<br>PPA Price (2020 $/MWh)=%{y}<br>capacity_mw=%{marker.size}<extra></extra>\",\"legendgroup\":\"ISO-NE\",\"marker\":{\"color\":\"#76B7B2\",\"size\":[20.0,78.4,49.36,19.6,19.59,19.58,19.58,50.0,50.0],\"sizemode\":\"area\",\"sizeref\":1.375,\"symbol\":\"circle-open\",\"line\":{\"width\":2}},\"mode\":\"markers\",\"name\":\"ISO-NE\",\"orientation\":\"v\",\"showlegend\":true,\"x\":[\"2013-09-19T00:00:00+00:00\",\"2017-05-25T00:00:00+00:00\",\"2017-05-25T00:00:00+00:00\",\"2017-06-20T00:00:00+00:00\",\"2017-06-20T00:00:00+00:00\",\"2017-06-20T00:00:00+00:00\",\"2017-06-20T00:00:00+00:00\",\"2019-12-20T00:00:00+00:00\",\"2020-08-24T00:00:00+00:00\"],\"xaxis\":\"x\",\"y\":[100.71927867926507,72.99455970642049,67.91892149465998,83.37244906647182,89.37934072069407,82.1995307006304,81.65755577293386,42.77639286456439,42.37403108275164],\"yaxis\":\"y\",\"type\":\"scatter\"},{\"hovertemplate\":\"Region=Southeast (non-ISO)<br>=%{x}<br>PPA Price (2020 $/MWh)=%{y}<br>capacity_mw=%{marker.size}<extra></extra>\",\"legendgroup\":\"Southeast (non-ISO)\",\"marker\":{\"color\":\"#FF9DA7\",\"size\":[12.6,5.5,7.65,30.0,20.0,20.0,103.0,101.3,80.0,76.5,51.0,30.0,50.0,40.0,80.0,6.0,52.0,50.6,4.9,7.06,13.0,20.0,52.0,146.0,72.0,20.4,8.16,7.2,52.5,40.0,5.0,200.0,150.0,50.0,120.0,57.5,74.5,74.5,42.0,102.5,20.0,250.0,25.0,100.0,7.5],\"sizemode\":\"area\",\"sizeref\":1.375,\"symbol\":\"circle-open\",\"line\":{\"width\":2}},\"mode\":\"markers\",\"name\":\"Southeast (non-ISO)\",\"orientation\":\"v\",\"showlegend\":true,\"x\":[\"2009-05-01T00:00:00+00:00\",\"2010-08-10T00:00:00+00:00\",\"2010-12-01T00:00:00+00:00\",\"2011-12-20T00:00:00+00:00\",\"2013-12-06T00:00:00+00:00\",\"2014-06-01T00:00:00+00:00\",\"2014-10-08T00:00:00+00:00\",\"2014-10-08T00:00:00+00:00\",\"2014-10-08T00:00:00+00:00\",\"2014-10-08T00:00:00+00:00\",\"2014-10-08T00:00:00+00:00\",\"2014-10-08T00:00:00+00:00\",\"2014-11-07T00:00:00+00:00\",\"2014-11-07T00:00:00+00:00\",\"2015-02-01T00:00:00+00:00\",\"2015-03-02T00:00:00+00:00\",\"2015-04-30T00:00:00+00:00\",\"2015-04-30T00:00:00+00:00\",\"2015-05-27T00:00:00+00:00\",\"2015-06-30T00:00:00+00:00\",\"2015-07-01T00:00:00+00:00\",\"2015-07-21T00:00:00+00:00\",\"2015-09-23T00:00:00+00:00\",\"2015-10-01T00:00:00+00:00\",\"2015-11-09T00:00:00+00:00\",\"2016-04-12T00:00:00+00:00\",\"2016-04-12T00:00:00+00:00\",\"2017-01-03T00:00:00+00:00\",\"2017-05-26T00:00:00+00:00\",\"2017-06-01T00:00:00+00:00\",\"2017-06-26T00:00:00+00:00\",\"2017-11-13T00:00:00+00:00\",\"2017-11-13T00:00:00+00:00\",\"2017-12-15T00:00:00+00:00\",\"2018-01-29T00:00:00+00:00\",\"2018-01-29T00:00:00+00:00\",\"2018-05-16T00:00:00+00:00\",\"2018-05-16T00:00:00+00:00\",\"2018-06-27T00:00:00+00:00\",\"2018-08-31T00:00:00+00:00\",\"2018-10-01T00:00:00+00:00\",\"2018-12-11T00:00:00+00:00\",\"2019-11-19T00:00:00+00:00\",\"2019-11-21T00:00:00+00:00\",\"2020-12-30T00:00:00+00:00\"],\"xaxis\":\"x\",\"y\":[210.07052991375707,193.81673462055173,149.3925483002305,114.93490899607748,67.0862896085588,65.58458668719523,57.73982530903569,52.77112087849444,59.67731806168005,53.48009915046671,53.536803141567646,57.16171408259154,70.53812253614016,70.53812253614016,57.600630794613295,101.09010539785216,59.72252901362384,44.735214561102765,66.6109946095628,61.05251969094105,63.828030799805845,46.30179070464344,46.990511788790016,57.92483641667312,38.427662113827445,45.5695364855956,48.359508107162696,51.82785878755491,37.79605830501531,28.16313289573078,48.57126229445577,25.19577306639521,26.472002052703704,34.79424677124418,26.339422380337645,23.842103648585827,29.722613228308678,29.722613228308678,40.449710166509554,22.639206198491404,21.502748501784545,25.898636445257807,21.502748501784545,22.97038105551004,36.65653158405725],\"yaxis\":\"y\",\"type\":\"scatter\"},{\"hovertemplate\":\"Region=Hawaii<br>=%{x}<br>PPA Price (2020 $/MWh)=%{y}<br>capacity_mw=%{marker.size}<extra></extra>\",\"legendgroup\":\"Hawaii\",\"marker\":{\"color\":\"#E15759\",\"size\":[6.0,12.0,27.6,45.9,14.7,49.0],\"sizemode\":\"area\",\"sizeref\":1.375,\"symbol\":\"circle-open\",\"line\":{\"width\":2}},\"mode\":\"markers\",\"name\":\"Hawaii\",\"orientation\":\"v\",\"showlegend\":true,\"x\":[\"2011-07-18T00:00:00+00:00\",\"2013-06-19T00:00:00+00:00\",\"2015-07-01T00:00:00+00:00\",\"2017-01-12T00:00:00+00:00\",\"2017-01-12T00:00:00+00:00\",\"2017-03-31T00:00:00+00:00\"],\"xaxis\":\"x\",\"y\":[196.3227735698401,152.21295504145908,130.3379195325974,90.24429598097488,98.62202378376897,95.01674773241189],\"yaxis\":\"y\",\"type\":\"scatter\"}],                        {\"template\":{\"data\":{\"barpolar\":[{\"marker\":{\"line\":{\"color\":\"white\",\"width\":0.5},\"pattern\":{\"fillmode\":\"overlay\",\"size\":10,\"solidity\":0.2}},\"type\":\"barpolar\"}],\"bar\":[{\"error_x\":{\"color\":\"#2a3f5f\"},\"error_y\":{\"color\":\"#2a3f5f\"},\"marker\":{\"line\":{\"color\":\"white\",\"width\":0.5},\"pattern\":{\"fillmode\":\"overlay\",\"size\":10,\"solidity\":0.2}},\"type\":\"bar\"}],\"carpet\":[{\"aaxis\":{\"endlinecolor\":\"#2a3f5f\",\"gridcolor\":\"#C8D4E3\",\"linecolor\":\"#C8D4E3\",\"minorgridcolor\":\"#C8D4E3\",\"startlinecolor\":\"#2a3f5f\"},\"baxis\":{\"endlinecolor\":\"#2a3f5f\",\"gridcolor\":\"#C8D4E3\",\"linecolor\":\"#C8D4E3\",\"minorgridcolor\":\"#C8D4E3\",\"startlinecolor\":\"#2a3f5f\"},\"type\":\"carpet\"}],\"choropleth\":[{\"colorbar\":{\"outlinewidth\":0,\"ticks\":\"\"},\"type\":\"choropleth\"}],\"contourcarpet\":[{\"colorbar\":{\"outlinewidth\":0,\"ticks\":\"\"},\"type\":\"contourcarpet\"}],\"contour\":[{\"colorbar\":{\"outlinewidth\":0,\"ticks\":\"\"},\"colorscale\":[[0.0,\"#0d0887\"],[0.1111111111111111,\"#46039f\"],[0.2222222222222222,\"#7201a8\"],[0.3333333333333333,\"#9c179e\"],[0.4444444444444444,\"#bd3786\"],[0.5555555555555556,\"#d8576b\"],[0.6666666666666666,\"#ed7953\"],[0.7777777777777778,\"#fb9f3a\"],[0.8888888888888888,\"#fdca26\"],[1.0,\"#f0f921\"]],\"type\":\"contour\"}],\"heatmapgl\":[{\"colorbar\":{\"outlinewidth\":0,\"ticks\":\"\"},\"colorscale\":[[0.0,\"#0d0887\"],[0.1111111111111111,\"#46039f\"],[0.2222222222222222,\"#7201a8\"],[0.3333333333333333,\"#9c179e\"],[0.4444444444444444,\"#bd3786\"],[0.5555555555555556,\"#d8576b\"],[0.6666666666666666,\"#ed7953\"],[0.7777777777777778,\"#fb9f3a\"],[0.8888888888888888,\"#fdca26\"],[1.0,\"#f0f921\"]],\"type\":\"heatmapgl\"}],\"heatmap\":[{\"colorbar\":{\"outlinewidth\":0,\"ticks\":\"\"},\"colorscale\":[[0.0,\"#0d0887\"],[0.1111111111111111,\"#46039f\"],[0.2222222222222222,\"#7201a8\"],[0.3333333333333333,\"#9c179e\"],[0.4444444444444444,\"#bd3786\"],[0.5555555555555556,\"#d8576b\"],[0.6666666666666666,\"#ed7953\"],[0.7777777777777778,\"#fb9f3a\"],[0.8888888888888888,\"#fdca26\"],[1.0,\"#f0f921\"]],\"type\":\"heatmap\"}],\"histogram2dcontour\":[{\"colorbar\":{\"outlinewidth\":0,\"ticks\":\"\"},\"colorscale\":[[0.0,\"#0d0887\"],[0.1111111111111111,\"#46039f\"],[0.2222222222222222,\"#7201a8\"],[0.3333333333333333,\"#9c179e\"],[0.4444444444444444,\"#bd3786\"],[0.5555555555555556,\"#d8576b\"],[0.6666666666666666,\"#ed7953\"],[0.7777777777777778,\"#fb9f3a\"],[0.8888888888888888,\"#fdca26\"],[1.0,\"#f0f921\"]],\"type\":\"histogram2dcontour\"}],\"histogram2d\":[{\"colorbar\":{\"outlinewidth\":0,\"ticks\":\"\"},\"colorscale\":[[0.0,\"#0d0887\"],[0.1111111111111111,\"#46039f\"],[0.2222222222222222,\"#7201a8\"],[0.3333333333333333,\"#9c179e\"],[0.4444444444444444,\"#bd3786\"],[0.5555555555555556,\"#d8576b\"],[0.6666666666666666,\"#ed7953\"],[0.7777777777777778,\"#fb9f3a\"],[0.8888888888888888,\"#fdca26\"],[1.0,\"#f0f921\"]],\"type\":\"histogram2d\"}],\"histogram\":[{\"marker\":{\"pattern\":{\"fillmode\":\"overlay\",\"size\":10,\"solidity\":0.2}},\"type\":\"histogram\"}],\"mesh3d\":[{\"colorbar\":{\"outlinewidth\":0,\"ticks\":\"\"},\"type\":\"mesh3d\"}],\"parcoords\":[{\"line\":{\"colorbar\":{\"outlinewidth\":0,\"ticks\":\"\"}},\"type\":\"parcoords\"}],\"pie\":[{\"automargin\":true,\"type\":\"pie\"}],\"scatter3d\":[{\"line\":{\"colorbar\":{\"outlinewidth\":0,\"ticks\":\"\"}},\"marker\":{\"colorbar\":{\"outlinewidth\":0,\"ticks\":\"\"}},\"type\":\"scatter3d\"}],\"scattercarpet\":[{\"marker\":{\"colorbar\":{\"outlinewidth\":0,\"ticks\":\"\"}},\"type\":\"scattercarpet\"}],\"scattergeo\":[{\"marker\":{\"colorbar\":{\"outlinewidth\":0,\"ticks\":\"\"}},\"type\":\"scattergeo\"}],\"scattergl\":[{\"marker\":{\"colorbar\":{\"outlinewidth\":0,\"ticks\":\"\"}},\"type\":\"scattergl\"}],\"scattermapbox\":[{\"marker\":{\"colorbar\":{\"outlinewidth\":0,\"ticks\":\"\"}},\"type\":\"scattermapbox\"}],\"scatterpolargl\":[{\"marker\":{\"colorbar\":{\"outlinewidth\":0,\"ticks\":\"\"}},\"type\":\"scatterpolargl\"}],\"scatterpolar\":[{\"marker\":{\"colorbar\":{\"outlinewidth\":0,\"ticks\":\"\"}},\"type\":\"scatterpolar\"}],\"scatter\":[{\"fillpattern\":{\"fillmode\":\"overlay\",\"size\":10,\"solidity\":0.2},\"type\":\"scatter\"}],\"scatterternary\":[{\"marker\":{\"colorbar\":{\"outlinewidth\":0,\"ticks\":\"\"}},\"type\":\"scatterternary\"}],\"surface\":[{\"colorbar\":{\"outlinewidth\":0,\"ticks\":\"\"},\"colorscale\":[[0.0,\"#0d0887\"],[0.1111111111111111,\"#46039f\"],[0.2222222222222222,\"#7201a8\"],[0.3333333333333333,\"#9c179e\"],[0.4444444444444444,\"#bd3786\"],[0.5555555555555556,\"#d8576b\"],[0.6666666666666666,\"#ed7953\"],[0.7777777777777778,\"#fb9f3a\"],[0.8888888888888888,\"#fdca26\"],[1.0,\"#f0f921\"]],\"type\":\"surface\"}],\"table\":[{\"cells\":{\"fill\":{\"color\":\"#EBF0F8\"},\"line\":{\"color\":\"white\"}},\"header\":{\"fill\":{\"color\":\"#C8D4E3\"},\"line\":{\"color\":\"white\"}},\"type\":\"table\"}]},\"layout\":{\"annotationdefaults\":{\"arrowcolor\":\"#2a3f5f\",\"arrowhead\":0,\"arrowwidth\":1},\"autotypenumbers\":\"strict\",\"coloraxis\":{\"colorbar\":{\"outlinewidth\":0,\"ticks\":\"\"}},\"colorscale\":{\"diverging\":[[0,\"#8e0152\"],[0.1,\"#c51b7d\"],[0.2,\"#de77ae\"],[0.3,\"#f1b6da\"],[0.4,\"#fde0ef\"],[0.5,\"#f7f7f7\"],[0.6,\"#e6f5d0\"],[0.7,\"#b8e186\"],[0.8,\"#7fbc41\"],[0.9,\"#4d9221\"],[1,\"#276419\"]],\"sequential\":[[0.0,\"#0d0887\"],[0.1111111111111111,\"#46039f\"],[0.2222222222222222,\"#7201a8\"],[0.3333333333333333,\"#9c179e\"],[0.4444444444444444,\"#bd3786\"],[0.5555555555555556,\"#d8576b\"],[0.6666666666666666,\"#ed7953\"],[0.7777777777777778,\"#fb9f3a\"],[0.8888888888888888,\"#fdca26\"],[1.0,\"#f0f921\"]],\"sequentialminus\":[[0.0,\"#0d0887\"],[0.1111111111111111,\"#46039f\"],[0.2222222222222222,\"#7201a8\"],[0.3333333333333333,\"#9c179e\"],[0.4444444444444444,\"#bd3786\"],[0.5555555555555556,\"#d8576b\"],[0.6666666666666666,\"#ed7953\"],[0.7777777777777778,\"#fb9f3a\"],[0.8888888888888888,\"#fdca26\"],[1.0,\"#f0f921\"]]},\"colorway\":[\"#636efa\",\"#EF553B\",\"#00cc96\",\"#ab63fa\",\"#FFA15A\",\"#19d3f3\",\"#FF6692\",\"#B6E880\",\"#FF97FF\",\"#FECB52\"],\"font\":{\"color\":\"#2a3f5f\"},\"geo\":{\"bgcolor\":\"white\",\"lakecolor\":\"white\",\"landcolor\":\"white\",\"showlakes\":true,\"showland\":true,\"subunitcolor\":\"#C8D4E3\"},\"hoverlabel\":{\"align\":\"left\"},\"hovermode\":\"closest\",\"mapbox\":{\"style\":\"light\"},\"paper_bgcolor\":\"white\",\"plot_bgcolor\":\"white\",\"polar\":{\"angularaxis\":{\"gridcolor\":\"#EBF0F8\",\"linecolor\":\"#EBF0F8\",\"ticks\":\"\"},\"bgcolor\":\"white\",\"radialaxis\":{\"gridcolor\":\"#EBF0F8\",\"linecolor\":\"#EBF0F8\",\"ticks\":\"\"}},\"scene\":{\"xaxis\":{\"backgroundcolor\":\"white\",\"gridcolor\":\"#DFE8F3\",\"gridwidth\":2,\"linecolor\":\"#EBF0F8\",\"showbackground\":true,\"ticks\":\"\",\"zerolinecolor\":\"#EBF0F8\"},\"yaxis\":{\"backgroundcolor\":\"white\",\"gridcolor\":\"#DFE8F3\",\"gridwidth\":2,\"linecolor\":\"#EBF0F8\",\"showbackground\":true,\"ticks\":\"\",\"zerolinecolor\":\"#EBF0F8\"},\"zaxis\":{\"backgroundcolor\":\"white\",\"gridcolor\":\"#DFE8F3\",\"gridwidth\":2,\"linecolor\":\"#EBF0F8\",\"showbackground\":true,\"ticks\":\"\",\"zerolinecolor\":\"#EBF0F8\"}},\"shapedefaults\":{\"line\":{\"color\":\"#2a3f5f\"}},\"ternary\":{\"aaxis\":{\"gridcolor\":\"#DFE8F3\",\"linecolor\":\"#A2B1C6\",\"ticks\":\"\"},\"baxis\":{\"gridcolor\":\"#DFE8F3\",\"linecolor\":\"#A2B1C6\",\"ticks\":\"\"},\"bgcolor\":\"white\",\"caxis\":{\"gridcolor\":\"#DFE8F3\",\"linecolor\":\"#A2B1C6\",\"ticks\":\"\"}},\"title\":{\"x\":0.05},\"xaxis\":{\"automargin\":true,\"gridcolor\":\"#EBF0F8\",\"linecolor\":\"#EBF0F8\",\"ticks\":\"\",\"title\":{\"standoff\":15},\"zerolinecolor\":\"#EBF0F8\",\"zerolinewidth\":2},\"yaxis\":{\"automargin\":true,\"gridcolor\":\"#EBF0F8\",\"linecolor\":\"#EBF0F8\",\"ticks\":\"\",\"title\":{\"standoff\":15},\"zerolinecolor\":\"#EBF0F8\",\"zerolinewidth\":2}}},\"xaxis\":{\"anchor\":\"y\",\"domain\":[0.0,1.0],\"title\":{\"text\":\"\"}},\"yaxis\":{\"anchor\":\"x\",\"domain\":[0.0,1.0],\"title\":{\"text\":\"PPA Price (2020 $/MWh)\"}},\"legend\":{\"title\":{\"text\":\"Region\"},\"tracegroupgap\":0,\"itemsizing\":\"constant\",\"orientation\":\"h\",\"yanchor\":\"bottom\",\"y\":1.02,\"xanchor\":\"left\",\"x\":0},\"margin\":{\"t\":60}},                        {\"responsive\": true}                    ).then(function(){\n",
       "                            \n",
       "var gd = document.getElementById('4254f5dd-60dd-40af-ad07-3b991ca8e04b');\n",
       "var x = new MutationObserver(function (mutations, observer) {{\n",
       "        var display = window.getComputedStyle(gd).display;\n",
       "        if (!display || display === 'none') {{\n",
       "            console.log([gd, 'removed!']);\n",
       "            Plotly.purge(gd);\n",
       "            observer.disconnect();\n",
       "        }}\n",
       "}});\n",
       "\n",
       "// Listen for the removal of the full notebook cells\n",
       "var notebookContainer = gd.closest('#notebook-container');\n",
       "if (notebookContainer) {{\n",
       "    x.observe(notebookContainer, {childList: true});\n",
       "}}\n",
       "\n",
       "// Listen for the clearing of the current output cell\n",
       "var outputEl = gd.closest('.output');\n",
       "if (outputEl) {{\n",
       "    x.observe(outputEl, {childList: true});\n",
       "}}\n",
       "\n",
       "                        })                };                });            </script>        </div>"
      ]
     },
     "metadata": {},
     "output_type": "display_data"
    }
   ],
   "source": [
    "fig2 = px.scatter(ppa_price_long,\n",
    " x='ppa_execution_date',\n",
    " y='price',\n",
    " template = \"plotly_white\",\n",
    " labels = dict(region_cat = \"Region\",\n",
    "               ppa_execution_date = \"\", \n",
    "               price = \"PPA Price (2020 $/MWh)\"),\n",
    " size='capacity_mw',\n",
    " color='region_cat',\n",
    " color_discrete_map=colormap)\n",
    "\n",
    "fig2.update_layout(legend=dict(\n",
    "    orientation=\"h\",\n",
    "    yanchor=\"bottom\",\n",
    "    y=1.02,\n",
    "    xanchor=\"left\",\n",
    "    x=0\n",
    "))\n",
    "\n",
    "fig2.update_traces(marker_symbol='circle-open', \n",
    "marker_line_width = 2)\n",
    "\n",
    "\n",
    "fig2.show()"
   ]
  },
  {
   "cell_type": "markdown",
   "metadata": {},
   "source": [
    "Now for the bar chart. I need to aggregate the data using groupby(). Looks like the reset_index() is necessary to make sure the variables stay in their own columns. "
   ]
  },
  {
   "cell_type": "code",
   "execution_count": 17,
   "metadata": {},
   "outputs": [],
   "source": [
    "ppa_capacity = ppa_price_long.groupby(['region_cat', 'ppa_year'])['capacity_mw'].sum().reset_index()"
   ]
  },
  {
   "cell_type": "markdown",
   "metadata": {},
   "source": [
    "Arrange the table so that it will be in the right order for the chart since apparently they appear in the same order as the dataframe, even if it's a factor? "
   ]
  },
  {
   "cell_type": "code",
   "execution_count": 18,
   "metadata": {},
   "outputs": [],
   "source": [
    "test_ppa = ppa_capacity.sort_values(by='region_cat', ascending=False)"
   ]
  },
  {
   "cell_type": "markdown",
   "metadata": {},
   "source": [
    "Final bar chart looks pretty good. The only thing I don't love about this is I couldn't figure out a way to split up the legend so that it was two rows with five columns like I had in R. Or at least, I couldn't find a way to do that quickly. I also had to specify all the years for the x-axis, since not all of them showed up the first time I plotted it. I think it was only every other year, even though they all fit. It was a little bit difficult to figure out how to annotate the bars with yearly totals, but there isn't a super great way to do that in ggplot2 either, I just know all the ggplot2 hacks from using it all the time. "
   ]
  },
  {
   "cell_type": "code",
   "execution_count": 20,
   "metadata": {},
   "outputs": [
    {
     "data": {
      "text/html": [
       "<div>                            <div id=\"cbe499f5-6117-47df-8de4-dd7995c8d937\" class=\"plotly-graph-div\" style=\"height:525px; width:100%;\"></div>            <script type=\"text/javascript\">                require([\"plotly\"], function(Plotly) {                    window.PLOTLYENV=window.PLOTLYENV || {};                                    if (document.getElementById(\"cbe499f5-6117-47df-8de4-dd7995c8d937\")) {                    Plotly.newPlot(                        \"cbe499f5-6117-47df-8de4-dd7995c8d937\",                        [{\"alignmentgroup\":\"True\",\"hovertemplate\":\"Region=West (non-ISO)<br>=%{x}<br>Capacity (MW-AC)=%{y}<extra></extra>\",\"legendgroup\":\"West (non-ISO)\",\"marker\":{\"color\":\"#EDC948\",\"pattern\":{\"shape\":\"\"}},\"name\":\"West (non-ISO)\",\"offsetgroup\":\"West (non-ISO)\",\"orientation\":\"v\",\"showlegend\":true,\"textposition\":\"auto\",\"x\":[2021,2013,2006,2007,2008,2009,2011,2012,2010,2014,2015,2016,2017,2018,2019,2020],\"xaxis\":\"x\",\"y\":[970.0,138.0,7.0,0.0,0.0,69.0,495.0,600.0,251.0,564.4159999999999,865.48,307.8,306.0,1599.0,968.0,777.86],\"yaxis\":\"y\",\"type\":\"bar\"},{\"alignmentgroup\":\"True\",\"hovertemplate\":\"Region=Southeast (non-ISO)<br>=%{x}<br>Capacity (MW-AC)=%{y}<extra></extra>\",\"legendgroup\":\"Southeast (non-ISO)\",\"marker\":{\"color\":\"#FF9DA7\",\"pattern\":{\"shape\":\"\"}},\"name\":\"Southeast (non-ISO)\",\"offsetgroup\":\"Southeast (non-ISO)\",\"orientation\":\"v\",\"showlegend\":true,\"textposition\":\"auto\",\"x\":[2013,2006,2007,2008,2009,2010,2011,2012,2018,2014,2015,2016,2017,2019,2020,2021],\"xaxis\":\"x\",\"y\":[20.0,0.0,0.0,0.0,12.6,13.15,30.0,0.0,741.0,551.8,503.56,28.56,504.7,125.0,7.5,0.0],\"yaxis\":\"y\",\"type\":\"bar\"},{\"alignmentgroup\":\"True\",\"hovertemplate\":\"Region=SPP<br>=%{x}<br>Capacity (MW-AC)=%{y}<extra></extra>\",\"legendgroup\":\"SPP\",\"marker\":{\"color\":\"#B07AA1\",\"pattern\":{\"shape\":\"\"}},\"name\":\"SPP\",\"offsetgroup\":\"SPP\",\"orientation\":\"v\",\"showlegend\":true,\"textposition\":\"auto\",\"x\":[2013,2006,2007,2008,2009,2010,2011,2012,2015,2014,2016,2017,2018,2019,2020,2021],\"xaxis\":\"x\",\"y\":[0.0,0.0,0.0,0.0,50.0,0.0,0.0,0.0,168.6,0.0,0.0,0.0,5.681481481481481,4.6,0.0,0.0],\"yaxis\":\"y\",\"type\":\"bar\"},{\"alignmentgroup\":\"True\",\"hovertemplate\":\"Region=PJM<br>=%{x}<br>Capacity (MW-AC)=%{y}<extra></extra>\",\"legendgroup\":\"PJM\",\"marker\":{\"color\":\"#9C755F\",\"pattern\":{\"shape\":\"\"}},\"name\":\"PJM\",\"offsetgroup\":\"PJM\",\"orientation\":\"v\",\"showlegend\":true,\"textposition\":\"auto\",\"x\":[2014,2006,2007,2008,2009,2011,2012,2013,2010,2015,2017,2018,2019,2020,2021,2016],\"xaxis\":\"x\",\"y\":[10.3,0.0,0.0,0.0,10.08,20.0,0.0,0.0,0.0,80.0,16.8,156.0,265.5,0.0,0.0,180.0],\"yaxis\":\"y\",\"type\":\"bar\"},{\"alignmentgroup\":\"True\",\"hovertemplate\":\"Region=NYISO<br>=%{x}<br>Capacity (MW-AC)=%{y}<extra></extra>\",\"legendgroup\":\"NYISO\",\"marker\":{\"color\":\"#BAB0AC\",\"pattern\":{\"shape\":\"\"}},\"name\":\"NYISO\",\"offsetgroup\":\"NYISO\",\"orientation\":\"v\",\"showlegend\":true,\"textposition\":\"auto\",\"x\":[2015,2009,2010,2011,2012,2013,2014,2018,2016,2017,2019,2020,2021,2007,2008,2006],\"xaxis\":\"x\",\"y\":[0.0,0.0,32.0,0.0,0.0,0.0,0.0,6.3,24.9,0.0,0.0,0.0,590.0,0.0,0.0,0.0],\"yaxis\":\"y\",\"type\":\"bar\"},{\"alignmentgroup\":\"True\",\"hovertemplate\":\"Region=MISO<br>=%{x}<br>Capacity (MW-AC)=%{y}<extra></extra>\",\"legendgroup\":\"MISO\",\"marker\":{\"color\":\"#59A14F\",\"pattern\":{\"shape\":\"\"}},\"name\":\"MISO\",\"offsetgroup\":\"MISO\",\"orientation\":\"v\",\"showlegend\":true,\"textposition\":\"auto\",\"x\":[2021,2013,2006,2007,2008,2009,2011,2012,2010,2014,2015,2016,2017,2018,2019,2020],\"xaxis\":\"x\",\"y\":[0.0,28.8,0.0,0.0,0.0,0.0,0.0,0.0,0.0,100.0,215.25,0.0,100.0,60.5,109.3076923076923,0.0],\"yaxis\":\"y\",\"type\":\"bar\"},{\"alignmentgroup\":\"True\",\"hovertemplate\":\"Region=ISO-NE<br>=%{x}<br>Capacity (MW-AC)=%{y}<extra></extra>\",\"legendgroup\":\"ISO-NE\",\"marker\":{\"color\":\"#76B7B2\",\"pattern\":{\"shape\":\"\"}},\"name\":\"ISO-NE\",\"offsetgroup\":\"ISO-NE\",\"orientation\":\"v\",\"showlegend\":true,\"textposition\":\"auto\",\"x\":[2013,2006,2007,2008,2009,2010,2011,2012,2018,2014,2015,2016,2017,2019,2020,2021],\"xaxis\":\"x\",\"y\":[20.0,0.0,0.0,0.0,0.0,0.0,0.0,0.0,0.0,0.0,0.0,0.0,206.11,50.0,50.0,0.0],\"yaxis\":\"y\",\"type\":\"bar\"},{\"alignmentgroup\":\"True\",\"hovertemplate\":\"Region=Hawaii<br>=%{x}<br>Capacity (MW-AC)=%{y}<extra></extra>\",\"legendgroup\":\"Hawaii\",\"marker\":{\"color\":\"#E15759\",\"pattern\":{\"shape\":\"\"}},\"name\":\"Hawaii\",\"offsetgroup\":\"Hawaii\",\"orientation\":\"v\",\"showlegend\":true,\"textposition\":\"auto\",\"x\":[2013,2006,2007,2008,2009,2010,2011,2012,2014,2019,2015,2016,2017,2018,2020,2021],\"xaxis\":\"x\",\"y\":[12.0,0.0,0.0,0.0,0.0,0.0,6.0,0.0,0.0,0.0,27.6,0.0,109.6,0.0,0.0,0.0],\"yaxis\":\"y\",\"type\":\"bar\"},{\"alignmentgroup\":\"True\",\"hovertemplate\":\"Region=ERCOT<br>=%{x}<br>Capacity (MW-AC)=%{y}<extra></extra>\",\"legendgroup\":\"ERCOT\",\"marker\":{\"color\":\"#F28E2B\",\"pattern\":{\"shape\":\"\"}},\"name\":\"ERCOT\",\"offsetgroup\":\"ERCOT\",\"orientation\":\"v\",\"showlegend\":true,\"textposition\":\"auto\",\"x\":[2006,2007,2008,2009,2010,2011,2012,2013,2014,2015,2016,2017,2018,2019,2020,2021],\"xaxis\":\"x\",\"y\":[0.0,0.0,0.0,44.0,0.0,0.0,0.0,0.0,157.5,318.5,150.0,170.0,144.0,0.0,0.0,0.0],\"yaxis\":\"y\",\"type\":\"bar\"},{\"alignmentgroup\":\"True\",\"hovertemplate\":\"Region=CAISO<br>=%{x}<br>Capacity (MW-AC)=%{y}<extra></extra>\",\"legendgroup\":\"CAISO\",\"marker\":{\"color\":\"#4E79A7\",\"pattern\":{\"shape\":\"\"}},\"name\":\"CAISO\",\"offsetgroup\":\"CAISO\",\"orientation\":\"v\",\"showlegend\":true,\"textposition\":\"auto\",\"x\":[2014,2008,2009,2010,2011,2012,2013,2007,2015,2016,2017,2018,2019,2020,2021,2006],\"xaxis\":\"x\",\"y\":[672.36,770.0,844.0,1457.3,1259.0,512.8,489.31399999999996,5.0,935.387,226.0,686.8199999999999,206.688,444.0,0.0,140.0,0.0],\"yaxis\":\"y\",\"type\":\"bar\"}],                        {\"template\":{\"data\":{\"barpolar\":[{\"marker\":{\"line\":{\"color\":\"white\",\"width\":0.5},\"pattern\":{\"fillmode\":\"overlay\",\"size\":10,\"solidity\":0.2}},\"type\":\"barpolar\"}],\"bar\":[{\"error_x\":{\"color\":\"#2a3f5f\"},\"error_y\":{\"color\":\"#2a3f5f\"},\"marker\":{\"line\":{\"color\":\"white\",\"width\":0.5},\"pattern\":{\"fillmode\":\"overlay\",\"size\":10,\"solidity\":0.2}},\"type\":\"bar\"}],\"carpet\":[{\"aaxis\":{\"endlinecolor\":\"#2a3f5f\",\"gridcolor\":\"#C8D4E3\",\"linecolor\":\"#C8D4E3\",\"minorgridcolor\":\"#C8D4E3\",\"startlinecolor\":\"#2a3f5f\"},\"baxis\":{\"endlinecolor\":\"#2a3f5f\",\"gridcolor\":\"#C8D4E3\",\"linecolor\":\"#C8D4E3\",\"minorgridcolor\":\"#C8D4E3\",\"startlinecolor\":\"#2a3f5f\"},\"type\":\"carpet\"}],\"choropleth\":[{\"colorbar\":{\"outlinewidth\":0,\"ticks\":\"\"},\"type\":\"choropleth\"}],\"contourcarpet\":[{\"colorbar\":{\"outlinewidth\":0,\"ticks\":\"\"},\"type\":\"contourcarpet\"}],\"contour\":[{\"colorbar\":{\"outlinewidth\":0,\"ticks\":\"\"},\"colorscale\":[[0.0,\"#0d0887\"],[0.1111111111111111,\"#46039f\"],[0.2222222222222222,\"#7201a8\"],[0.3333333333333333,\"#9c179e\"],[0.4444444444444444,\"#bd3786\"],[0.5555555555555556,\"#d8576b\"],[0.6666666666666666,\"#ed7953\"],[0.7777777777777778,\"#fb9f3a\"],[0.8888888888888888,\"#fdca26\"],[1.0,\"#f0f921\"]],\"type\":\"contour\"}],\"heatmapgl\":[{\"colorbar\":{\"outlinewidth\":0,\"ticks\":\"\"},\"colorscale\":[[0.0,\"#0d0887\"],[0.1111111111111111,\"#46039f\"],[0.2222222222222222,\"#7201a8\"],[0.3333333333333333,\"#9c179e\"],[0.4444444444444444,\"#bd3786\"],[0.5555555555555556,\"#d8576b\"],[0.6666666666666666,\"#ed7953\"],[0.7777777777777778,\"#fb9f3a\"],[0.8888888888888888,\"#fdca26\"],[1.0,\"#f0f921\"]],\"type\":\"heatmapgl\"}],\"heatmap\":[{\"colorbar\":{\"outlinewidth\":0,\"ticks\":\"\"},\"colorscale\":[[0.0,\"#0d0887\"],[0.1111111111111111,\"#46039f\"],[0.2222222222222222,\"#7201a8\"],[0.3333333333333333,\"#9c179e\"],[0.4444444444444444,\"#bd3786\"],[0.5555555555555556,\"#d8576b\"],[0.6666666666666666,\"#ed7953\"],[0.7777777777777778,\"#fb9f3a\"],[0.8888888888888888,\"#fdca26\"],[1.0,\"#f0f921\"]],\"type\":\"heatmap\"}],\"histogram2dcontour\":[{\"colorbar\":{\"outlinewidth\":0,\"ticks\":\"\"},\"colorscale\":[[0.0,\"#0d0887\"],[0.1111111111111111,\"#46039f\"],[0.2222222222222222,\"#7201a8\"],[0.3333333333333333,\"#9c179e\"],[0.4444444444444444,\"#bd3786\"],[0.5555555555555556,\"#d8576b\"],[0.6666666666666666,\"#ed7953\"],[0.7777777777777778,\"#fb9f3a\"],[0.8888888888888888,\"#fdca26\"],[1.0,\"#f0f921\"]],\"type\":\"histogram2dcontour\"}],\"histogram2d\":[{\"colorbar\":{\"outlinewidth\":0,\"ticks\":\"\"},\"colorscale\":[[0.0,\"#0d0887\"],[0.1111111111111111,\"#46039f\"],[0.2222222222222222,\"#7201a8\"],[0.3333333333333333,\"#9c179e\"],[0.4444444444444444,\"#bd3786\"],[0.5555555555555556,\"#d8576b\"],[0.6666666666666666,\"#ed7953\"],[0.7777777777777778,\"#fb9f3a\"],[0.8888888888888888,\"#fdca26\"],[1.0,\"#f0f921\"]],\"type\":\"histogram2d\"}],\"histogram\":[{\"marker\":{\"pattern\":{\"fillmode\":\"overlay\",\"size\":10,\"solidity\":0.2}},\"type\":\"histogram\"}],\"mesh3d\":[{\"colorbar\":{\"outlinewidth\":0,\"ticks\":\"\"},\"type\":\"mesh3d\"}],\"parcoords\":[{\"line\":{\"colorbar\":{\"outlinewidth\":0,\"ticks\":\"\"}},\"type\":\"parcoords\"}],\"pie\":[{\"automargin\":true,\"type\":\"pie\"}],\"scatter3d\":[{\"line\":{\"colorbar\":{\"outlinewidth\":0,\"ticks\":\"\"}},\"marker\":{\"colorbar\":{\"outlinewidth\":0,\"ticks\":\"\"}},\"type\":\"scatter3d\"}],\"scattercarpet\":[{\"marker\":{\"colorbar\":{\"outlinewidth\":0,\"ticks\":\"\"}},\"type\":\"scattercarpet\"}],\"scattergeo\":[{\"marker\":{\"colorbar\":{\"outlinewidth\":0,\"ticks\":\"\"}},\"type\":\"scattergeo\"}],\"scattergl\":[{\"marker\":{\"colorbar\":{\"outlinewidth\":0,\"ticks\":\"\"}},\"type\":\"scattergl\"}],\"scattermapbox\":[{\"marker\":{\"colorbar\":{\"outlinewidth\":0,\"ticks\":\"\"}},\"type\":\"scattermapbox\"}],\"scatterpolargl\":[{\"marker\":{\"colorbar\":{\"outlinewidth\":0,\"ticks\":\"\"}},\"type\":\"scatterpolargl\"}],\"scatterpolar\":[{\"marker\":{\"colorbar\":{\"outlinewidth\":0,\"ticks\":\"\"}},\"type\":\"scatterpolar\"}],\"scatter\":[{\"fillpattern\":{\"fillmode\":\"overlay\",\"size\":10,\"solidity\":0.2},\"type\":\"scatter\"}],\"scatterternary\":[{\"marker\":{\"colorbar\":{\"outlinewidth\":0,\"ticks\":\"\"}},\"type\":\"scatterternary\"}],\"surface\":[{\"colorbar\":{\"outlinewidth\":0,\"ticks\":\"\"},\"colorscale\":[[0.0,\"#0d0887\"],[0.1111111111111111,\"#46039f\"],[0.2222222222222222,\"#7201a8\"],[0.3333333333333333,\"#9c179e\"],[0.4444444444444444,\"#bd3786\"],[0.5555555555555556,\"#d8576b\"],[0.6666666666666666,\"#ed7953\"],[0.7777777777777778,\"#fb9f3a\"],[0.8888888888888888,\"#fdca26\"],[1.0,\"#f0f921\"]],\"type\":\"surface\"}],\"table\":[{\"cells\":{\"fill\":{\"color\":\"#EBF0F8\"},\"line\":{\"color\":\"white\"}},\"header\":{\"fill\":{\"color\":\"#C8D4E3\"},\"line\":{\"color\":\"white\"}},\"type\":\"table\"}]},\"layout\":{\"annotationdefaults\":{\"arrowcolor\":\"#2a3f5f\",\"arrowhead\":0,\"arrowwidth\":1},\"autotypenumbers\":\"strict\",\"coloraxis\":{\"colorbar\":{\"outlinewidth\":0,\"ticks\":\"\"}},\"colorscale\":{\"diverging\":[[0,\"#8e0152\"],[0.1,\"#c51b7d\"],[0.2,\"#de77ae\"],[0.3,\"#f1b6da\"],[0.4,\"#fde0ef\"],[0.5,\"#f7f7f7\"],[0.6,\"#e6f5d0\"],[0.7,\"#b8e186\"],[0.8,\"#7fbc41\"],[0.9,\"#4d9221\"],[1,\"#276419\"]],\"sequential\":[[0.0,\"#0d0887\"],[0.1111111111111111,\"#46039f\"],[0.2222222222222222,\"#7201a8\"],[0.3333333333333333,\"#9c179e\"],[0.4444444444444444,\"#bd3786\"],[0.5555555555555556,\"#d8576b\"],[0.6666666666666666,\"#ed7953\"],[0.7777777777777778,\"#fb9f3a\"],[0.8888888888888888,\"#fdca26\"],[1.0,\"#f0f921\"]],\"sequentialminus\":[[0.0,\"#0d0887\"],[0.1111111111111111,\"#46039f\"],[0.2222222222222222,\"#7201a8\"],[0.3333333333333333,\"#9c179e\"],[0.4444444444444444,\"#bd3786\"],[0.5555555555555556,\"#d8576b\"],[0.6666666666666666,\"#ed7953\"],[0.7777777777777778,\"#fb9f3a\"],[0.8888888888888888,\"#fdca26\"],[1.0,\"#f0f921\"]]},\"colorway\":[\"#636efa\",\"#EF553B\",\"#00cc96\",\"#ab63fa\",\"#FFA15A\",\"#19d3f3\",\"#FF6692\",\"#B6E880\",\"#FF97FF\",\"#FECB52\"],\"font\":{\"color\":\"#2a3f5f\"},\"geo\":{\"bgcolor\":\"white\",\"lakecolor\":\"white\",\"landcolor\":\"white\",\"showlakes\":true,\"showland\":true,\"subunitcolor\":\"#C8D4E3\"},\"hoverlabel\":{\"align\":\"left\"},\"hovermode\":\"closest\",\"mapbox\":{\"style\":\"light\"},\"paper_bgcolor\":\"white\",\"plot_bgcolor\":\"white\",\"polar\":{\"angularaxis\":{\"gridcolor\":\"#EBF0F8\",\"linecolor\":\"#EBF0F8\",\"ticks\":\"\"},\"bgcolor\":\"white\",\"radialaxis\":{\"gridcolor\":\"#EBF0F8\",\"linecolor\":\"#EBF0F8\",\"ticks\":\"\"}},\"scene\":{\"xaxis\":{\"backgroundcolor\":\"white\",\"gridcolor\":\"#DFE8F3\",\"gridwidth\":2,\"linecolor\":\"#EBF0F8\",\"showbackground\":true,\"ticks\":\"\",\"zerolinecolor\":\"#EBF0F8\"},\"yaxis\":{\"backgroundcolor\":\"white\",\"gridcolor\":\"#DFE8F3\",\"gridwidth\":2,\"linecolor\":\"#EBF0F8\",\"showbackground\":true,\"ticks\":\"\",\"zerolinecolor\":\"#EBF0F8\"},\"zaxis\":{\"backgroundcolor\":\"white\",\"gridcolor\":\"#DFE8F3\",\"gridwidth\":2,\"linecolor\":\"#EBF0F8\",\"showbackground\":true,\"ticks\":\"\",\"zerolinecolor\":\"#EBF0F8\"}},\"shapedefaults\":{\"line\":{\"color\":\"#2a3f5f\"}},\"ternary\":{\"aaxis\":{\"gridcolor\":\"#DFE8F3\",\"linecolor\":\"#A2B1C6\",\"ticks\":\"\"},\"baxis\":{\"gridcolor\":\"#DFE8F3\",\"linecolor\":\"#A2B1C6\",\"ticks\":\"\"},\"bgcolor\":\"white\",\"caxis\":{\"gridcolor\":\"#DFE8F3\",\"linecolor\":\"#A2B1C6\",\"ticks\":\"\"}},\"title\":{\"x\":0.05},\"xaxis\":{\"automargin\":true,\"gridcolor\":\"#EBF0F8\",\"linecolor\":\"#EBF0F8\",\"ticks\":\"\",\"title\":{\"standoff\":15},\"zerolinecolor\":\"#EBF0F8\",\"zerolinewidth\":2},\"yaxis\":{\"automargin\":true,\"gridcolor\":\"#EBF0F8\",\"linecolor\":\"#EBF0F8\",\"ticks\":\"\",\"title\":{\"standoff\":15},\"zerolinecolor\":\"#EBF0F8\",\"zerolinewidth\":2}}},\"xaxis\":{\"anchor\":\"y\",\"domain\":[0.0,1.0],\"title\":{\"text\":\"\"},\"tickvals\":[2006,2007,2008,2009,2010,2011,2012,2013,2014,2015,2016,2017,2018,2019,2020,2021,2022]},\"yaxis\":{\"anchor\":\"x\",\"domain\":[0.0,1.0],\"title\":{\"text\":\"Capacity (MW-AC)\"}},\"legend\":{\"title\":{\"text\":\"Region\"},\"tracegroupgap\":0,\"traceorder\":\"reversed\",\"orientation\":\"h\",\"yanchor\":\"bottom\",\"y\":1.02,\"xanchor\":\"left\",\"x\":0},\"margin\":{\"t\":60},\"barmode\":\"relative\",\"annotations\":[{\"showarrow\":false,\"text\":\"7\",\"x\":2006,\"y\":107},{\"showarrow\":false,\"text\":\"5\",\"x\":2007,\"y\":105},{\"showarrow\":false,\"text\":\"770\",\"x\":2008,\"y\":870},{\"showarrow\":false,\"text\":\"1029\",\"x\":2009,\"y\":1129},{\"showarrow\":false,\"text\":\"1753\",\"x\":2010,\"y\":1853},{\"showarrow\":false,\"text\":\"1810\",\"x\":2011,\"y\":1910},{\"showarrow\":false,\"text\":\"1112\",\"x\":2012,\"y\":1212},{\"showarrow\":false,\"text\":\"708\",\"x\":2013,\"y\":808},{\"showarrow\":false,\"text\":\"2056\",\"x\":2014,\"y\":2156},{\"showarrow\":false,\"text\":\"3114\",\"x\":2015,\"y\":3214},{\"showarrow\":false,\"text\":\"917\",\"x\":2016,\"y\":1017},{\"showarrow\":false,\"text\":\"2100\",\"x\":2017,\"y\":2200},{\"showarrow\":false,\"text\":\"2919\",\"x\":2018,\"y\":3019},{\"showarrow\":false,\"text\":\"1966\",\"x\":2019,\"y\":2066},{\"showarrow\":false,\"text\":\"835\",\"x\":2020,\"y\":935},{\"showarrow\":false,\"text\":\"1700\",\"x\":2021,\"y\":1800}]},                        {\"responsive\": true}                    ).then(function(){\n",
       "                            \n",
       "var gd = document.getElementById('cbe499f5-6117-47df-8de4-dd7995c8d937');\n",
       "var x = new MutationObserver(function (mutations, observer) {{\n",
       "        var display = window.getComputedStyle(gd).display;\n",
       "        if (!display || display === 'none') {{\n",
       "            console.log([gd, 'removed!']);\n",
       "            Plotly.purge(gd);\n",
       "            observer.disconnect();\n",
       "        }}\n",
       "}});\n",
       "\n",
       "// Listen for the removal of the full notebook cells\n",
       "var notebookContainer = gd.closest('#notebook-container');\n",
       "if (notebookContainer) {{\n",
       "    x.observe(notebookContainer, {childList: true});\n",
       "}}\n",
       "\n",
       "// Listen for the clearing of the current output cell\n",
       "var outputEl = gd.closest('.output');\n",
       "if (outputEl) {{\n",
       "    x.observe(outputEl, {childList: true});\n",
       "}}\n",
       "\n",
       "                        })                };                });            </script>        </div>"
      ]
     },
     "metadata": {},
     "output_type": "display_data"
    }
   ],
   "source": [
    "fig3 = px.bar(test_ppa,\n",
    "             x='ppa_year',\n",
    "             y='capacity_mw',\n",
    "             labels = dict(region_cat = \"Region\",\n",
    "                           ppa_year = \"\", \n",
    "                           capacity_mw = \"Capacity (MW-AC)\"),\n",
    "             color='region_cat',\n",
    "             color_discrete_map=colormap, \n",
    "             template = \"plotly_white\")\n",
    "\n",
    "fig3.update_layout(legend_traceorder=\"reversed\",\n",
    "                  legend_title_text=\"Region\",\n",
    "                  legend = dict(orientation='h', \n",
    "                  yanchor='bottom',\n",
    "                  y = 1.02,\n",
    "                  xanchor='left',\n",
    "                  x=0))\n",
    "\n",
    "\n",
    "fig3.update_layout(\n",
    "    annotations=[\n",
    "        {\"x\": x, \"y\": total + 100, \"text\": str(total), \"showarrow\": False}\n",
    "        for x, total in ppa_capacity.groupby(\"ppa_year\", as_index=False).agg({\"capacity_mw\": \"sum\"}).values.astype(int)\n",
    "    ]\n",
    ")\n",
    "\n",
    "fig3.update_xaxes(tickvals=[2006, 2007, 2008, 2009, 2010, 2011, 2012, 2013,\n",
    "                           2014, 2015, 2016, 2017, 2018, 2019, 2020, 2021, 2022])\n",
    "\n",
    "fig3.show(\"notebook\")"
   ]
  },
  {
   "cell_type": "markdown",
   "metadata": {},
   "source": [
    "And after all that, I tried to find a good way to put these plots together one on top of the other like I did with ggarrange(). Of course there was no easy way to do that. But if I had used a different plotting function than plotly express, maybe? I will have to investigate this further. Overall, I was able to recreate the plots and most of the aesthetic specifications in Python, which was the main point of this. "
   ]
  }
 ],
 "metadata": {
  "interpreter": {
   "hash": "aee8b7b246df8f9039afb4144a1f6fd8d2ca17a180786b69acc140d282b71a49"
  },
  "kernelspec": {
   "display_name": "Python 3.10.2 64-bit",
   "language": "python",
   "name": "python3"
  },
  "language_info": {
   "codemirror_mode": {
    "name": "ipython",
    "version": 3
   },
   "file_extension": ".py",
   "mimetype": "text/x-python",
   "name": "python",
   "nbconvert_exporter": "python",
   "pygments_lexer": "ipython3",
   "version": "3.10.2"
  },
  "orig_nbformat": 4
 },
 "nbformat": 4,
 "nbformat_minor": 2
}

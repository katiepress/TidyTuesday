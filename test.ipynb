import plotly.express as px
fig = px.scatter(px.data.iris(), x="sepal_width", y="sepal_length", color="species")
fig.show("png")

fig.show("svg")

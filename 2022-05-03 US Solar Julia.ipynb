{
 "cells": [
  {
   "cell_type": "markdown",
   "metadata": {},
   "source": [
    "Load packages"
   ]
  },
  {
   "cell_type": "code",
   "execution_count": 69,
   "metadata": {},
   "outputs": [],
   "source": [
    "using DataFrames, CSV, Dates, CategoricalArrays, Colors, ColorSchemes, PlotlyJS"
   ]
  },
  {
   "cell_type": "markdown",
   "metadata": {},
   "source": [
    "Read in data. Adding a semicolon at the end suppresses the long output."
   ]
  },
  {
   "cell_type": "code",
   "execution_count": 70,
   "metadata": {},
   "outputs": [],
   "source": [
    "ppa_price = CSV.read(\"/Users/katiepress/Desktop/Rproj/Tidy Tuesday/ppa_price.csv\", DataFrame);"
   ]
  },
  {
   "cell_type": "markdown",
   "metadata": {},
   "source": [
    "Check out the data types. "
   ]
  },
  {
   "cell_type": "code",
   "execution_count": 71,
   "metadata": {},
   "outputs": [
    {
     "data": {
      "text/plain": [
       "12-element Vector{DataType}:\n",
       " String31\n",
       " Float64\n",
       " String31\n",
       " String31\n",
       " String31\n",
       " String31\n",
       " String31\n",
       " String31\n",
       " String31\n",
       " String31\n",
       " String31\n",
       " String31"
      ]
     },
     "metadata": {},
     "output_type": "display_data"
    }
   ],
   "source": [
    "eltype.(eachcol(ppa_price))"
   ]
  },
  {
   "cell_type": "markdown",
   "metadata": {},
   "source": [
    "Check out the first few rows of data."
   ]
  },
  {
   "cell_type": "code",
   "execution_count": 72,
   "metadata": {},
   "outputs": [
    {
     "data": {
      "text/html": [
       "<div class=\"data-frame\"><p>6 rows × 12 columns (omitted printing of 7 columns)</p><table class=\"data-frame\"><thead><tr><th></th><th>PPA Execution Date</th><th>Capacity (MW)</th><th>CAISO</th><th>West (non-ISO)</th><th>MISO</th></tr><tr><th></th><th title=\"String31\">String31</th><th title=\"Float64\">Float64</th><th title=\"String31\">String31</th><th title=\"String31\">String31</th><th title=\"String31\">String31</th></tr></thead><tbody><tr><th>1</th><td>2006-09-01T00:00:00Z</td><td>7.0</td><td>NA</td><td>239.8734302320258</td><td>NA</td></tr><tr><th>2</th><td>2007-06-25T00:00:00Z</td><td>5.0</td><td>220.6314143578111</td><td>NA</td><td>NA</td></tr><tr><th>3</th><td>2008-07-01T00:00:00Z</td><td>550.0</td><td>150.73040524305304</td><td>NA</td><td>NA</td></tr><tr><th>4</th><td>2008-07-23T00:00:00Z</td><td>210.0</td><td>131.7706901652578</td><td>NA</td><td>NA</td></tr><tr><th>5</th><td>2008-12-19T00:00:00Z</td><td>10.0</td><td>168.7879318708772</td><td>NA</td><td>NA</td></tr><tr><th>6</th><td>2009-02-23T00:00:00Z</td><td>30.0</td><td>NA</td><td>132.09678867228317</td><td>NA</td></tr></tbody></table></div>"
      ],
      "text/latex": [
       "\\begin{tabular}{r|cccccc}\n",
       "\t& PPA Execution Date & Capacity (MW) & CAISO & West (non-ISO) & MISO & \\\\\n",
       "\t\\hline\n",
       "\t& String31 & Float64 & String31 & String31 & String31 & \\\\\n",
       "\t\\hline\n",
       "\t1 & 2006-09-01T00:00:00Z & 7.0 & NA & 239.8734302320258 & NA & $\\dots$ \\\\\n",
       "\t2 & 2007-06-25T00:00:00Z & 5.0 & 220.6314143578111 & NA & NA & $\\dots$ \\\\\n",
       "\t3 & 2008-07-01T00:00:00Z & 550.0 & 150.73040524305304 & NA & NA & $\\dots$ \\\\\n",
       "\t4 & 2008-07-23T00:00:00Z & 210.0 & 131.7706901652578 & NA & NA & $\\dots$ \\\\\n",
       "\t5 & 2008-12-19T00:00:00Z & 10.0 & 168.7879318708772 & NA & NA & $\\dots$ \\\\\n",
       "\t6 & 2009-02-23T00:00:00Z & 30.0 & NA & 132.09678867228317 & NA & $\\dots$ \\\\\n",
       "\\end{tabular}\n"
      ],
      "text/plain": [
       "\u001b[1m6×12 DataFrame\u001b[0m\n",
       "\u001b[1m Row \u001b[0m│\u001b[1m PPA Execution Date   \u001b[0m\u001b[1m Capacity (MW) \u001b[0m\u001b[1m CAISO              \u001b[0m\u001b[1m West (non-ISO)\u001b[0m ⋯\n",
       "\u001b[1m     \u001b[0m│\u001b[90m String31             \u001b[0m\u001b[90m Float64       \u001b[0m\u001b[90m String31           \u001b[0m\u001b[90m String31      \u001b[0m ⋯\n",
       "─────┼──────────────────────────────────────────────────────────────────────────\n",
       "   1 │ 2006-09-01T00:00:00Z            7.0  NA                  239.8734302320 ⋯\n",
       "   2 │ 2007-06-25T00:00:00Z            5.0  220.6314143578111   NA\n",
       "   3 │ 2008-07-01T00:00:00Z          550.0  150.73040524305304  NA\n",
       "   4 │ 2008-07-23T00:00:00Z          210.0  131.7706901652578   NA\n",
       "   5 │ 2008-12-19T00:00:00Z           10.0  168.7879318708772   NA             ⋯\n",
       "   6 │ 2009-02-23T00:00:00Z           30.0  NA                  132.0967886722\n",
       "\u001b[36m                                                               9 columns omitted\u001b[0m"
      ]
     },
     "metadata": {},
     "output_type": "display_data"
    }
   ],
   "source": [
    "first(ppa_price, 6)"
   ]
  },
  {
   "cell_type": "markdown",
   "metadata": {},
   "source": [
    "Convert the data from wide to long. In Julia this is done using stack() which seems similar to gather() in tidyverse. "
   ]
  },
  {
   "cell_type": "code",
   "execution_count": 73,
   "metadata": {},
   "outputs": [
    {
     "data": {
      "text/html": [
       "<div class=\"data-frame\"><p>6 rows × 4 columns</p><table class=\"data-frame\"><thead><tr><th></th><th>PPA Execution Date</th><th>Capacity (MW)</th><th>variable</th><th>value</th></tr><tr><th></th><th title=\"String31\">String31</th><th title=\"Float64\">Float64</th><th title=\"String\">String</th><th title=\"String31\">String31</th></tr></thead><tbody><tr><th>1</th><td>2006-09-01T00:00:00Z</td><td>7.0</td><td>CAISO</td><td>NA</td></tr><tr><th>2</th><td>2007-06-25T00:00:00Z</td><td>5.0</td><td>CAISO</td><td>220.6314143578111</td></tr><tr><th>3</th><td>2008-07-01T00:00:00Z</td><td>550.0</td><td>CAISO</td><td>150.73040524305304</td></tr><tr><th>4</th><td>2008-07-23T00:00:00Z</td><td>210.0</td><td>CAISO</td><td>131.7706901652578</td></tr><tr><th>5</th><td>2008-12-19T00:00:00Z</td><td>10.0</td><td>CAISO</td><td>168.7879318708772</td></tr><tr><th>6</th><td>2009-02-23T00:00:00Z</td><td>30.0</td><td>CAISO</td><td>NA</td></tr></tbody></table></div>"
      ],
      "text/latex": [
       "\\begin{tabular}{r|cccc}\n",
       "\t& PPA Execution Date & Capacity (MW) & variable & value\\\\\n",
       "\t\\hline\n",
       "\t& String31 & Float64 & String & String31\\\\\n",
       "\t\\hline\n",
       "\t1 & 2006-09-01T00:00:00Z & 7.0 & CAISO & NA \\\\\n",
       "\t2 & 2007-06-25T00:00:00Z & 5.0 & CAISO & 220.6314143578111 \\\\\n",
       "\t3 & 2008-07-01T00:00:00Z & 550.0 & CAISO & 150.73040524305304 \\\\\n",
       "\t4 & 2008-07-23T00:00:00Z & 210.0 & CAISO & 131.7706901652578 \\\\\n",
       "\t5 & 2008-12-19T00:00:00Z & 10.0 & CAISO & 168.7879318708772 \\\\\n",
       "\t6 & 2009-02-23T00:00:00Z & 30.0 & CAISO & NA \\\\\n",
       "\\end{tabular}\n"
      ],
      "text/plain": [
       "\u001b[1m6×4 DataFrame\u001b[0m\n",
       "\u001b[1m Row \u001b[0m│\u001b[1m PPA Execution Date   \u001b[0m\u001b[1m Capacity (MW) \u001b[0m\u001b[1m variable \u001b[0m\u001b[1m value              \u001b[0m\n",
       "\u001b[1m     \u001b[0m│\u001b[90m String31             \u001b[0m\u001b[90m Float64       \u001b[0m\u001b[90m String   \u001b[0m\u001b[90m String31           \u001b[0m\n",
       "─────┼───────────────────────────────────────────────────────────────────\n",
       "   1 │ 2006-09-01T00:00:00Z            7.0  CAISO     NA\n",
       "   2 │ 2007-06-25T00:00:00Z            5.0  CAISO     220.6314143578111\n",
       "   3 │ 2008-07-01T00:00:00Z          550.0  CAISO     150.73040524305304\n",
       "   4 │ 2008-07-23T00:00:00Z          210.0  CAISO     131.7706901652578\n",
       "   5 │ 2008-12-19T00:00:00Z           10.0  CAISO     168.7879318708772\n",
       "   6 │ 2009-02-23T00:00:00Z           30.0  CAISO     NA"
      ]
     },
     "metadata": {},
     "output_type": "display_data"
    }
   ],
   "source": [
    "ppa_price_long = stack(ppa_price, Not(1:2));\n",
    "first(ppa_price_long, 6)"
   ]
  },
  {
   "cell_type": "markdown",
   "metadata": {},
   "source": [
    "Need to rename the columns. Julia has a rename() function that looks pretty standard. Interesting though, if you use an exclamation point in the function it will alter the dataframe in place, so you don't have to assign it back to itself or to a new object. "
   ]
  },
  {
   "cell_type": "code",
   "execution_count": 74,
   "metadata": {},
   "outputs": [
    {
     "data": {
      "text/html": [
       "<div class=\"data-frame\"><p>6 rows × 4 columns</p><table class=\"data-frame\"><thead><tr><th></th><th>ppa_execution_date</th><th>capacity_mw</th><th>region</th><th>ppa_price</th></tr><tr><th></th><th title=\"String31\">String31</th><th title=\"Float64\">Float64</th><th title=\"String\">String</th><th title=\"String31\">String31</th></tr></thead><tbody><tr><th>1</th><td>2006-09-01T00:00:00Z</td><td>7.0</td><td>CAISO</td><td>NA</td></tr><tr><th>2</th><td>2007-06-25T00:00:00Z</td><td>5.0</td><td>CAISO</td><td>220.6314143578111</td></tr><tr><th>3</th><td>2008-07-01T00:00:00Z</td><td>550.0</td><td>CAISO</td><td>150.73040524305304</td></tr><tr><th>4</th><td>2008-07-23T00:00:00Z</td><td>210.0</td><td>CAISO</td><td>131.7706901652578</td></tr><tr><th>5</th><td>2008-12-19T00:00:00Z</td><td>10.0</td><td>CAISO</td><td>168.7879318708772</td></tr><tr><th>6</th><td>2009-02-23T00:00:00Z</td><td>30.0</td><td>CAISO</td><td>NA</td></tr></tbody></table></div>"
      ],
      "text/latex": [
       "\\begin{tabular}{r|cccc}\n",
       "\t& ppa\\_execution\\_date & capacity\\_mw & region & ppa\\_price\\\\\n",
       "\t\\hline\n",
       "\t& String31 & Float64 & String & String31\\\\\n",
       "\t\\hline\n",
       "\t1 & 2006-09-01T00:00:00Z & 7.0 & CAISO & NA \\\\\n",
       "\t2 & 2007-06-25T00:00:00Z & 5.0 & CAISO & 220.6314143578111 \\\\\n",
       "\t3 & 2008-07-01T00:00:00Z & 550.0 & CAISO & 150.73040524305304 \\\\\n",
       "\t4 & 2008-07-23T00:00:00Z & 210.0 & CAISO & 131.7706901652578 \\\\\n",
       "\t5 & 2008-12-19T00:00:00Z & 10.0 & CAISO & 168.7879318708772 \\\\\n",
       "\t6 & 2009-02-23T00:00:00Z & 30.0 & CAISO & NA \\\\\n",
       "\\end{tabular}\n"
      ],
      "text/plain": [
       "\u001b[1m6×4 DataFrame\u001b[0m\n",
       "\u001b[1m Row \u001b[0m│\u001b[1m ppa_execution_date   \u001b[0m\u001b[1m capacity_mw \u001b[0m\u001b[1m region \u001b[0m\u001b[1m ppa_price          \u001b[0m\n",
       "\u001b[1m     \u001b[0m│\u001b[90m String31             \u001b[0m\u001b[90m Float64     \u001b[0m\u001b[90m String \u001b[0m\u001b[90m String31           \u001b[0m\n",
       "─────┼───────────────────────────────────────────────────────────────\n",
       "   1 │ 2006-09-01T00:00:00Z          7.0  CAISO   NA\n",
       "   2 │ 2007-06-25T00:00:00Z          5.0  CAISO   220.6314143578111\n",
       "   3 │ 2008-07-01T00:00:00Z        550.0  CAISO   150.73040524305304\n",
       "   4 │ 2008-07-23T00:00:00Z        210.0  CAISO   131.7706901652578\n",
       "   5 │ 2008-12-19T00:00:00Z         10.0  CAISO   168.7879318708772\n",
       "   6 │ 2009-02-23T00:00:00Z         30.0  CAISO   NA"
      ]
     },
     "metadata": {},
     "output_type": "display_data"
    }
   ],
   "source": [
    "rename!(ppa_price_long, [:ppa_execution_date, :capacity_mw, :region, :ppa_price]);\n",
    "first(ppa_price_long, 6)"
   ]
  },
  {
   "cell_type": "markdown",
   "metadata": {},
   "source": [
    "Julia has this \"missing\" type that is supposed to be like NULL in SQL and NA in R (according to the documentation). First change the NAs to missing. For some reason it wouldn't let me use the exact same code below with replace!(), so I had to assign it back to itself, wonder why that is. "
   ]
  },
  {
   "cell_type": "code",
   "execution_count": 75,
   "metadata": {},
   "outputs": [],
   "source": [
    "ppa_price_long.ppa_price = replace(ppa_price_long.ppa_price, \"NA\" => missing);"
   ]
  },
  {
   "cell_type": "markdown",
   "metadata": {},
   "source": [
    "Get rid of the missings in the ppa_price column and check to make sure there are 333 rows left. And it worked! "
   ]
  },
  {
   "cell_type": "code",
   "execution_count": 76,
   "metadata": {},
   "outputs": [
    {
     "data": {
      "text/plain": [
       "333"
      ]
     },
     "metadata": {},
     "output_type": "display_data"
    }
   ],
   "source": [
    "subset!(ppa_price_long, :ppa_price => ByRow(!ismissing));\n",
    "nrow(ppa_price_long)"
   ]
  },
  {
   "cell_type": "markdown",
   "metadata": {},
   "source": [
    "Convert the region variable to a factor. Looks like Julia has the CategoricalArrays package which seems similar to Categorical in Python or factors in R. Looks like I can transform it in place, and the  levels are assigned alphabetically. "
   ]
  },
  {
   "cell_type": "code",
   "execution_count": 77,
   "metadata": {},
   "outputs": [
    {
     "data": {
      "text/plain": [
       "10-element Vector{String}:\n",
       " \"CAISO\"\n",
       " \"ERCOT\"\n",
       " \"Hawaii\"\n",
       " \"ISO-NE\"\n",
       " \"MISO\"\n",
       " \"NYISO\"\n",
       " \"PJM\"\n",
       " \"SPP\"\n",
       " \"Southeast (non-ISO)\"\n",
       " \"West (non-ISO)\""
      ]
     },
     "metadata": {},
     "output_type": "display_data"
    }
   ],
   "source": [
    "transform!(ppa_price_long, :region => categorical);\n",
    "levels(ppa_price_long.region_categorical)"
   ]
  },
  {
   "cell_type": "markdown",
   "metadata": {},
   "source": [
    "Suppose I'd better change the ppa_price from string to numeric as well. This is something weird in Julia, the column type is both string and missing? "
   ]
  },
  {
   "cell_type": "code",
   "execution_count": 78,
   "metadata": {},
   "outputs": [
    {
     "data": {
      "text/plain": [
       "5-element Vector{Type}:\n",
       " String31\n",
       " Float64\n",
       " String\n",
       " Union{Missing, String31}\n",
       " CategoricalValue{String, UInt32}"
      ]
     },
     "metadata": {},
     "output_type": "display_data"
    }
   ],
   "source": [
    "eltype.(eachcol(ppa_price_long))"
   ]
  },
  {
   "cell_type": "markdown",
   "metadata": {},
   "source": [
    "Guessing if I drop the missings (there aren't any) the column type will be fixed? (It worked!)"
   ]
  },
  {
   "cell_type": "code",
   "execution_count": 79,
   "metadata": {},
   "outputs": [
    {
     "data": {
      "text/plain": [
       "5-element Vector{DataType}:\n",
       " String31\n",
       " Float64\n",
       " String\n",
       " String31\n",
       " CategoricalValue{String, UInt32}"
      ]
     },
     "metadata": {},
     "output_type": "display_data"
    }
   ],
   "source": [
    "dropmissing!(ppa_price_long, :ppa_price);\n",
    "eltype.(eachcol(ppa_price_long))"
   ]
  },
  {
   "cell_type": "markdown",
   "metadata": {},
   "source": [
    "Now finally I can convert it to numeric. Since it's in a dataframe column I'll use transform() again since I would usually do this with dplyr functions in R as well. The commented-out code is another way I found it could be done using map, but I'm just going to stick with using transform for now until I get used to the syntax. "
   ]
  },
  {
   "cell_type": "code",
   "execution_count": 80,
   "metadata": {},
   "outputs": [
    {
     "data": {
      "text/html": [
       "<p>DataFrameRow (5 columns)</p><div class=\"data-frame\"><table class=\"data-frame\"><thead><tr><th></th><th>ppa_execution_date</th><th>capacity_mw</th><th>region</th><th>ppa_price</th><th>region_categorical</th></tr><tr><th></th><th title=\"String31\">String31</th><th title=\"Float64\">Float64</th><th title=\"String\">String</th><th title=\"Float64\">Float64</th><th title=\"CategoricalValue{String, UInt32}\">Cat…</th></tr></thead><tbody><tr><th>1</th><td>2007-06-25T00:00:00Z</td><td>5.0</td><td>CAISO</td><td>220.631</td><td>CAISO</td></tr></tbody></table></div>"
      ],
      "text/latex": [
       "\\begin{tabular}{r|ccccc}\n",
       "\t& ppa\\_execution\\_date & capacity\\_mw & region & ppa\\_price & region\\_categorical\\\\\n",
       "\t\\hline\n",
       "\t& String31 & Float64 & String & Float64 & Cat…\\\\\n",
       "\t\\hline\n",
       "\t1 & 2007-06-25T00:00:00Z & 5.0 & CAISO & 220.631 & CAISO \\\\\n",
       "\\end{tabular}\n"
      ],
      "text/plain": [
       "\u001b[1mDataFrameRow\u001b[0m\n",
       "\u001b[1m Row \u001b[0m│\u001b[1m ppa_execution_date   \u001b[0m\u001b[1m capacity_mw \u001b[0m\u001b[1m region \u001b[0m\u001b[1m ppa_price \u001b[0m\u001b[1m region_categorica\u001b[0m ⋯\n",
       "\u001b[1m     \u001b[0m│\u001b[90m String31             \u001b[0m\u001b[90m Float64     \u001b[0m\u001b[90m String \u001b[0m\u001b[90m Float64   \u001b[0m\u001b[90m CategoricalValue…\u001b[0m ⋯\n",
       "─────┼──────────────────────────────────────────────────────────────────────────\n",
       "   1 │ 2007-06-25T00:00:00Z          5.0  CAISO     220.631  CAISO             ⋯\n",
       "\u001b[36m                                                                1 column omitted\u001b[0m"
      ]
     },
     "metadata": {},
     "output_type": "display_data"
    }
   ],
   "source": [
    "#map(x->parse(Float64, x), ppa_price_long.ppa_price)\n",
    "transform!(ppa_price_long, :ppa_price => ByRow(x -> parse(Float64, x)) => :ppa_price);\n",
    "first(ppa_price_long)"
   ]
  },
  {
   "cell_type": "markdown",
   "metadata": {},
   "source": [
    "Create a new date variable. Was having a bit of a hard time figuring out the datetime manipulation in Julia, I'm converting it to a string first. Note that transform() is a bit like dplyr's mutate(). "
   ]
  },
  {
   "cell_type": "code",
   "execution_count": 81,
   "metadata": {},
   "outputs": [
    {
     "data": {
      "text/html": [
       "<div class=\"data-frame\"><p>6 rows × 6 columns</p><table class=\"data-frame\"><thead><tr><th></th><th>ppa_execution_date</th><th>capacity_mw</th><th>region</th><th>ppa_price</th><th>region_categorical</th><th>ppa_date</th></tr><tr><th></th><th title=\"String31\">String31</th><th title=\"Float64\">Float64</th><th title=\"String\">String</th><th title=\"Float64\">Float64</th><th title=\"CategoricalValue{String, UInt32}\">Cat…</th><th title=\"SubString{String31}\">SubStrin…</th></tr></thead><tbody><tr><th>1</th><td>2007-06-25T00:00:00Z</td><td>5.0</td><td>CAISO</td><td>220.631</td><td>CAISO</td><td>2007-06-25</td></tr><tr><th>2</th><td>2008-07-01T00:00:00Z</td><td>550.0</td><td>CAISO</td><td>150.73</td><td>CAISO</td><td>2008-07-01</td></tr><tr><th>3</th><td>2008-07-23T00:00:00Z</td><td>210.0</td><td>CAISO</td><td>131.771</td><td>CAISO</td><td>2008-07-23</td></tr><tr><th>4</th><td>2008-12-19T00:00:00Z</td><td>10.0</td><td>CAISO</td><td>168.788</td><td>CAISO</td><td>2008-12-19</td></tr><tr><th>5</th><td>2009-05-08T00:00:00Z</td><td>230.0</td><td>CAISO</td><td>142.783</td><td>CAISO</td><td>2009-05-08</td></tr><tr><th>6</th><td>2009-06-22T00:00:00Z</td><td>48.0</td><td>CAISO</td><td>166.372</td><td>CAISO</td><td>2009-06-22</td></tr></tbody></table></div>"
      ],
      "text/latex": [
       "\\begin{tabular}{r|cccccc}\n",
       "\t& ppa\\_execution\\_date & capacity\\_mw & region & ppa\\_price & region\\_categorical & ppa\\_date\\\\\n",
       "\t\\hline\n",
       "\t& String31 & Float64 & String & Float64 & Cat… & SubStrin…\\\\\n",
       "\t\\hline\n",
       "\t1 & 2007-06-25T00:00:00Z & 5.0 & CAISO & 220.631 & CAISO & 2007-06-25 \\\\\n",
       "\t2 & 2008-07-01T00:00:00Z & 550.0 & CAISO & 150.73 & CAISO & 2008-07-01 \\\\\n",
       "\t3 & 2008-07-23T00:00:00Z & 210.0 & CAISO & 131.771 & CAISO & 2008-07-23 \\\\\n",
       "\t4 & 2008-12-19T00:00:00Z & 10.0 & CAISO & 168.788 & CAISO & 2008-12-19 \\\\\n",
       "\t5 & 2009-05-08T00:00:00Z & 230.0 & CAISO & 142.783 & CAISO & 2009-05-08 \\\\\n",
       "\t6 & 2009-06-22T00:00:00Z & 48.0 & CAISO & 166.372 & CAISO & 2009-06-22 \\\\\n",
       "\\end{tabular}\n"
      ],
      "text/plain": [
       "\u001b[1m6×6 DataFrame\u001b[0m\n",
       "\u001b[1m Row \u001b[0m│\u001b[1m ppa_execution_date   \u001b[0m\u001b[1m capacity_mw \u001b[0m\u001b[1m region \u001b[0m\u001b[1m ppa_price \u001b[0m\u001b[1m region_categorica\u001b[0m ⋯\n",
       "\u001b[1m     \u001b[0m│\u001b[90m String31             \u001b[0m\u001b[90m Float64     \u001b[0m\u001b[90m String \u001b[0m\u001b[90m Float64   \u001b[0m\u001b[90m CategoricalValue…\u001b[0m ⋯\n",
       "─────┼──────────────────────────────────────────────────────────────────────────\n",
       "   1 │ 2007-06-25T00:00:00Z          5.0  CAISO     220.631  CAISO             ⋯\n",
       "   2 │ 2008-07-01T00:00:00Z        550.0  CAISO     150.73   CAISO\n",
       "   3 │ 2008-07-23T00:00:00Z        210.0  CAISO     131.771  CAISO\n",
       "   4 │ 2008-12-19T00:00:00Z         10.0  CAISO     168.788  CAISO\n",
       "   5 │ 2009-05-08T00:00:00Z        230.0  CAISO     142.783  CAISO             ⋯\n",
       "   6 │ 2009-06-22T00:00:00Z         48.0  CAISO     166.372  CAISO\n",
       "\u001b[36m                                                               2 columns omitted\u001b[0m"
      ]
     },
     "metadata": {},
     "output_type": "display_data"
    }
   ],
   "source": [
    "transform!(ppa_price_long, :ppa_execution_date => ByRow(x -> SubString(x, 1, 10)) => :ppa_date);\n",
    "first(ppa_price_long, 6)"
   ]
  },
  {
   "cell_type": "markdown",
   "metadata": {},
   "source": [
    "Now to format it as an actual date. Apparently it will be really slow if you don't define a date format first because Julia will create a new format for each individual line? Also this syntax looks really simple but it took me a minute, I tried a lot more complicated things first. "
   ]
  },
  {
   "cell_type": "code",
   "execution_count": 82,
   "metadata": {},
   "outputs": [
    {
     "data": {
      "text/html": [
       "<div class=\"data-frame\"><p>6 rows × 6 columns</p><table class=\"data-frame\"><thead><tr><th></th><th>ppa_execution_date</th><th>capacity_mw</th><th>region</th><th>ppa_price</th><th>region_categorical</th><th>ppa_date</th></tr><tr><th></th><th title=\"String31\">String31</th><th title=\"Float64\">Float64</th><th title=\"String\">String</th><th title=\"Float64\">Float64</th><th title=\"CategoricalValue{String, UInt32}\">Cat…</th><th title=\"Date\">Date</th></tr></thead><tbody><tr><th>1</th><td>2007-06-25T00:00:00Z</td><td>5.0</td><td>CAISO</td><td>220.631</td><td>CAISO</td><td>2007-06-25</td></tr><tr><th>2</th><td>2008-07-01T00:00:00Z</td><td>550.0</td><td>CAISO</td><td>150.73</td><td>CAISO</td><td>2008-07-01</td></tr><tr><th>3</th><td>2008-07-23T00:00:00Z</td><td>210.0</td><td>CAISO</td><td>131.771</td><td>CAISO</td><td>2008-07-23</td></tr><tr><th>4</th><td>2008-12-19T00:00:00Z</td><td>10.0</td><td>CAISO</td><td>168.788</td><td>CAISO</td><td>2008-12-19</td></tr><tr><th>5</th><td>2009-05-08T00:00:00Z</td><td>230.0</td><td>CAISO</td><td>142.783</td><td>CAISO</td><td>2009-05-08</td></tr><tr><th>6</th><td>2009-06-22T00:00:00Z</td><td>48.0</td><td>CAISO</td><td>166.372</td><td>CAISO</td><td>2009-06-22</td></tr></tbody></table></div>"
      ],
      "text/latex": [
       "\\begin{tabular}{r|cccccc}\n",
       "\t& ppa\\_execution\\_date & capacity\\_mw & region & ppa\\_price & region\\_categorical & ppa\\_date\\\\\n",
       "\t\\hline\n",
       "\t& String31 & Float64 & String & Float64 & Cat… & Date\\\\\n",
       "\t\\hline\n",
       "\t1 & 2007-06-25T00:00:00Z & 5.0 & CAISO & 220.631 & CAISO & 2007-06-25 \\\\\n",
       "\t2 & 2008-07-01T00:00:00Z & 550.0 & CAISO & 150.73 & CAISO & 2008-07-01 \\\\\n",
       "\t3 & 2008-07-23T00:00:00Z & 210.0 & CAISO & 131.771 & CAISO & 2008-07-23 \\\\\n",
       "\t4 & 2008-12-19T00:00:00Z & 10.0 & CAISO & 168.788 & CAISO & 2008-12-19 \\\\\n",
       "\t5 & 2009-05-08T00:00:00Z & 230.0 & CAISO & 142.783 & CAISO & 2009-05-08 \\\\\n",
       "\t6 & 2009-06-22T00:00:00Z & 48.0 & CAISO & 166.372 & CAISO & 2009-06-22 \\\\\n",
       "\\end{tabular}\n"
      ],
      "text/plain": [
       "\u001b[1m6×6 DataFrame\u001b[0m\n",
       "\u001b[1m Row \u001b[0m│\u001b[1m ppa_execution_date   \u001b[0m\u001b[1m capacity_mw \u001b[0m\u001b[1m region \u001b[0m\u001b[1m ppa_price \u001b[0m\u001b[1m region_categorica\u001b[0m ⋯\n",
       "\u001b[1m     \u001b[0m│\u001b[90m String31             \u001b[0m\u001b[90m Float64     \u001b[0m\u001b[90m String \u001b[0m\u001b[90m Float64   \u001b[0m\u001b[90m CategoricalValue…\u001b[0m ⋯\n",
       "─────┼──────────────────────────────────────────────────────────────────────────\n",
       "   1 │ 2007-06-25T00:00:00Z          5.0  CAISO     220.631  CAISO             ⋯\n",
       "   2 │ 2008-07-01T00:00:00Z        550.0  CAISO     150.73   CAISO\n",
       "   3 │ 2008-07-23T00:00:00Z        210.0  CAISO     131.771  CAISO\n",
       "   4 │ 2008-12-19T00:00:00Z         10.0  CAISO     168.788  CAISO\n",
       "   5 │ 2009-05-08T00:00:00Z        230.0  CAISO     142.783  CAISO             ⋯\n",
       "   6 │ 2009-06-22T00:00:00Z         48.0  CAISO     166.372  CAISO\n",
       "\u001b[36m                                                               2 columns omitted\u001b[0m"
      ]
     },
     "metadata": {},
     "output_type": "display_data"
    }
   ],
   "source": [
    "myFormat = Dates.DateFormat(\"yyyy-mm-dd\")\n",
    "ppa_price_long.ppa_date = Date.(ppa_price_long.ppa_date, myFormat);\n",
    "first(ppa_price_long, 6)\n"
   ]
  },
  {
   "cell_type": "markdown",
   "metadata": {},
   "source": [
    "Now I actually want to make a year column as well that can be used for aggregation for the bar chart. Fun thing I found in the documentation - with the code below, if I use Dates.Year (uppercase Y) it returns a period object. If using lowercase, it returns an Int which is probably more what I want. "
   ]
  },
  {
   "cell_type": "code",
   "execution_count": 83,
   "metadata": {},
   "outputs": [
    {
     "data": {
      "text/html": [
       "<div class=\"data-frame\"><p>6 rows × 7 columns (omitted printing of 1 columns)</p><table class=\"data-frame\"><thead><tr><th></th><th>ppa_execution_date</th><th>capacity_mw</th><th>region</th><th>ppa_price</th><th>region_categorical</th><th>ppa_date</th></tr><tr><th></th><th title=\"String31\">String31</th><th title=\"Float64\">Float64</th><th title=\"String\">String</th><th title=\"Float64\">Float64</th><th title=\"CategoricalValue{String, UInt32}\">Cat…</th><th title=\"Date\">Date</th></tr></thead><tbody><tr><th>1</th><td>2007-06-25T00:00:00Z</td><td>5.0</td><td>CAISO</td><td>220.631</td><td>CAISO</td><td>2007-06-25</td></tr><tr><th>2</th><td>2008-07-01T00:00:00Z</td><td>550.0</td><td>CAISO</td><td>150.73</td><td>CAISO</td><td>2008-07-01</td></tr><tr><th>3</th><td>2008-07-23T00:00:00Z</td><td>210.0</td><td>CAISO</td><td>131.771</td><td>CAISO</td><td>2008-07-23</td></tr><tr><th>4</th><td>2008-12-19T00:00:00Z</td><td>10.0</td><td>CAISO</td><td>168.788</td><td>CAISO</td><td>2008-12-19</td></tr><tr><th>5</th><td>2009-05-08T00:00:00Z</td><td>230.0</td><td>CAISO</td><td>142.783</td><td>CAISO</td><td>2009-05-08</td></tr><tr><th>6</th><td>2009-06-22T00:00:00Z</td><td>48.0</td><td>CAISO</td><td>166.372</td><td>CAISO</td><td>2009-06-22</td></tr></tbody></table></div>"
      ],
      "text/latex": [
       "\\begin{tabular}{r|ccccccc}\n",
       "\t& ppa\\_execution\\_date & capacity\\_mw & region & ppa\\_price & region\\_categorical & ppa\\_date & \\\\\n",
       "\t\\hline\n",
       "\t& String31 & Float64 & String & Float64 & Cat… & Date & \\\\\n",
       "\t\\hline\n",
       "\t1 & 2007-06-25T00:00:00Z & 5.0 & CAISO & 220.631 & CAISO & 2007-06-25 & $\\dots$ \\\\\n",
       "\t2 & 2008-07-01T00:00:00Z & 550.0 & CAISO & 150.73 & CAISO & 2008-07-01 & $\\dots$ \\\\\n",
       "\t3 & 2008-07-23T00:00:00Z & 210.0 & CAISO & 131.771 & CAISO & 2008-07-23 & $\\dots$ \\\\\n",
       "\t4 & 2008-12-19T00:00:00Z & 10.0 & CAISO & 168.788 & CAISO & 2008-12-19 & $\\dots$ \\\\\n",
       "\t5 & 2009-05-08T00:00:00Z & 230.0 & CAISO & 142.783 & CAISO & 2009-05-08 & $\\dots$ \\\\\n",
       "\t6 & 2009-06-22T00:00:00Z & 48.0 & CAISO & 166.372 & CAISO & 2009-06-22 & $\\dots$ \\\\\n",
       "\\end{tabular}\n"
      ],
      "text/plain": [
       "\u001b[1m6×7 DataFrame\u001b[0m\n",
       "\u001b[1m Row \u001b[0m│\u001b[1m ppa_execution_date   \u001b[0m\u001b[1m capacity_mw \u001b[0m\u001b[1m region \u001b[0m\u001b[1m ppa_price \u001b[0m\u001b[1m region_categorica\u001b[0m ⋯\n",
       "\u001b[1m     \u001b[0m│\u001b[90m String31             \u001b[0m\u001b[90m Float64     \u001b[0m\u001b[90m String \u001b[0m\u001b[90m Float64   \u001b[0m\u001b[90m CategoricalValue…\u001b[0m ⋯\n",
       "─────┼──────────────────────────────────────────────────────────────────────────\n",
       "   1 │ 2007-06-25T00:00:00Z          5.0  CAISO     220.631  CAISO             ⋯\n",
       "   2 │ 2008-07-01T00:00:00Z        550.0  CAISO     150.73   CAISO\n",
       "   3 │ 2008-07-23T00:00:00Z        210.0  CAISO     131.771  CAISO\n",
       "   4 │ 2008-12-19T00:00:00Z         10.0  CAISO     168.788  CAISO\n",
       "   5 │ 2009-05-08T00:00:00Z        230.0  CAISO     142.783  CAISO             ⋯\n",
       "   6 │ 2009-06-22T00:00:00Z         48.0  CAISO     166.372  CAISO\n",
       "\u001b[36m                                                               3 columns omitted\u001b[0m"
      ]
     },
     "metadata": {},
     "output_type": "display_data"
    }
   ],
   "source": [
    "transform!(ppa_price_long, :ppa_date => ByRow(x -> Dates.year(x)) => :ppa_year);\n",
    "first(ppa_price_long, 6)"
   ]
  },
  {
   "cell_type": "markdown",
   "metadata": {},
   "source": [
    "Plotting in Julia's gr() wasn't really ideal so I decided to just go straight to plotly (I tried several other things first actually). I was able to find a solution on stackoverflow for mapping the colors but it's not ideal, I don't understand why there is no ability to easily use a colormap like there is with Python. "
   ]
  },
  {
   "cell_type": "code",
   "execution_count": 84,
   "metadata": {},
   "outputs": [],
   "source": [
    "mycolorpal = Dict(\n",
    "    \"CAISO\" => \"#4E79A7\", \n",
    "    \"ERCOT\" => \"#F28E2B\", \n",
    "    \"Hawaii\" => \"#E15759\", \n",
    "    \"ISO-NE\" => \"#76B7B2\",\n",
    "    \"MISO\" => \"#59A14F\", \n",
    "    \"NYISO\" => \"#BAB0AC\", \n",
    "    \"PJM\" => \"#9C755F\", \n",
    "    \"Southeast (non-ISO)\" => \"#FF9DA7\",\n",
    "    \"SPP\" => \"#B07AA1\", \n",
    "    \"West (non-ISO)\" => \"#EDC948\");\n"
   ]
  },
  {
   "cell_type": "code",
   "execution_count": 85,
   "metadata": {},
   "outputs": [
    {
     "data": {
      "application/vnd.plotly.v1+json": {
       "config": {
        "editable": false,
        "responsive": true,
        "scrollZoom": true,
        "showLink": false,
        "staticPlot": false
       },
       "data": [
        {
         "color": [
          "CAISO",
          "CAISO",
          "CAISO",
          "CAISO",
          "CAISO",
          "CAISO",
          "CAISO",
          "CAISO",
          "CAISO",
          "CAISO",
          "CAISO",
          "CAISO",
          "CAISO",
          "CAISO",
          "CAISO",
          "CAISO",
          "CAISO",
          "CAISO",
          "CAISO",
          "CAISO",
          "CAISO",
          "CAISO",
          "CAISO",
          "CAISO",
          "CAISO",
          "CAISO",
          "CAISO",
          "CAISO",
          "CAISO",
          "CAISO",
          "CAISO",
          "CAISO",
          "CAISO",
          "CAISO",
          "CAISO",
          "CAISO",
          "CAISO",
          "CAISO",
          "CAISO",
          "CAISO",
          "CAISO",
          "CAISO",
          "CAISO",
          "CAISO",
          "CAISO",
          "CAISO",
          "CAISO",
          "CAISO",
          "CAISO",
          "CAISO",
          "CAISO",
          "CAISO",
          "CAISO",
          "CAISO",
          "CAISO",
          "CAISO",
          "CAISO",
          "CAISO",
          "CAISO",
          "CAISO",
          "CAISO",
          "CAISO",
          "CAISO",
          "CAISO",
          "CAISO",
          "CAISO",
          "CAISO",
          "CAISO",
          "CAISO",
          "CAISO",
          "CAISO",
          "CAISO",
          "CAISO",
          "CAISO",
          "CAISO",
          "CAISO",
          "CAISO",
          "CAISO",
          "CAISO",
          "CAISO",
          "CAISO",
          "CAISO",
          "CAISO",
          "CAISO",
          "CAISO",
          "CAISO",
          "CAISO",
          "CAISO",
          "CAISO",
          "CAISO",
          "CAISO",
          "CAISO",
          "CAISO",
          "CAISO",
          "CAISO",
          "CAISO",
          "CAISO",
          "CAISO",
          "CAISO",
          "CAISO",
          "CAISO",
          "CAISO",
          "CAISO",
          "CAISO",
          "CAISO",
          "CAISO",
          "CAISO",
          "CAISO",
          "CAISO",
          "CAISO",
          "CAISO",
          "CAISO",
          "CAISO",
          "CAISO",
          "CAISO",
          "CAISO",
          "CAISO",
          "CAISO",
          "CAISO",
          "CAISO",
          "CAISO",
          "CAISO",
          "CAISO"
         ],
         "labels": {
          "ppa_date": "",
          "ppa_price": "PPA Price (2020 Dollars/MWh)",
          "region_categorical": "Region"
         },
         "marker": {
          "color": "#4E79A7",
          "line": {
           "width": 2
          },
          "size": [
           5,
           550,
           210,
           10,
           230,
           48,
           250,
           250,
           21,
           20,
           19,
           6,
           50,
           20,
           20,
           300,
           40,
           66,
           125,
           25.8,
           150,
           45,
           62.5,
           130,
           20,
           14,
           60,
           309,
           20,
           270,
           110,
           26,
           150,
           110,
           150,
           23,
           20,
           150,
           250,
           200,
           20,
           20,
           20,
           20,
           20,
           102,
           20,
           20.8,
           20,
           10,
           20,
           20,
           45,
           20,
           20,
           20,
           20,
           20,
           20,
           40,
           20,
           20,
           12,
           15,
           20,
           20,
           20,
           7.314,
           150,
           7,
           20,
           26.66,
           30,
           93.6,
           75,
           60,
           30,
           40,
           11.4,
           20,
           20,
           20,
           20,
           19.5,
           19.5,
           15,
           14.7,
           130,
           10.5,
           20,
           54,
           6.8,
           20,
           100.815,
           125,
           150,
           10,
           10,
           55,
           154.272,
           85,
           54,
           20,
           20,
           20,
           20,
           26,
           20,
           100,
           80,
           60,
           17,
           252.32,
           200,
           62.5,
           50,
           45,
           106.688,
           100,
           400,
           44,
           50,
           90
          ],
          "sizemode": "area",
          "symbol": "circle-open"
         },
         "mode": "markers",
         "name": "CAISO",
         "type": "scatter",
         "x": [
          "2007-06-25",
          "2008-07-01",
          "2008-07-23",
          "2008-12-19",
          "2009-05-08",
          "2009-06-22",
          "2009-08-17",
          "2009-09-08",
          "2009-11-20",
          "2009-12-24",
          "2009-12-24",
          "2009-12-24",
          "2010-01-26",
          "2010-01-26",
          "2010-01-26",
          "2010-02-24",
          "2010-03-06",
          "2010-04-21",
          "2010-05-10",
          "2010-05-20",
          "2010-07-29",
          "2010-07-29",
          "2010-09-20",
          "2010-11-10",
          "2010-11-15",
          "2010-11-15",
          "2010-12-21",
          "2010-12-30",
          "2010-12-30",
          "2011-01-05",
          "2011-01-07",
          "2011-01-25",
          "2011-03-08",
          "2011-06-03",
          "2011-06-21",
          "2011-07-08",
          "2011-07-14",
          "2011-07-21",
          "2011-09-29",
          "2012-02-03",
          "2012-02-27",
          "2012-07-03",
          "2012-07-03",
          "2012-08-03",
          "2012-08-13",
          "2012-08-16",
          "2012-08-29",
          "2012-09-17",
          "2012-09-17",
          "2012-10-17",
          "2012-11-01",
          "2012-11-15",
          "2013-02-28",
          "2013-03-22",
          "2013-03-22",
          "2013-03-25",
          "2013-04-10",
          "2013-04-16",
          "2013-06-01",
          "2013-07-10",
          "2013-07-10",
          "2013-07-17",
          "2013-07-17",
          "2013-09-06",
          "2013-09-27",
          "2013-10-09",
          "2013-10-22",
          "2013-12-01",
          "2013-12-19",
          "2014-01-30",
          "2014-03-17",
          "2014-03-26",
          "2014-06-12",
          "2014-07-18",
          "2014-07-23",
          "2014-09-03",
          "2014-10-03",
          "2014-10-20",
          "2014-10-21",
          "2014-10-22",
          "2014-10-22",
          "2014-10-22",
          "2014-10-22",
          "2014-10-22",
          "2014-10-22",
          "2014-10-22",
          "2014-10-22",
          "2014-12-09",
          "2015-03-05",
          "2015-03-23",
          "2015-04-03",
          "2015-04-14",
          "2015-04-17",
          "2015-06-25",
          "2015-07-15",
          "2015-07-16",
          "2015-08-12",
          "2015-08-16",
          "2015-10-08",
          "2015-10-09",
          "2015-11-05",
          "2015-11-06",
          "2015-12-18",
          "2015-12-18",
          "2015-12-18",
          "2015-12-18",
          "2016-01-06",
          "2016-08-04",
          "2016-09-15",
          "2016-11-18",
          "2017-01-17",
          "2017-03-23",
          "2017-08-08",
          "2017-09-23",
          "2017-09-26",
          "2017-09-26",
          "2017-12-08",
          "2018-02-21",
          "2018-05-07",
          "2019-07-01",
          "2019-11-26",
          "2021-02-23",
          "2021-06-01"
         ],
         "y": [
          220.6314143578111,
          150.73040524305304,
          131.7706901652578,
          168.7879318708772,
          142.78340860236398,
          166.37159677334844,
          145.58888183815037,
          194.79262084030665,
          117.45124673431536,
          240.08263936563256,
          240.08263936563256,
          240.08263936563256,
          164.2326074511121,
          164.2326074511121,
          163.20807880481198,
          141.8306416215412,
          133.81512112509478,
          140.64368111356367,
          133.21471916752552,
          160.55576052646407,
          154.49478261403425,
          128.94246662977548,
          124.46150053332839,
          130.46105532275737,
          77.03929545206913,
          78.97446706708662,
          124.70222447672158,
          110.49071387284506,
          147.93328369973588,
          110.72793418415294,
          123.30544471010373,
          135.50909530311614,
          94.32048885309871,
          119.61881898299147,
          107.10791682952231,
          126.51001719203325,
          101.06462360792489,
          115.93134912455014,
          85.82776323970987,
          86.71512352950455,
          76.75697234459739,
          91.37579266315252,
          94.20718002761828,
          87.99418833534409,
          91.28766996706315,
          89.01428111429372,
          86.0512793615273,
          100.91375636786022,
          83.85064536247386,
          86.45576043916415,
          71.0327123526809,
          82.26990645632094,
          80.46987051642836,
          86.87988724301653,
          85.54537932553805,
          75.76944474010614,
          85.05792221307597,
          62.489022441100744,
          58.951732971391216,
          58.75522719481988,
          63.02709190289174,
          79.5726791439734,
          79.5726791439734,
          66.28936478798892,
          63.68742869174033,
          65.82685163214958,
          63.91986456287807,
          81.53604720116765,
          56.080659271407015,
          68.41520328208978,
          63.18045750983538,
          59.117106335814285,
          56.86209041021481,
          54.488431930163024,
          57.44522771982516,
          50.300759013700436,
          59.11949866100642,
          56.4938126225839,
          61.90740212283591,
          56.28496860550723,
          56.28496860550723,
          56.28496860550723,
          49.75052347232684,
          64.20597530016389,
          64.2219628438143,
          56.28496860550723,
          66.2044182564688,
          59.05724259119822,
          83.88826905117325,
          68.10352598380763,
          45.32687067963806,
          63.489127014754814,
          52.96529741520359,
          54.667308533996064,
          51.94942711425971,
          48.8948750771606,
          50.141477338304576,
          50.141477338304576,
          49.01080936413655,
          42.59416644624804,
          51.50922085544329,
          44.588438658721486,
          51.162849398788495,
          51.093216616311146,
          51.14188698885673,
          50.756371673595154,
          29.29335002239008,
          41.140252095784604,
          41.91675639277014,
          34.52772845137561,
          39.19113706794416,
          32.88355090607199,
          48.292314630589125,
          29.92160134279507,
          28.853208000148282,
          28.330443857538935,
          19.553065269533572,
          45.705585928787485,
          30.171215499609822,
          15.214713375484605,
          23.636449894044457,
          20.535411149143354,
          17.37611712619826
         ]
        },
        {
         "color": [
          "ERCOT",
          "ERCOT",
          "ERCOT",
          "ERCOT",
          "ERCOT",
          "ERCOT",
          "ERCOT",
          "ERCOT",
          "ERCOT",
          "ERCOT"
         ],
         "labels": {
          "ppa_date": "",
          "ppa_price": "PPA Price (2020 Dollars/MWh)",
          "region_categorical": "Region"
         },
         "marker": {
          "color": "#F28E2B",
          "line": {
           "width": 2
          },
          "size": [
           30,
           14,
           157.5,
           170,
           118.5,
           30,
           150,
           20,
           150,
           144
          ],
          "sizemode": "area",
          "symbol": "circle-open"
         },
         "mode": "markers",
         "name": "ERCOT",
         "type": "scatter",
         "x": [
          "2009-03-01",
          "2009-06-01",
          "2014-05-01",
          "2015-10-01",
          "2015-10-01",
          "2015-11-10",
          "2016-11-18",
          "2017-01-31",
          "2017-12-14",
          "2018-10-18"
         ],
         "y": [
          159.50239793933142,
          201.8761794144841,
          43.767792548438244,
          33.477572124902736,
          36.02311237955543,
          43.767792548438244,
          34.21565610106187,
          36.45492387680337,
          20.186253695552864,
          30.71821214540652
         ]
        },
        {
         "color": [
          "Hawaii",
          "Hawaii",
          "Hawaii",
          "Hawaii",
          "Hawaii",
          "Hawaii"
         ],
         "labels": {
          "ppa_date": "",
          "ppa_price": "PPA Price (2020 Dollars/MWh)",
          "region_categorical": "Region"
         },
         "marker": {
          "color": "#E15759",
          "line": {
           "width": 2
          },
          "size": [
           6,
           12,
           27.6,
           45.9,
           14.7,
           49
          ],
          "sizemode": "area",
          "symbol": "circle-open"
         },
         "mode": "markers",
         "name": "Hawaii",
         "type": "scatter",
         "x": [
          "2011-07-18",
          "2013-06-19",
          "2015-07-01",
          "2017-01-12",
          "2017-01-12",
          "2017-03-31"
         ],
         "y": [
          196.32277356984014,
          152.21295504145908,
          130.3379195325974,
          90.24429598097487,
          98.62202378376895,
          95.01674773241187
         ]
        },
        {
         "color": [
          "ISO-NE",
          "ISO-NE",
          "ISO-NE",
          "ISO-NE",
          "ISO-NE",
          "ISO-NE",
          "ISO-NE",
          "ISO-NE",
          "ISO-NE"
         ],
         "labels": {
          "ppa_date": "",
          "ppa_price": "PPA Price (2020 Dollars/MWh)",
          "region_categorical": "Region"
         },
         "marker": {
          "color": "#76B7B2",
          "line": {
           "width": 2
          },
          "size": [
           20,
           78.4,
           49.36,
           19.6,
           19.59,
           19.58,
           19.58,
           50,
           50
          ],
          "sizemode": "area",
          "symbol": "circle-open"
         },
         "mode": "markers",
         "name": "ISO-NE",
         "type": "scatter",
         "x": [
          "2013-09-19",
          "2017-05-25",
          "2017-05-25",
          "2017-06-20",
          "2017-06-20",
          "2017-06-20",
          "2017-06-20",
          "2019-12-20",
          "2020-08-24"
         ],
         "y": [
          100.71927867926507,
          72.99455970642049,
          67.91892149465998,
          83.37244906647182,
          89.37934072069407,
          82.1995307006304,
          81.65755577293386,
          42.776392864564386,
          42.374031082751635
         ]
        },
        {
         "color": [
          "MISO",
          "MISO",
          "MISO",
          "MISO",
          "MISO",
          "MISO",
          "MISO",
          "MISO",
          "MISO",
          "MISO",
          "MISO",
          "MISO"
         ],
         "labels": {
          "ppa_date": "",
          "ppa_price": "PPA Price (2020 Dollars/MWh)",
          "region_categorical": "Region"
         },
         "marker": {
          "color": "#59A14F",
          "line": {
           "width": 2
          },
          "size": [
           28.8,
           100,
           62.25,
           81,
           20,
           52,
           100,
           10,
           40,
           10.5,
           100,
           9.307692307692307
          ],
          "sizemode": "area",
          "symbol": "circle-open"
         },
         "mode": "markers",
         "name": "MISO",
         "type": "scatter",
         "x": [
          "2013-02-04",
          "2014-10-24",
          "2015-03-03",
          "2015-04-03",
          "2015-07-01",
          "2015-09-23",
          "2017-06-19",
          "2018-02-01",
          "2018-08-10",
          "2018-10-01",
          "2019-08-19",
          "2019-09-19"
         ],
         "y": [
          99.91057583938934,
          66.35840065079067,
          62.332700687839,
          47.40774316126852,
          65.78777369214149,
          43.262990790301664,
          28.197735863712953,
          36.788433526466406,
          42.86942230482897,
          42.852437401430905,
          37.39622146341349,
          38.77729503000642
         ]
        },
        {
         "color": [
          "NYISO",
          "NYISO",
          "NYISO",
          "NYISO",
          "NYISO"
         ],
         "labels": {
          "ppa_date": "",
          "ppa_price": "PPA Price (2020 Dollars/MWh)",
          "region_categorical": "Region"
         },
         "marker": {
          "color": "#BAB0AC",
          "line": {
           "width": 2
          },
          "size": [
           32,
           24.9,
           6.3,
           500,
           90
          ],
          "sizemode": "area",
          "symbol": "circle-open"
         },
         "mode": "markers",
         "name": "NYISO",
         "type": "scatter",
         "x": [
          "2010-06-01",
          "2016-09-22",
          "2018-04-16",
          "2021-01-15",
          "2021-01-15"
         ],
         "y": [
          323.5796626050128,
          148.5921650730072,
          158.18619819742358,
          39.50406751768193,
          47.35781740394759
         ]
        },
        {
         "color": [
          "PJM",
          "PJM",
          "PJM",
          "PJM",
          "PJM",
          "PJM",
          "PJM",
          "PJM",
          "PJM",
          "PJM",
          "PJM",
          "PJM",
          "PJM",
          "PJM",
          "PJM"
         ],
         "labels": {
          "ppa_date": "",
          "ppa_price": "PPA Price (2020 Dollars/MWh)",
          "region_categorical": "Region"
         },
         "marker": {
          "color": "#9C755F",
          "line": {
           "width": 2
          },
          "size": [
           10.08,
           20,
           10.3,
           80,
           60,
           20,
           100,
           8.4,
           8.4,
           86,
           70,
           17.5,
           90,
           88,
           70
          ],
          "sizemode": "area",
          "symbol": "circle-open"
         },
         "mode": "markers",
         "name": "PJM",
         "type": "scatter",
         "x": [
          "2009-06-01",
          "2011-12-01",
          "2014-04-01",
          "2015-06-09",
          "2016-08-26",
          "2016-08-29",
          "2016-09-20",
          "2017-07-28",
          "2017-07-28",
          "2018-08-23",
          "2018-11-01",
          "2019-07-25",
          "2019-09-22",
          "2019-09-22",
          "2019-09-22"
         ],
         "y": [
          227.7499128805374,
          225.77118960531632,
          64.79562042910489,
          67.58330731230001,
          51.74253222905902,
          43.12107492182049,
          42.229509925432794,
          82.81012585417109,
          82.17938106977354,
          28.234842882276205,
          37.52097475180009,
          24.156762396383648,
          31.610056714493975,
          32.28506171636523,
          31.610056714493975
         ]
        },
        {
         "color": [
          "SPP",
          "SPP",
          "SPP",
          "SPP",
          "SPP",
          "SPP",
          "SPP"
         ],
         "labels": {
          "ppa_date": "",
          "ppa_price": "PPA Price (2020 Dollars/MWh)",
          "region_categorical": "Region"
         },
         "marker": {
          "color": "#B07AA1",
          "line": {
           "width": 2
          },
          "size": [
           50,
           25,
           70,
           70,
           3.6,
           5.681481481481481,
           4.6
          ],
          "sizemode": "area",
          "symbol": "circle-open"
         },
         "mode": "markers",
         "name": "SPP",
         "type": "scatter",
         "x": [
          "2009-12-23",
          "2015-03-02",
          "2015-03-04",
          "2015-03-04",
          "2015-06-01",
          "2018-06-01",
          "2019-02-01"
         ],
         "y": [
          133.1772693211324,
          42.28745952619294,
          37.458763505044814,
          37.93510332605691,
          74.0088224297874,
          59.320469530373586,
          43.11242694572076
         ]
        },
        {
         "color": [
          "Southeast (non-ISO)",
          "Southeast (non-ISO)",
          "Southeast (non-ISO)",
          "Southeast (non-ISO)",
          "Southeast (non-ISO)",
          "Southeast (non-ISO)",
          "Southeast (non-ISO)",
          "Southeast (non-ISO)",
          "Southeast (non-ISO)",
          "Southeast (non-ISO)",
          "Southeast (non-ISO)",
          "Southeast (non-ISO)",
          "Southeast (non-ISO)",
          "Southeast (non-ISO)",
          "Southeast (non-ISO)",
          "Southeast (non-ISO)",
          "Southeast (non-ISO)",
          "Southeast (non-ISO)",
          "Southeast (non-ISO)",
          "Southeast (non-ISO)",
          "Southeast (non-ISO)",
          "Southeast (non-ISO)",
          "Southeast (non-ISO)",
          "Southeast (non-ISO)",
          "Southeast (non-ISO)",
          "Southeast (non-ISO)",
          "Southeast (non-ISO)",
          "Southeast (non-ISO)",
          "Southeast (non-ISO)",
          "Southeast (non-ISO)",
          "Southeast (non-ISO)",
          "Southeast (non-ISO)",
          "Southeast (non-ISO)",
          "Southeast (non-ISO)",
          "Southeast (non-ISO)",
          "Southeast (non-ISO)",
          "Southeast (non-ISO)",
          "Southeast (non-ISO)",
          "Southeast (non-ISO)",
          "Southeast (non-ISO)",
          "Southeast (non-ISO)",
          "Southeast (non-ISO)",
          "Southeast (non-ISO)",
          "Southeast (non-ISO)",
          "Southeast (non-ISO)"
         ],
         "labels": {
          "ppa_date": "",
          "ppa_price": "PPA Price (2020 Dollars/MWh)",
          "region_categorical": "Region"
         },
         "marker": {
          "color": "#FF9DA7",
          "line": {
           "width": 2
          },
          "size": [
           12.6,
           5.5,
           7.65,
           30,
           20,
           20,
           103,
           101.3,
           80,
           76.5,
           51,
           30,
           50,
           40,
           80,
           6,
           52,
           50.6,
           4.9,
           7.06,
           13,
           20,
           52,
           146,
           72,
           20.4,
           8.16,
           7.2,
           52.5,
           40,
           5,
           200,
           150,
           50,
           120,
           57.5,
           74.5,
           74.5,
           42,
           102.5,
           20,
           250,
           25,
           100,
           7.5
          ],
          "sizemode": "area",
          "symbol": "circle-open"
         },
         "mode": "markers",
         "name": "Southeast (non-ISO)",
         "type": "scatter",
         "x": [
          "2009-05-01",
          "2010-08-10",
          "2010-12-01",
          "2011-12-20",
          "2013-12-06",
          "2014-06-01",
          "2014-10-08",
          "2014-10-08",
          "2014-10-08",
          "2014-10-08",
          "2014-10-08",
          "2014-10-08",
          "2014-11-07",
          "2014-11-07",
          "2015-02-01",
          "2015-03-02",
          "2015-04-30",
          "2015-04-30",
          "2015-05-27",
          "2015-06-30",
          "2015-07-01",
          "2015-07-21",
          "2015-09-23",
          "2015-10-01",
          "2015-11-09",
          "2016-04-12",
          "2016-04-12",
          "2017-01-03",
          "2017-05-26",
          "2017-06-01",
          "2017-06-26",
          "2017-11-13",
          "2017-11-13",
          "2017-12-15",
          "2018-01-29",
          "2018-01-29",
          "2018-05-16",
          "2018-05-16",
          "2018-06-27",
          "2018-08-31",
          "2018-10-01",
          "2018-12-11",
          "2019-11-19",
          "2019-11-21",
          "2020-12-30"
         ],
         "y": [
          210.07052991375707,
          193.81673462055173,
          149.3925483002305,
          114.93490899607748,
          67.0862896085588,
          65.58458668719523,
          57.73982530903569,
          52.771120878494436,
          59.677318061680054,
          53.48009915046671,
          53.536803141567646,
          57.16171408259154,
          70.53812253614016,
          70.53812253614016,
          57.600630794613295,
          101.09010539785217,
          59.72252901362384,
          44.735214561102765,
          66.6109946095628,
          61.05251969094105,
          63.828030799805845,
          46.301790704643444,
          46.990511788790016,
          57.92483641667312,
          38.427662113827445,
          45.5695364855956,
          48.359508107162696,
          51.82785878755491,
          37.79605830501531,
          28.16313289573078,
          48.57126229445577,
          25.195773066395212,
          26.472002052703704,
          34.79424677124418,
          26.339422380337645,
          23.842103648585827,
          29.722613228308674,
          29.722613228308674,
          40.449710166509554,
          22.639206198491404,
          21.502748501784545,
          25.898636445257807,
          21.502748501784545,
          22.97038105551004,
          36.65653158405725
         ]
        },
        {
         "color": [
          "West (non-ISO)",
          "West (non-ISO)",
          "West (non-ISO)",
          "West (non-ISO)",
          "West (non-ISO)",
          "West (non-ISO)",
          "West (non-ISO)",
          "West (non-ISO)",
          "West (non-ISO)",
          "West (non-ISO)",
          "West (non-ISO)",
          "West (non-ISO)",
          "West (non-ISO)",
          "West (non-ISO)",
          "West (non-ISO)",
          "West (non-ISO)",
          "West (non-ISO)",
          "West (non-ISO)",
          "West (non-ISO)",
          "West (non-ISO)",
          "West (non-ISO)",
          "West (non-ISO)",
          "West (non-ISO)",
          "West (non-ISO)",
          "West (non-ISO)",
          "West (non-ISO)",
          "West (non-ISO)",
          "West (non-ISO)",
          "West (non-ISO)",
          "West (non-ISO)",
          "West (non-ISO)",
          "West (non-ISO)",
          "West (non-ISO)",
          "West (non-ISO)",
          "West (non-ISO)",
          "West (non-ISO)",
          "West (non-ISO)",
          "West (non-ISO)",
          "West (non-ISO)",
          "West (non-ISO)",
          "West (non-ISO)",
          "West (non-ISO)",
          "West (non-ISO)",
          "West (non-ISO)",
          "West (non-ISO)",
          "West (non-ISO)",
          "West (non-ISO)",
          "West (non-ISO)",
          "West (non-ISO)",
          "West (non-ISO)",
          "West (non-ISO)",
          "West (non-ISO)",
          "West (non-ISO)",
          "West (non-ISO)",
          "West (non-ISO)",
          "West (non-ISO)",
          "West (non-ISO)",
          "West (non-ISO)",
          "West (non-ISO)",
          "West (non-ISO)",
          "West (non-ISO)",
          "West (non-ISO)",
          "West (non-ISO)",
          "West (non-ISO)",
          "West (non-ISO)",
          "West (non-ISO)",
          "West (non-ISO)",
          "West (non-ISO)",
          "West (non-ISO)",
          "West (non-ISO)",
          "West (non-ISO)",
          "West (non-ISO)",
          "West (non-ISO)",
          "West (non-ISO)",
          "West (non-ISO)",
          "West (non-ISO)",
          "West (non-ISO)",
          "West (non-ISO)",
          "West (non-ISO)",
          "West (non-ISO)",
          "West (non-ISO)",
          "West (non-ISO)",
          "West (non-ISO)",
          "West (non-ISO)",
          "West (non-ISO)",
          "West (non-ISO)",
          "West (non-ISO)",
          "West (non-ISO)",
          "West (non-ISO)",
          "West (non-ISO)",
          "West (non-ISO)",
          "West (non-ISO)",
          "West (non-ISO)",
          "West (non-ISO)",
          "West (non-ISO)",
          "West (non-ISO)",
          "West (non-ISO)",
          "West (non-ISO)",
          "West (non-ISO)",
          "West (non-ISO)",
          "West (non-ISO)"
         ],
         "labels": {
          "ppa_date": "",
          "ppa_price": "PPA Price (2020 Dollars/MWh)",
          "region_categorical": "Region"
         },
         "marker": {
          "color": "#EDC948",
          "line": {
           "width": 2
          },
          "size": [
           7,
           30,
           19,
           20,
           50,
           29,
           25,
           20,
           23,
           12,
           10,
           20,
           30,
           23,
           9,
           250,
           30,
           20,
           127,
           9,
           19,
           20,
           20,
           15,
           15,
           250,
           50,
           250,
           20,
           48,
           40,
           50,
           10.416,
           30,
           56,
           56,
           105,
           60,
           120,
           52,
           30,
           45,
           30,
           100,
           100,
           46,
           30,
           30,
           150,
           10.88,
           25,
           71.4,
           46.2,
           86,
           50,
           90,
           100,
           7.8,
           200,
           56,
           100,
           50,
           25,
           25,
           50,
           50,
           30,
           300,
           250,
           200,
           101,
           100,
           50,
           60,
           30,
           122,
           58,
           35,
           50,
           50,
           100,
           13,
           22,
           160,
           120,
           50,
           300,
           50,
           66,
           100,
           100,
           200,
           127.86,
           150,
           100,
           200,
           190,
           50,
           130,
           350,
           250
          ],
          "sizemode": "area",
          "symbol": "circle-open"
         },
         "mode": "markers",
         "name": "West (non-ISO)",
         "type": "scatter",
         "x": [
          "2006-09-01",
          "2009-02-23",
          "2009-03-05",
          "2009-06-01",
          "2010-02-02",
          "2010-04-19",
          "2010-04-29",
          "2010-06-01",
          "2010-06-24",
          "2010-06-30",
          "2010-06-30",
          "2010-07-26",
          "2010-08-10",
          "2010-08-24",
          "2010-12-01",
          "2011-02-07",
          "2011-02-11",
          "2011-02-11",
          "2011-06-03",
          "2011-10-01",
          "2011-12-08",
          "2011-12-20",
          "2011-12-20",
          "2012-01-01",
          "2012-01-01",
          "2012-08-31",
          "2012-10-25",
          "2012-12-12",
          "2012-12-13",
          "2013-06-03",
          "2013-06-03",
          "2013-07-03",
          "2014-02-20",
          "2014-05-27",
          "2014-07-24",
          "2014-07-24",
          "2014-08-19",
          "2014-08-25",
          "2014-09-04",
          "2014-09-04",
          "2014-11-13",
          "2014-11-18",
          "2015-03-25",
          "2015-06-05",
          "2015-06-19",
          "2015-06-23",
          "2015-08-05",
          "2015-08-09",
          "2015-08-28",
          "2015-09-03",
          "2015-09-24",
          "2015-09-28",
          "2015-09-28",
          "2015-11-20",
          "2015-11-30",
          "2015-12-17",
          "2016-05-19",
          "2016-12-13",
          "2016-12-15",
          "2017-04-01",
          "2017-05-22",
          "2017-06-07",
          "2017-10-06",
          "2017-10-06",
          "2017-10-30",
          "2018-01-05",
          "2018-01-09",
          "2018-05-30",
          "2018-05-30",
          "2018-05-30",
          "2018-05-30",
          "2018-05-30",
          "2018-05-30",
          "2018-06-06",
          "2018-06-08",
          "2018-06-13",
          "2018-06-13",
          "2018-07-10",
          "2018-08-22",
          "2018-08-22",
          "2018-09-20",
          "2018-10-18",
          "2019-02-14",
          "2019-03-21",
          "2019-03-22",
          "2019-05-30",
          "2019-06-27",
          "2019-06-27",
          "2019-08-08",
          "2019-10-17",
          "2019-10-17",
          "2020-03-25",
          "2020-04-08",
          "2020-06-01",
          "2020-09-23",
          "2020-09-25",
          "2021-02-01",
          "2021-02-04",
          "2021-03-25",
          "2021-06-01",
          "2021-06-01"
         ],
         "y": [
          239.8734302320258,
          132.09678867228317,
          150.76036112897177,
          131.3546881148436,
          139.12708403650188,
          106.66165297410052,
          132.5178721596421,
          132.5178721596421,
          128.07170992260362,
          100.78435541286747,
          100.4796315006849,
          134.09801601299415,
          133.6436758491672,
          114.43455922227665,
          138.7308344812717,
          115.56695260570278,
          114.50864091068806,
          118.11935828776366,
          111.74425078754807,
          137.69097724320744,
          108.14725440354329,
          85.45749116114865,
          84.6405675400007,
          86.33288530907207,
          77.45618889483875,
          91.64662310148013,
          55.8340317259893,
          80.77785758242976,
          83.79413414393903,
          66.3572270235101,
          67.24666182926795,
          57.23783844618241,
          48.85891785120887,
          62.709645900907255,
          57.23783844618241,
          57.801671239864994,
          60.43582757285074,
          60.41399429955781,
          55.60206489882865,
          46.394199879092604,
          61.57230304761718,
          48.830035442316934,
          47.09490628352168,
          41.94413452558663,
          44.13461575434536,
          49.0330581395708,
          45.015431742091714,
          41.03766728729554,
          51.021198302627944,
          74.94414326883394,
          41.174060435802566,
          19.778630902171695,
          19.778630902171695,
          43.98172496666524,
          46.098955607192714,
          41.81822904546088,
          34.67772775209999,
          41.030388206814315,
          31.780265356808343,
          52.2935367179593,
          27.106106642536467,
          29.778494773970234,
          27.837441245399287,
          27.837441245399287,
          30.35421794446503,
          23.890496019348575,
          27.79697171721862,
          18.93389544428695,
          21.688107514517633,
          21.125318528116463,
          21.117349716902513,
          23.87455839692077,
          24.329272480262663,
          24.63753916920032,
          21.498338798626406,
          23.230426115312707,
          19.657140528549462,
          27.819560277691508,
          25.128148653334357,
          25.128148653334357,
          21.553667958426082,
          36.62821216499901,
          25.04208876693174,
          26.98477540798781,
          19.70752477461863,
          19.071621426276664,
          15.06666150942635,
          16.290640482574158,
          21.942745109630554,
          12.10987967969443,
          16.957063007123832,
          18.172685515422035,
          18.951401844782342,
          24.24390911915167,
          22.095077334198983,
          21.25489889077789,
          16.301957158396895,
          16.368885781181255,
          18.816870408402647,
          18.598115371486017,
          19.702177660993065
         ]
        }
       ],
       "frames": [],
       "layout": {
        "legend": {
         "orientation": "h",
         "x": 0.9,
         "xanchor": "right",
         "y": 1.02,
         "yanchor": "bottom"
        },
        "margin": {
         "b": 50,
         "l": 50,
         "r": 50,
         "t": 60
        },
        "template": {
         "data": {
          "bar": [
           {
            "error_x": {
             "color": "#2a3f5f"
            },
            "error_y": {
             "color": "#2a3f5f"
            },
            "marker": {
             "line": {
              "color": "#E5ECF6",
              "width": 0.5
             }
            },
            "type": "bar"
           }
          ],
          "barpolar": [
           {
            "marker": {
             "line": {
              "color": "#E5ECF6",
              "width": 0.5
             }
            },
            "type": "barpolar"
           }
          ],
          "carpet": [
           {
            "aaxis": {
             "endlinecolor": "#2a3f5f",
             "gridcolor": "white",
             "linecolor": "white",
             "minorgridcolor": "white",
             "startlinecolor": "#2a3f5f"
            },
            "baxis": {
             "endlinecolor": "#2a3f5f",
             "gridcolor": "white",
             "linecolor": "white",
             "minorgridcolor": "white",
             "startlinecolor": "#2a3f5f"
            },
            "type": "carpet"
           }
          ],
          "choropleth": [
           {
            "colorbar": {
             "outlinewidth": 0,
             "ticks": ""
            },
            "type": "choropleth"
           }
          ],
          "contour": [
           {
            "colorbar": {
             "outlinewidth": 0,
             "ticks": ""
            },
            "colorscale": [
             [
              0,
              "#0d0887"
             ],
             [
              0.1111111111111111,
              "#46039f"
             ],
             [
              0.2222222222222222,
              "#7201a8"
             ],
             [
              0.3333333333333333,
              "#9c179e"
             ],
             [
              0.4444444444444444,
              "#bd3786"
             ],
             [
              0.5555555555555556,
              "#d8576b"
             ],
             [
              0.6666666666666666,
              "#ed7953"
             ],
             [
              0.7777777777777778,
              "#fb9f3a"
             ],
             [
              0.8888888888888888,
              "#fdca26"
             ],
             [
              1,
              "#f0f921"
             ]
            ],
            "type": "contour"
           }
          ],
          "contourcarpet": [
           {
            "colorbar": {
             "outlinewidth": 0,
             "ticks": ""
            },
            "type": "contourcarpet"
           }
          ],
          "heatmap": [
           {
            "colorbar": {
             "outlinewidth": 0,
             "ticks": ""
            },
            "colorscale": [
             [
              0,
              "#0d0887"
             ],
             [
              0.1111111111111111,
              "#46039f"
             ],
             [
              0.2222222222222222,
              "#7201a8"
             ],
             [
              0.3333333333333333,
              "#9c179e"
             ],
             [
              0.4444444444444444,
              "#bd3786"
             ],
             [
              0.5555555555555556,
              "#d8576b"
             ],
             [
              0.6666666666666666,
              "#ed7953"
             ],
             [
              0.7777777777777778,
              "#fb9f3a"
             ],
             [
              0.8888888888888888,
              "#fdca26"
             ],
             [
              1,
              "#f0f921"
             ]
            ],
            "type": "heatmap"
           }
          ],
          "heatmapgl": [
           {
            "colorbar": {
             "outlinewidth": 0,
             "ticks": ""
            },
            "colorscale": [
             [
              0,
              "#0d0887"
             ],
             [
              0.1111111111111111,
              "#46039f"
             ],
             [
              0.2222222222222222,
              "#7201a8"
             ],
             [
              0.3333333333333333,
              "#9c179e"
             ],
             [
              0.4444444444444444,
              "#bd3786"
             ],
             [
              0.5555555555555556,
              "#d8576b"
             ],
             [
              0.6666666666666666,
              "#ed7953"
             ],
             [
              0.7777777777777778,
              "#fb9f3a"
             ],
             [
              0.8888888888888888,
              "#fdca26"
             ],
             [
              1,
              "#f0f921"
             ]
            ],
            "type": "heatmapgl"
           }
          ],
          "histogram": [
           {
            "marker": {
             "colorbar": {
              "outlinewidth": 0,
              "ticks": ""
             }
            },
            "type": "histogram"
           }
          ],
          "histogram2d": [
           {
            "colorbar": {
             "outlinewidth": 0,
             "ticks": ""
            },
            "colorscale": [
             [
              0,
              "#0d0887"
             ],
             [
              0.1111111111111111,
              "#46039f"
             ],
             [
              0.2222222222222222,
              "#7201a8"
             ],
             [
              0.3333333333333333,
              "#9c179e"
             ],
             [
              0.4444444444444444,
              "#bd3786"
             ],
             [
              0.5555555555555556,
              "#d8576b"
             ],
             [
              0.6666666666666666,
              "#ed7953"
             ],
             [
              0.7777777777777778,
              "#fb9f3a"
             ],
             [
              0.8888888888888888,
              "#fdca26"
             ],
             [
              1,
              "#f0f921"
             ]
            ],
            "type": "histogram2d"
           }
          ],
          "histogram2dcontour": [
           {
            "colorbar": {
             "outlinewidth": 0,
             "ticks": ""
            },
            "colorscale": [
             [
              0,
              "#0d0887"
             ],
             [
              0.1111111111111111,
              "#46039f"
             ],
             [
              0.2222222222222222,
              "#7201a8"
             ],
             [
              0.3333333333333333,
              "#9c179e"
             ],
             [
              0.4444444444444444,
              "#bd3786"
             ],
             [
              0.5555555555555556,
              "#d8576b"
             ],
             [
              0.6666666666666666,
              "#ed7953"
             ],
             [
              0.7777777777777778,
              "#fb9f3a"
             ],
             [
              0.8888888888888888,
              "#fdca26"
             ],
             [
              1,
              "#f0f921"
             ]
            ],
            "type": "histogram2dcontour"
           }
          ],
          "mesh3d": [
           {
            "colorbar": {
             "outlinewidth": 0,
             "ticks": ""
            },
            "type": "mesh3d"
           }
          ],
          "parcoords": [
           {
            "line": {
             "colorbar": {
              "outlinewidth": 0,
              "ticks": ""
             }
            },
            "type": "parcoords"
           }
          ],
          "pie": [
           {
            "automargin": true,
            "type": "pie"
           }
          ],
          "scatter": [
           {
            "marker": {
             "colorbar": {
              "outlinewidth": 0,
              "ticks": ""
             }
            },
            "type": "scatter"
           }
          ],
          "scatter3d": [
           {
            "line": {
             "colorbar": {
              "outlinewidth": 0,
              "ticks": ""
             }
            },
            "marker": {
             "colorbar": {
              "outlinewidth": 0,
              "ticks": ""
             }
            },
            "type": "scatter3d"
           }
          ],
          "scattercarpet": [
           {
            "marker": {
             "colorbar": {
              "outlinewidth": 0,
              "ticks": ""
             }
            },
            "type": "scattercarpet"
           }
          ],
          "scattergeo": [
           {
            "marker": {
             "colorbar": {
              "outlinewidth": 0,
              "ticks": ""
             }
            },
            "type": "scattergeo"
           }
          ],
          "scattergl": [
           {
            "marker": {
             "colorbar": {
              "outlinewidth": 0,
              "ticks": ""
             }
            },
            "type": "scattergl"
           }
          ],
          "scattermapbox": [
           {
            "marker": {
             "colorbar": {
              "outlinewidth": 0,
              "ticks": ""
             }
            },
            "type": "scattermapbox"
           }
          ],
          "scatterpolar": [
           {
            "marker": {
             "colorbar": {
              "outlinewidth": 0,
              "ticks": ""
             }
            },
            "type": "scatterpolar"
           }
          ],
          "scatterpolargl": [
           {
            "marker": {
             "colorbar": {
              "outlinewidth": 0,
              "ticks": ""
             }
            },
            "type": "scatterpolargl"
           }
          ],
          "scatterternary": [
           {
            "marker": {
             "colorbar": {
              "outlinewidth": 0,
              "ticks": ""
             }
            },
            "type": "scatterternary"
           }
          ],
          "surface": [
           {
            "colorbar": {
             "outlinewidth": 0,
             "ticks": ""
            },
            "colorscale": [
             [
              0,
              "#0d0887"
             ],
             [
              0.1111111111111111,
              "#46039f"
             ],
             [
              0.2222222222222222,
              "#7201a8"
             ],
             [
              0.3333333333333333,
              "#9c179e"
             ],
             [
              0.4444444444444444,
              "#bd3786"
             ],
             [
              0.5555555555555556,
              "#d8576b"
             ],
             [
              0.6666666666666666,
              "#ed7953"
             ],
             [
              0.7777777777777778,
              "#fb9f3a"
             ],
             [
              0.8888888888888888,
              "#fdca26"
             ],
             [
              1,
              "#f0f921"
             ]
            ],
            "type": "surface"
           }
          ],
          "table": [
           {
            "cells": {
             "fill": {
              "color": "#EBF0F8"
             },
             "line": {
              "color": "white"
             }
            },
            "header": {
             "fill": {
              "color": "#C8D4E3"
             },
             "line": {
              "color": "white"
             }
            },
            "type": "table"
           }
          ]
         },
         "layout": {
          "annotationdefaults": {
           "arrowcolor": "#2a3f5f",
           "arrowhead": 0,
           "arrowwidth": 1
          },
          "autotypenumbers": "strict",
          "coloraxis": {
           "colorbar": {
            "outlinewidth": 0,
            "ticks": ""
           }
          },
          "colorscale": {
           "diverging": [
            [
             0,
             "#8e0152"
            ],
            [
             0.1,
             "#c51b7d"
            ],
            [
             0.2,
             "#de77ae"
            ],
            [
             0.3,
             "#f1b6da"
            ],
            [
             0.4,
             "#fde0ef"
            ],
            [
             0.5,
             "#f7f7f7"
            ],
            [
             0.6,
             "#e6f5d0"
            ],
            [
             0.7,
             "#b8e186"
            ],
            [
             0.8,
             "#7fbc41"
            ],
            [
             0.9,
             "#4d9221"
            ],
            [
             1,
             "#276419"
            ]
           ],
           "sequential": [
            [
             0,
             "#0d0887"
            ],
            [
             0.1111111111111111,
             "#46039f"
            ],
            [
             0.2222222222222222,
             "#7201a8"
            ],
            [
             0.3333333333333333,
             "#9c179e"
            ],
            [
             0.4444444444444444,
             "#bd3786"
            ],
            [
             0.5555555555555556,
             "#d8576b"
            ],
            [
             0.6666666666666666,
             "#ed7953"
            ],
            [
             0.7777777777777778,
             "#fb9f3a"
            ],
            [
             0.8888888888888888,
             "#fdca26"
            ],
            [
             1,
             "#f0f921"
            ]
           ],
           "sequentialminus": [
            [
             0,
             "#0d0887"
            ],
            [
             0.1111111111111111,
             "#46039f"
            ],
            [
             0.2222222222222222,
             "#7201a8"
            ],
            [
             0.3333333333333333,
             "#9c179e"
            ],
            [
             0.4444444444444444,
             "#bd3786"
            ],
            [
             0.5555555555555556,
             "#d8576b"
            ],
            [
             0.6666666666666666,
             "#ed7953"
            ],
            [
             0.7777777777777778,
             "#fb9f3a"
            ],
            [
             0.8888888888888888,
             "#fdca26"
            ],
            [
             1,
             "#f0f921"
            ]
           ]
          },
          "colorway": [
           "#636efa",
           "#EF553B",
           "#00cc96",
           "#ab63fa",
           "#FFA15A",
           "#19d3f3",
           "#FF6692",
           "#B6E880",
           "#FF97FF",
           "#FECB52"
          ],
          "font": {
           "color": "#2a3f5f"
          },
          "geo": {
           "bgcolor": "white",
           "lakecolor": "white",
           "landcolor": "#E5ECF6",
           "showlakes": true,
           "showland": true,
           "subunitcolor": "white"
          },
          "hoverlabel": {
           "align": "left"
          },
          "hovermode": "closest",
          "mapbox": {
           "style": "light"
          },
          "paper_bgcolor": "white",
          "plot_bgcolor": "#E5ECF6",
          "polar": {
           "angularaxis": {
            "gridcolor": "white",
            "linecolor": "white",
            "ticks": ""
           },
           "bgcolor": "#E5ECF6",
           "radialaxis": {
            "gridcolor": "white",
            "linecolor": "white",
            "ticks": ""
           }
          },
          "scene": {
           "xaxis": {
            "backgroundcolor": "#E5ECF6",
            "gridcolor": "white",
            "gridwidth": 2,
            "linecolor": "white",
            "showbackground": true,
            "ticks": "",
            "zerolinecolor": "white"
           },
           "yaxis": {
            "backgroundcolor": "#E5ECF6",
            "gridcolor": "white",
            "gridwidth": 2,
            "linecolor": "white",
            "showbackground": true,
            "ticks": "",
            "zerolinecolor": "white"
           },
           "zaxis": {
            "backgroundcolor": "#E5ECF6",
            "gridcolor": "white",
            "gridwidth": 2,
            "linecolor": "white",
            "showbackground": true,
            "ticks": "",
            "zerolinecolor": "white"
           }
          },
          "shapedefaults": {
           "line": {
            "color": "#2a3f5f"
           }
          },
          "ternary": {
           "aaxis": {
            "gridcolor": "white",
            "linecolor": "white",
            "ticks": ""
           },
           "baxis": {
            "gridcolor": "white",
            "linecolor": "white",
            "ticks": ""
           },
           "bgcolor": "#E5ECF6",
           "caxis": {
            "gridcolor": "white",
            "linecolor": "white",
            "ticks": ""
           }
          },
          "title": {
           "x": 0.05
          },
          "xaxis": {
           "automargin": true,
           "gridcolor": "white",
           "linecolor": "white",
           "ticks": "",
           "title": {
            "standoff": 15
           },
           "zerolinecolor": "white",
           "zerolinewidth": 2
          },
          "yaxis": {
           "automargin": true,
           "gridcolor": "white",
           "linecolor": "white",
           "ticks": "",
           "title": {
            "standoff": 15
           },
           "zerolinecolor": "white",
           "zerolinewidth": 2
          }
         }
        }
       }
      },
      "text/html": [
       "<div\n",
       "    class=\"webio-mountpoint\"\n",
       "    data-webio-mountpoint=\"12857219646679945250\"\n",
       ">\n",
       "    <script>\n",
       "    (function(){\n",
       "    // Some integrations (namely, IJulia/Jupyter) use an alternate render pathway than\n",
       "    // just putting the html on the page. If WebIO isn't defined, then it's pretty likely\n",
       "    // that we're in one of those situations and the integration just isn't installed\n",
       "    // correctly.\n",
       "    if (typeof window.WebIO === \"undefined\") {\n",
       "        document\n",
       "            .querySelector('[data-webio-mountpoint=\"12857219646679945250\"]')\n",
       "            .innerHTML = (\n",
       "                '<div style=\"padding: 1em; background-color: #f8d6da; border: 1px solid #f5c6cb; font-weight: bold;\">' +\n",
       "                '<p><strong>WebIO not detected.</strong></p>' +\n",
       "                '<p>Please read ' +\n",
       "                '<a href=\"https://juliagizmos.github.io/WebIO.jl/latest/troubleshooting/not-detected/\" target=\"_blank\">the troubleshooting guide</a> ' +\n",
       "                'for more information on how to resolve this issue.</p>' +\n",
       "                '<p><a href=\"https://juliagizmos.github.io/WebIO.jl/latest/troubleshooting/not-detected/\" target=\"_blank\">https://juliagizmos.github.io/WebIO.jl/latest/troubleshooting/not-detected/</a></p>' +\n",
       "                '</div>'\n",
       "            );\n",
       "        return;\n",
       "    }\n",
       "    WebIO.mount(\n",
       "        document.querySelector('[data-webio-mountpoint=\"12857219646679945250\"]'),\n",
       "        {\"props\":{},\"nodeType\":\"Scope\",\"type\":\"node\",\"instanceArgs\":{\"imports\":{\"data\":[{\"name\":\"Plotly\",\"type\":\"js\",\"url\":\"\\/assetserver\\/dd3401e457c2bd3775ace7dcd18dbdb220b78a6c-plotly.min.js\"},{\"name\":null,\"type\":\"js\",\"url\":\"\\/assetserver\\/7523cc4f6daddb9f8f78ddc193c0f52bb3a899cc-plotly_webio.bundle.js\"}],\"type\":\"async_block\"},\"id\":\"13471513043601839382\",\"handlers\":{\"_toImage\":[\"(function (options){return this.Plotly.toImage(this.plotElem,options).then((function (data){return WebIO.setval({\\\"name\\\":\\\"image\\\",\\\"scope\\\":\\\"13471513043601839382\\\",\\\"id\\\":\\\"15746609007788211548\\\",\\\"type\\\":\\\"observable\\\"},data)}))})\"],\"__get_gd_contents\":[\"(function (prop){prop==\\\"data\\\" ? (WebIO.setval({\\\"name\\\":\\\"__gd_contents\\\",\\\"scope\\\":\\\"13471513043601839382\\\",\\\"id\\\":\\\"17125495668114477817\\\",\\\"type\\\":\\\"observable\\\"},this.plotElem.data)) : undefined; return prop==\\\"layout\\\" ? (WebIO.setval({\\\"name\\\":\\\"__gd_contents\\\",\\\"scope\\\":\\\"13471513043601839382\\\",\\\"id\\\":\\\"17125495668114477817\\\",\\\"type\\\":\\\"observable\\\"},this.plotElem.layout)) : undefined})\"],\"_downloadImage\":[\"(function (options){return this.Plotly.downloadImage(this.plotElem,options)})\"],\"_commands\":[\"(function (args){var fn=args.shift(); var elem=this.plotElem; var Plotly=this.Plotly; args.unshift(elem); return Plotly[fn].apply(this,args)})\"]},\"systemjs_options\":null,\"mount_callbacks\":[\"function () {\\n    var handler = ((function (Plotly,PlotlyWebIO){PlotlyWebIO.init(WebIO); var gd=this.dom.querySelector(\\\"#plot-5237d282-0a9d-4095-b0ca-85497e46d62f\\\"); this.plotElem=gd; this.Plotly=Plotly; (window.Blink!==undefined) ? (gd.style.width=\\\"100%\\\", gd.style.height=\\\"100vh\\\", gd.style.marginLeft=\\\"0%\\\", gd.style.marginTop=\\\"0vh\\\") : undefined; window.onresize=(function (){return Plotly.Plots.resize(gd)}); Plotly.newPlot(gd,[{\\\"color\\\":[\\\"CAISO\\\",\\\"CAISO\\\",\\\"CAISO\\\",\\\"CAISO\\\",\\\"CAISO\\\",\\\"CAISO\\\",\\\"CAISO\\\",\\\"CAISO\\\",\\\"CAISO\\\",\\\"CAISO\\\",\\\"CAISO\\\",\\\"CAISO\\\",\\\"CAISO\\\",\\\"CAISO\\\",\\\"CAISO\\\",\\\"CAISO\\\",\\\"CAISO\\\",\\\"CAISO\\\",\\\"CAISO\\\",\\\"CAISO\\\",\\\"CAISO\\\",\\\"CAISO\\\",\\\"CAISO\\\",\\\"CAISO\\\",\\\"CAISO\\\",\\\"CAISO\\\",\\\"CAISO\\\",\\\"CAISO\\\",\\\"CAISO\\\",\\\"CAISO\\\",\\\"CAISO\\\",\\\"CAISO\\\",\\\"CAISO\\\",\\\"CAISO\\\",\\\"CAISO\\\",\\\"CAISO\\\",\\\"CAISO\\\",\\\"CAISO\\\",\\\"CAISO\\\",\\\"CAISO\\\",\\\"CAISO\\\",\\\"CAISO\\\",\\\"CAISO\\\",\\\"CAISO\\\",\\\"CAISO\\\",\\\"CAISO\\\",\\\"CAISO\\\",\\\"CAISO\\\",\\\"CAISO\\\",\\\"CAISO\\\",\\\"CAISO\\\",\\\"CAISO\\\",\\\"CAISO\\\",\\\"CAISO\\\",\\\"CAISO\\\",\\\"CAISO\\\",\\\"CAISO\\\",\\\"CAISO\\\",\\\"CAISO\\\",\\\"CAISO\\\",\\\"CAISO\\\",\\\"CAISO\\\",\\\"CAISO\\\",\\\"CAISO\\\",\\\"CAISO\\\",\\\"CAISO\\\",\\\"CAISO\\\",\\\"CAISO\\\",\\\"CAISO\\\",\\\"CAISO\\\",\\\"CAISO\\\",\\\"CAISO\\\",\\\"CAISO\\\",\\\"CAISO\\\",\\\"CAISO\\\",\\\"CAISO\\\",\\\"CAISO\\\",\\\"CAISO\\\",\\\"CAISO\\\",\\\"CAISO\\\",\\\"CAISO\\\",\\\"CAISO\\\",\\\"CAISO\\\",\\\"CAISO\\\",\\\"CAISO\\\",\\\"CAISO\\\",\\\"CAISO\\\",\\\"CAISO\\\",\\\"CAISO\\\",\\\"CAISO\\\",\\\"CAISO\\\",\\\"CAISO\\\",\\\"CAISO\\\",\\\"CAISO\\\",\\\"CAISO\\\",\\\"CAISO\\\",\\\"CAISO\\\",\\\"CAISO\\\",\\\"CAISO\\\",\\\"CAISO\\\",\\\"CAISO\\\",\\\"CAISO\\\",\\\"CAISO\\\",\\\"CAISO\\\",\\\"CAISO\\\",\\\"CAISO\\\",\\\"CAISO\\\",\\\"CAISO\\\",\\\"CAISO\\\",\\\"CAISO\\\",\\\"CAISO\\\",\\\"CAISO\\\",\\\"CAISO\\\",\\\"CAISO\\\",\\\"CAISO\\\",\\\"CAISO\\\",\\\"CAISO\\\",\\\"CAISO\\\",\\\"CAISO\\\",\\\"CAISO\\\",\\\"CAISO\\\",\\\"CAISO\\\",\\\"CAISO\\\"],\\\"mode\\\":\\\"markers\\\",\\\"marker\\\":{\\\"symbol\\\":\\\"circle-open\\\",\\\"color\\\":\\\"#4E79A7\\\",\\\"line\\\":{\\\"width\\\":2},\\\"size\\\":[5.0,550.0,210.0,10.0,230.0,48.0,250.0,250.0,21.0,20.0,19.0,6.0,50.0,20.0,20.0,300.0,40.0,66.0,125.0,25.8,150.0,45.0,62.5,130.0,20.0,14.0,60.0,309.0,20.0,270.0,110.0,26.0,150.0,110.0,150.0,23.0,20.0,150.0,250.0,200.0,20.0,20.0,20.0,20.0,20.0,102.0,20.0,20.8,20.0,10.0,20.0,20.0,45.0,20.0,20.0,20.0,20.0,20.0,20.0,40.0,20.0,20.0,12.0,15.0,20.0,20.0,20.0,7.314,150.0,7.0,20.0,26.66,30.0,93.6,75.0,60.0,30.0,40.0,11.4,20.0,20.0,20.0,20.0,19.5,19.5,15.0,14.7,130.0,10.5,20.0,54.0,6.8,20.0,100.815,125.0,150.0,10.0,10.0,55.0,154.272,85.0,54.0,20.0,20.0,20.0,20.0,26.0,20.0,100.0,80.0,60.0,17.0,252.32,200.0,62.5,50.0,45.0,106.688,100.0,400.0,44.0,50.0,90.0],\\\"sizemode\\\":\\\"area\\\"},\\\"y\\\":[220.6314143578111,150.73040524305304,131.7706901652578,168.7879318708772,142.78340860236398,166.37159677334844,145.58888183815037,194.79262084030665,117.45124673431536,240.08263936563256,240.08263936563256,240.08263936563256,164.2326074511121,164.2326074511121,163.20807880481198,141.8306416215412,133.81512112509478,140.64368111356367,133.21471916752552,160.55576052646407,154.49478261403425,128.94246662977548,124.46150053332839,130.46105532275737,77.03929545206913,78.97446706708662,124.70222447672158,110.49071387284506,147.93328369973588,110.72793418415294,123.30544471010373,135.50909530311614,94.32048885309871,119.61881898299147,107.10791682952231,126.51001719203325,101.06462360792489,115.93134912455014,85.82776323970987,86.71512352950455,76.75697234459739,91.37579266315252,94.20718002761828,87.99418833534409,91.28766996706315,89.01428111429372,86.0512793615273,100.91375636786022,83.85064536247386,86.45576043916415,71.0327123526809,82.26990645632094,80.46987051642836,86.87988724301653,85.54537932553805,75.76944474010614,85.05792221307597,62.489022441100744,58.951732971391216,58.75522719481988,63.02709190289174,79.5726791439734,79.5726791439734,66.28936478798892,63.68742869174033,65.82685163214958,63.91986456287807,81.53604720116765,56.080659271407015,68.41520328208978,63.18045750983538,59.117106335814285,56.86209041021481,54.488431930163024,57.44522771982516,50.300759013700436,59.11949866100642,56.4938126225839,61.90740212283591,56.28496860550723,56.28496860550723,56.28496860550723,49.75052347232684,64.20597530016389,64.2219628438143,56.28496860550723,66.2044182564688,59.05724259119822,83.88826905117325,68.10352598380763,45.32687067963806,63.489127014754814,52.96529741520359,54.667308533996064,51.94942711425971,48.8948750771606,50.141477338304576,50.141477338304576,49.01080936413655,42.59416644624804,51.50922085544329,44.588438658721486,51.162849398788495,51.093216616311146,51.14188698885673,50.756371673595154,29.29335002239008,41.140252095784604,41.91675639277014,34.52772845137561,39.19113706794416,32.88355090607199,48.292314630589125,29.92160134279507,28.853208000148282,28.330443857538935,19.553065269533572,45.705585928787485,30.171215499609822,15.214713375484605,23.636449894044457,20.535411149143354,17.37611712619826],\\\"type\\\":\\\"scatter\\\",\\\"labels\\\":{\\\"ppa_price\\\":\\\"PPA Price (2020 Dollars\\/MWh)\\\",\\\"ppa_date\\\":\\\"\\\",\\\"region_categorical\\\":\\\"Region\\\"},\\\"name\\\":\\\"CAISO\\\",\\\"x\\\":[\\\"2007-06-25\\\",\\\"2008-07-01\\\",\\\"2008-07-23\\\",\\\"2008-12-19\\\",\\\"2009-05-08\\\",\\\"2009-06-22\\\",\\\"2009-08-17\\\",\\\"2009-09-08\\\",\\\"2009-11-20\\\",\\\"2009-12-24\\\",\\\"2009-12-24\\\",\\\"2009-12-24\\\",\\\"2010-01-26\\\",\\\"2010-01-26\\\",\\\"2010-01-26\\\",\\\"2010-02-24\\\",\\\"2010-03-06\\\",\\\"2010-04-21\\\",\\\"2010-05-10\\\",\\\"2010-05-20\\\",\\\"2010-07-29\\\",\\\"2010-07-29\\\",\\\"2010-09-20\\\",\\\"2010-11-10\\\",\\\"2010-11-15\\\",\\\"2010-11-15\\\",\\\"2010-12-21\\\",\\\"2010-12-30\\\",\\\"2010-12-30\\\",\\\"2011-01-05\\\",\\\"2011-01-07\\\",\\\"2011-01-25\\\",\\\"2011-03-08\\\",\\\"2011-06-03\\\",\\\"2011-06-21\\\",\\\"2011-07-08\\\",\\\"2011-07-14\\\",\\\"2011-07-21\\\",\\\"2011-09-29\\\",\\\"2012-02-03\\\",\\\"2012-02-27\\\",\\\"2012-07-03\\\",\\\"2012-07-03\\\",\\\"2012-08-03\\\",\\\"2012-08-13\\\",\\\"2012-08-16\\\",\\\"2012-08-29\\\",\\\"2012-09-17\\\",\\\"2012-09-17\\\",\\\"2012-10-17\\\",\\\"2012-11-01\\\",\\\"2012-11-15\\\",\\\"2013-02-28\\\",\\\"2013-03-22\\\",\\\"2013-03-22\\\",\\\"2013-03-25\\\",\\\"2013-04-10\\\",\\\"2013-04-16\\\",\\\"2013-06-01\\\",\\\"2013-07-10\\\",\\\"2013-07-10\\\",\\\"2013-07-17\\\",\\\"2013-07-17\\\",\\\"2013-09-06\\\",\\\"2013-09-27\\\",\\\"2013-10-09\\\",\\\"2013-10-22\\\",\\\"2013-12-01\\\",\\\"2013-12-19\\\",\\\"2014-01-30\\\",\\\"2014-03-17\\\",\\\"2014-03-26\\\",\\\"2014-06-12\\\",\\\"2014-07-18\\\",\\\"2014-07-23\\\",\\\"2014-09-03\\\",\\\"2014-10-03\\\",\\\"2014-10-20\\\",\\\"2014-10-21\\\",\\\"2014-10-22\\\",\\\"2014-10-22\\\",\\\"2014-10-22\\\",\\\"2014-10-22\\\",\\\"2014-10-22\\\",\\\"2014-10-22\\\",\\\"2014-10-22\\\",\\\"2014-10-22\\\",\\\"2014-12-09\\\",\\\"2015-03-05\\\",\\\"2015-03-23\\\",\\\"2015-04-03\\\",\\\"2015-04-14\\\",\\\"2015-04-17\\\",\\\"2015-06-25\\\",\\\"2015-07-15\\\",\\\"2015-07-16\\\",\\\"2015-08-12\\\",\\\"2015-08-16\\\",\\\"2015-10-08\\\",\\\"2015-10-09\\\",\\\"2015-11-05\\\",\\\"2015-11-06\\\",\\\"2015-12-18\\\",\\\"2015-12-18\\\",\\\"2015-12-18\\\",\\\"2015-12-18\\\",\\\"2016-01-06\\\",\\\"2016-08-04\\\",\\\"2016-09-15\\\",\\\"2016-11-18\\\",\\\"2017-01-17\\\",\\\"2017-03-23\\\",\\\"2017-08-08\\\",\\\"2017-09-23\\\",\\\"2017-09-26\\\",\\\"2017-09-26\\\",\\\"2017-12-08\\\",\\\"2018-02-21\\\",\\\"2018-05-07\\\",\\\"2019-07-01\\\",\\\"2019-11-26\\\",\\\"2021-02-23\\\",\\\"2021-06-01\\\"]},{\\\"color\\\":[\\\"ERCOT\\\",\\\"ERCOT\\\",\\\"ERCOT\\\",\\\"ERCOT\\\",\\\"ERCOT\\\",\\\"ERCOT\\\",\\\"ERCOT\\\",\\\"ERCOT\\\",\\\"ERCOT\\\",\\\"ERCOT\\\"],\\\"mode\\\":\\\"markers\\\",\\\"marker\\\":{\\\"symbol\\\":\\\"circle-open\\\",\\\"color\\\":\\\"#F28E2B\\\",\\\"line\\\":{\\\"width\\\":2},\\\"size\\\":[30.0,14.0,157.5,170.0,118.5,30.0,150.0,20.0,150.0,144.0],\\\"sizemode\\\":\\\"area\\\"},\\\"y\\\":[159.50239793933142,201.8761794144841,43.767792548438244,33.477572124902736,36.02311237955543,43.767792548438244,34.21565610106187,36.45492387680337,20.186253695552864,30.71821214540652],\\\"type\\\":\\\"scatter\\\",\\\"labels\\\":{\\\"ppa_price\\\":\\\"PPA Price (2020 Dollars\\/MWh)\\\",\\\"ppa_date\\\":\\\"\\\",\\\"region_categorical\\\":\\\"Region\\\"},\\\"name\\\":\\\"ERCOT\\\",\\\"x\\\":[\\\"2009-03-01\\\",\\\"2009-06-01\\\",\\\"2014-05-01\\\",\\\"2015-10-01\\\",\\\"2015-10-01\\\",\\\"2015-11-10\\\",\\\"2016-11-18\\\",\\\"2017-01-31\\\",\\\"2017-12-14\\\",\\\"2018-10-18\\\"]},{\\\"color\\\":[\\\"Hawaii\\\",\\\"Hawaii\\\",\\\"Hawaii\\\",\\\"Hawaii\\\",\\\"Hawaii\\\",\\\"Hawaii\\\"],\\\"mode\\\":\\\"markers\\\",\\\"marker\\\":{\\\"symbol\\\":\\\"circle-open\\\",\\\"color\\\":\\\"#E15759\\\",\\\"line\\\":{\\\"width\\\":2},\\\"size\\\":[6.0,12.0,27.6,45.9,14.7,49.0],\\\"sizemode\\\":\\\"area\\\"},\\\"y\\\":[196.32277356984014,152.21295504145908,130.3379195325974,90.24429598097487,98.62202378376895,95.01674773241187],\\\"type\\\":\\\"scatter\\\",\\\"labels\\\":{\\\"ppa_price\\\":\\\"PPA Price (2020 Dollars\\/MWh)\\\",\\\"ppa_date\\\":\\\"\\\",\\\"region_categorical\\\":\\\"Region\\\"},\\\"name\\\":\\\"Hawaii\\\",\\\"x\\\":[\\\"2011-07-18\\\",\\\"2013-06-19\\\",\\\"2015-07-01\\\",\\\"2017-01-12\\\",\\\"2017-01-12\\\",\\\"2017-03-31\\\"]},{\\\"color\\\":[\\\"ISO-NE\\\",\\\"ISO-NE\\\",\\\"ISO-NE\\\",\\\"ISO-NE\\\",\\\"ISO-NE\\\",\\\"ISO-NE\\\",\\\"ISO-NE\\\",\\\"ISO-NE\\\",\\\"ISO-NE\\\"],\\\"mode\\\":\\\"markers\\\",\\\"marker\\\":{\\\"symbol\\\":\\\"circle-open\\\",\\\"color\\\":\\\"#76B7B2\\\",\\\"line\\\":{\\\"width\\\":2},\\\"size\\\":[20.0,78.4,49.36,19.6,19.59,19.58,19.58,50.0,50.0],\\\"sizemode\\\":\\\"area\\\"},\\\"y\\\":[100.71927867926507,72.99455970642049,67.91892149465998,83.37244906647182,89.37934072069407,82.1995307006304,81.65755577293386,42.776392864564386,42.374031082751635],\\\"type\\\":\\\"scatter\\\",\\\"labels\\\":{\\\"ppa_price\\\":\\\"PPA Price (2020 Dollars\\/MWh)\\\",\\\"ppa_date\\\":\\\"\\\",\\\"region_categorical\\\":\\\"Region\\\"},\\\"name\\\":\\\"ISO-NE\\\",\\\"x\\\":[\\\"2013-09-19\\\",\\\"2017-05-25\\\",\\\"2017-05-25\\\",\\\"2017-06-20\\\",\\\"2017-06-20\\\",\\\"2017-06-20\\\",\\\"2017-06-20\\\",\\\"2019-12-20\\\",\\\"2020-08-24\\\"]},{\\\"color\\\":[\\\"MISO\\\",\\\"MISO\\\",\\\"MISO\\\",\\\"MISO\\\",\\\"MISO\\\",\\\"MISO\\\",\\\"MISO\\\",\\\"MISO\\\",\\\"MISO\\\",\\\"MISO\\\",\\\"MISO\\\",\\\"MISO\\\"],\\\"mode\\\":\\\"markers\\\",\\\"marker\\\":{\\\"symbol\\\":\\\"circle-open\\\",\\\"color\\\":\\\"#59A14F\\\",\\\"line\\\":{\\\"width\\\":2},\\\"size\\\":[28.8,100.0,62.25,81.0,20.0,52.0,100.0,10.0,40.0,10.5,100.0,9.307692307692307],\\\"sizemode\\\":\\\"area\\\"},\\\"y\\\":[99.91057583938934,66.35840065079067,62.332700687839,47.40774316126852,65.78777369214149,43.262990790301664,28.197735863712953,36.788433526466406,42.86942230482897,42.852437401430905,37.39622146341349,38.77729503000642],\\\"type\\\":\\\"scatter\\\",\\\"labels\\\":{\\\"ppa_price\\\":\\\"PPA Price (2020 Dollars\\/MWh)\\\",\\\"ppa_date\\\":\\\"\\\",\\\"region_categorical\\\":\\\"Region\\\"},\\\"name\\\":\\\"MISO\\\",\\\"x\\\":[\\\"2013-02-04\\\",\\\"2014-10-24\\\",\\\"2015-03-03\\\",\\\"2015-04-03\\\",\\\"2015-07-01\\\",\\\"2015-09-23\\\",\\\"2017-06-19\\\",\\\"2018-02-01\\\",\\\"2018-08-10\\\",\\\"2018-10-01\\\",\\\"2019-08-19\\\",\\\"2019-09-19\\\"]},{\\\"color\\\":[\\\"NYISO\\\",\\\"NYISO\\\",\\\"NYISO\\\",\\\"NYISO\\\",\\\"NYISO\\\"],\\\"mode\\\":\\\"markers\\\",\\\"marker\\\":{\\\"symbol\\\":\\\"circle-open\\\",\\\"color\\\":\\\"#BAB0AC\\\",\\\"line\\\":{\\\"width\\\":2},\\\"size\\\":[32.0,24.9,6.3,500.0,90.0],\\\"sizemode\\\":\\\"area\\\"},\\\"y\\\":[323.5796626050128,148.5921650730072,158.18619819742358,39.50406751768193,47.35781740394759],\\\"type\\\":\\\"scatter\\\",\\\"labels\\\":{\\\"ppa_price\\\":\\\"PPA Price (2020 Dollars\\/MWh)\\\",\\\"ppa_date\\\":\\\"\\\",\\\"region_categorical\\\":\\\"Region\\\"},\\\"name\\\":\\\"NYISO\\\",\\\"x\\\":[\\\"2010-06-01\\\",\\\"2016-09-22\\\",\\\"2018-04-16\\\",\\\"2021-01-15\\\",\\\"2021-01-15\\\"]},{\\\"color\\\":[\\\"PJM\\\",\\\"PJM\\\",\\\"PJM\\\",\\\"PJM\\\",\\\"PJM\\\",\\\"PJM\\\",\\\"PJM\\\",\\\"PJM\\\",\\\"PJM\\\",\\\"PJM\\\",\\\"PJM\\\",\\\"PJM\\\",\\\"PJM\\\",\\\"PJM\\\",\\\"PJM\\\"],\\\"mode\\\":\\\"markers\\\",\\\"marker\\\":{\\\"symbol\\\":\\\"circle-open\\\",\\\"color\\\":\\\"#9C755F\\\",\\\"line\\\":{\\\"width\\\":2},\\\"size\\\":[10.08,20.0,10.3,80.0,60.0,20.0,100.0,8.4,8.4,86.0,70.0,17.5,90.0,88.0,70.0],\\\"sizemode\\\":\\\"area\\\"},\\\"y\\\":[227.7499128805374,225.77118960531632,64.79562042910489,67.58330731230001,51.74253222905902,43.12107492182049,42.229509925432794,82.81012585417109,82.17938106977354,28.234842882276205,37.52097475180009,24.156762396383648,31.610056714493975,32.28506171636523,31.610056714493975],\\\"type\\\":\\\"scatter\\\",\\\"labels\\\":{\\\"ppa_price\\\":\\\"PPA Price (2020 Dollars\\/MWh)\\\",\\\"ppa_date\\\":\\\"\\\",\\\"region_categorical\\\":\\\"Region\\\"},\\\"name\\\":\\\"PJM\\\",\\\"x\\\":[\\\"2009-06-01\\\",\\\"2011-12-01\\\",\\\"2014-04-01\\\",\\\"2015-06-09\\\",\\\"2016-08-26\\\",\\\"2016-08-29\\\",\\\"2016-09-20\\\",\\\"2017-07-28\\\",\\\"2017-07-28\\\",\\\"2018-08-23\\\",\\\"2018-11-01\\\",\\\"2019-07-25\\\",\\\"2019-09-22\\\",\\\"2019-09-22\\\",\\\"2019-09-22\\\"]},{\\\"color\\\":[\\\"SPP\\\",\\\"SPP\\\",\\\"SPP\\\",\\\"SPP\\\",\\\"SPP\\\",\\\"SPP\\\",\\\"SPP\\\"],\\\"mode\\\":\\\"markers\\\",\\\"marker\\\":{\\\"symbol\\\":\\\"circle-open\\\",\\\"color\\\":\\\"#B07AA1\\\",\\\"line\\\":{\\\"width\\\":2},\\\"size\\\":[50.0,25.0,70.0,70.0,3.6,5.681481481481481,4.6],\\\"sizemode\\\":\\\"area\\\"},\\\"y\\\":[133.1772693211324,42.28745952619294,37.458763505044814,37.93510332605691,74.0088224297874,59.320469530373586,43.11242694572076],\\\"type\\\":\\\"scatter\\\",\\\"labels\\\":{\\\"ppa_price\\\":\\\"PPA Price (2020 Dollars\\/MWh)\\\",\\\"ppa_date\\\":\\\"\\\",\\\"region_categorical\\\":\\\"Region\\\"},\\\"name\\\":\\\"SPP\\\",\\\"x\\\":[\\\"2009-12-23\\\",\\\"2015-03-02\\\",\\\"2015-03-04\\\",\\\"2015-03-04\\\",\\\"2015-06-01\\\",\\\"2018-06-01\\\",\\\"2019-02-01\\\"]},{\\\"color\\\":[\\\"Southeast (non-ISO)\\\",\\\"Southeast (non-ISO)\\\",\\\"Southeast (non-ISO)\\\",\\\"Southeast (non-ISO)\\\",\\\"Southeast (non-ISO)\\\",\\\"Southeast (non-ISO)\\\",\\\"Southeast (non-ISO)\\\",\\\"Southeast (non-ISO)\\\",\\\"Southeast (non-ISO)\\\",\\\"Southeast (non-ISO)\\\",\\\"Southeast (non-ISO)\\\",\\\"Southeast (non-ISO)\\\",\\\"Southeast (non-ISO)\\\",\\\"Southeast (non-ISO)\\\",\\\"Southeast (non-ISO)\\\",\\\"Southeast (non-ISO)\\\",\\\"Southeast (non-ISO)\\\",\\\"Southeast (non-ISO)\\\",\\\"Southeast (non-ISO)\\\",\\\"Southeast (non-ISO)\\\",\\\"Southeast (non-ISO)\\\",\\\"Southeast (non-ISO)\\\",\\\"Southeast (non-ISO)\\\",\\\"Southeast (non-ISO)\\\",\\\"Southeast (non-ISO)\\\",\\\"Southeast (non-ISO)\\\",\\\"Southeast (non-ISO)\\\",\\\"Southeast (non-ISO)\\\",\\\"Southeast (non-ISO)\\\",\\\"Southeast (non-ISO)\\\",\\\"Southeast (non-ISO)\\\",\\\"Southeast (non-ISO)\\\",\\\"Southeast (non-ISO)\\\",\\\"Southeast (non-ISO)\\\",\\\"Southeast (non-ISO)\\\",\\\"Southeast (non-ISO)\\\",\\\"Southeast (non-ISO)\\\",\\\"Southeast (non-ISO)\\\",\\\"Southeast (non-ISO)\\\",\\\"Southeast (non-ISO)\\\",\\\"Southeast (non-ISO)\\\",\\\"Southeast (non-ISO)\\\",\\\"Southeast (non-ISO)\\\",\\\"Southeast (non-ISO)\\\",\\\"Southeast (non-ISO)\\\"],\\\"mode\\\":\\\"markers\\\",\\\"marker\\\":{\\\"symbol\\\":\\\"circle-open\\\",\\\"color\\\":\\\"#FF9DA7\\\",\\\"line\\\":{\\\"width\\\":2},\\\"size\\\":[12.6,5.5,7.65,30.0,20.0,20.0,103.0,101.3,80.0,76.5,51.0,30.0,50.0,40.0,80.0,6.0,52.0,50.6,4.9,7.06,13.0,20.0,52.0,146.0,72.0,20.4,8.16,7.2,52.5,40.0,5.0,200.0,150.0,50.0,120.0,57.5,74.5,74.5,42.0,102.5,20.0,250.0,25.0,100.0,7.5],\\\"sizemode\\\":\\\"area\\\"},\\\"y\\\":[210.07052991375707,193.81673462055173,149.3925483002305,114.93490899607748,67.0862896085588,65.58458668719523,57.73982530903569,52.771120878494436,59.677318061680054,53.48009915046671,53.536803141567646,57.16171408259154,70.53812253614016,70.53812253614016,57.600630794613295,101.09010539785217,59.72252901362384,44.735214561102765,66.6109946095628,61.05251969094105,63.828030799805845,46.301790704643444,46.990511788790016,57.92483641667312,38.427662113827445,45.5695364855956,48.359508107162696,51.82785878755491,37.79605830501531,28.16313289573078,48.57126229445577,25.195773066395212,26.472002052703704,34.79424677124418,26.339422380337645,23.842103648585827,29.722613228308674,29.722613228308674,40.449710166509554,22.639206198491404,21.502748501784545,25.898636445257807,21.502748501784545,22.97038105551004,36.65653158405725],\\\"type\\\":\\\"scatter\\\",\\\"labels\\\":{\\\"ppa_price\\\":\\\"PPA Price (2020 Dollars\\/MWh)\\\",\\\"ppa_date\\\":\\\"\\\",\\\"region_categorical\\\":\\\"Region\\\"},\\\"name\\\":\\\"Southeast (non-ISO)\\\",\\\"x\\\":[\\\"2009-05-01\\\",\\\"2010-08-10\\\",\\\"2010-12-01\\\",\\\"2011-12-20\\\",\\\"2013-12-06\\\",\\\"2014-06-01\\\",\\\"2014-10-08\\\",\\\"2014-10-08\\\",\\\"2014-10-08\\\",\\\"2014-10-08\\\",\\\"2014-10-08\\\",\\\"2014-10-08\\\",\\\"2014-11-07\\\",\\\"2014-11-07\\\",\\\"2015-02-01\\\",\\\"2015-03-02\\\",\\\"2015-04-30\\\",\\\"2015-04-30\\\",\\\"2015-05-27\\\",\\\"2015-06-30\\\",\\\"2015-07-01\\\",\\\"2015-07-21\\\",\\\"2015-09-23\\\",\\\"2015-10-01\\\",\\\"2015-11-09\\\",\\\"2016-04-12\\\",\\\"2016-04-12\\\",\\\"2017-01-03\\\",\\\"2017-05-26\\\",\\\"2017-06-01\\\",\\\"2017-06-26\\\",\\\"2017-11-13\\\",\\\"2017-11-13\\\",\\\"2017-12-15\\\",\\\"2018-01-29\\\",\\\"2018-01-29\\\",\\\"2018-05-16\\\",\\\"2018-05-16\\\",\\\"2018-06-27\\\",\\\"2018-08-31\\\",\\\"2018-10-01\\\",\\\"2018-12-11\\\",\\\"2019-11-19\\\",\\\"2019-11-21\\\",\\\"2020-12-30\\\"]},{\\\"color\\\":[\\\"West (non-ISO)\\\",\\\"West (non-ISO)\\\",\\\"West (non-ISO)\\\",\\\"West (non-ISO)\\\",\\\"West (non-ISO)\\\",\\\"West (non-ISO)\\\",\\\"West (non-ISO)\\\",\\\"West (non-ISO)\\\",\\\"West (non-ISO)\\\",\\\"West (non-ISO)\\\",\\\"West (non-ISO)\\\",\\\"West (non-ISO)\\\",\\\"West (non-ISO)\\\",\\\"West (non-ISO)\\\",\\\"West (non-ISO)\\\",\\\"West (non-ISO)\\\",\\\"West (non-ISO)\\\",\\\"West (non-ISO)\\\",\\\"West (non-ISO)\\\",\\\"West (non-ISO)\\\",\\\"West (non-ISO)\\\",\\\"West (non-ISO)\\\",\\\"West (non-ISO)\\\",\\\"West (non-ISO)\\\",\\\"West (non-ISO)\\\",\\\"West (non-ISO)\\\",\\\"West (non-ISO)\\\",\\\"West (non-ISO)\\\",\\\"West (non-ISO)\\\",\\\"West (non-ISO)\\\",\\\"West (non-ISO)\\\",\\\"West (non-ISO)\\\",\\\"West (non-ISO)\\\",\\\"West (non-ISO)\\\",\\\"West (non-ISO)\\\",\\\"West (non-ISO)\\\",\\\"West (non-ISO)\\\",\\\"West (non-ISO)\\\",\\\"West (non-ISO)\\\",\\\"West (non-ISO)\\\",\\\"West (non-ISO)\\\",\\\"West (non-ISO)\\\",\\\"West (non-ISO)\\\",\\\"West (non-ISO)\\\",\\\"West (non-ISO)\\\",\\\"West (non-ISO)\\\",\\\"West (non-ISO)\\\",\\\"West (non-ISO)\\\",\\\"West (non-ISO)\\\",\\\"West (non-ISO)\\\",\\\"West (non-ISO)\\\",\\\"West (non-ISO)\\\",\\\"West (non-ISO)\\\",\\\"West (non-ISO)\\\",\\\"West (non-ISO)\\\",\\\"West (non-ISO)\\\",\\\"West (non-ISO)\\\",\\\"West (non-ISO)\\\",\\\"West (non-ISO)\\\",\\\"West (non-ISO)\\\",\\\"West (non-ISO)\\\",\\\"West (non-ISO)\\\",\\\"West (non-ISO)\\\",\\\"West (non-ISO)\\\",\\\"West (non-ISO)\\\",\\\"West (non-ISO)\\\",\\\"West (non-ISO)\\\",\\\"West (non-ISO)\\\",\\\"West (non-ISO)\\\",\\\"West (non-ISO)\\\",\\\"West (non-ISO)\\\",\\\"West (non-ISO)\\\",\\\"West (non-ISO)\\\",\\\"West (non-ISO)\\\",\\\"West (non-ISO)\\\",\\\"West (non-ISO)\\\",\\\"West (non-ISO)\\\",\\\"West (non-ISO)\\\",\\\"West (non-ISO)\\\",\\\"West (non-ISO)\\\",\\\"West (non-ISO)\\\",\\\"West (non-ISO)\\\",\\\"West (non-ISO)\\\",\\\"West (non-ISO)\\\",\\\"West (non-ISO)\\\",\\\"West (non-ISO)\\\",\\\"West (non-ISO)\\\",\\\"West (non-ISO)\\\",\\\"West (non-ISO)\\\",\\\"West (non-ISO)\\\",\\\"West (non-ISO)\\\",\\\"West (non-ISO)\\\",\\\"West (non-ISO)\\\",\\\"West (non-ISO)\\\",\\\"West (non-ISO)\\\",\\\"West (non-ISO)\\\",\\\"West (non-ISO)\\\",\\\"West (non-ISO)\\\",\\\"West (non-ISO)\\\",\\\"West (non-ISO)\\\",\\\"West (non-ISO)\\\"],\\\"mode\\\":\\\"markers\\\",\\\"marker\\\":{\\\"symbol\\\":\\\"circle-open\\\",\\\"color\\\":\\\"#EDC948\\\",\\\"line\\\":{\\\"width\\\":2},\\\"size\\\":[7.0,30.0,19.0,20.0,50.0,29.0,25.0,20.0,23.0,12.0,10.0,20.0,30.0,23.0,9.0,250.0,30.0,20.0,127.0,9.0,19.0,20.0,20.0,15.0,15.0,250.0,50.0,250.0,20.0,48.0,40.0,50.0,10.416,30.0,56.0,56.0,105.0,60.0,120.0,52.0,30.0,45.0,30.0,100.0,100.0,46.0,30.0,30.0,150.0,10.88,25.0,71.4,46.2,86.0,50.0,90.0,100.0,7.8,200.0,56.0,100.0,50.0,25.0,25.0,50.0,50.0,30.0,300.0,250.0,200.0,101.0,100.0,50.0,60.0,30.0,122.0,58.0,35.0,50.0,50.0,100.0,13.0,22.0,160.0,120.0,50.0,300.0,50.0,66.0,100.0,100.0,200.0,127.86,150.0,100.0,200.0,190.0,50.0,130.0,350.0,250.0],\\\"sizemode\\\":\\\"area\\\"},\\\"y\\\":[239.8734302320258,132.09678867228317,150.76036112897177,131.3546881148436,139.12708403650188,106.66165297410052,132.5178721596421,132.5178721596421,128.07170992260362,100.78435541286747,100.4796315006849,134.09801601299415,133.6436758491672,114.43455922227665,138.7308344812717,115.56695260570278,114.50864091068806,118.11935828776366,111.74425078754807,137.69097724320744,108.14725440354329,85.45749116114865,84.6405675400007,86.33288530907207,77.45618889483875,91.64662310148013,55.8340317259893,80.77785758242976,83.79413414393903,66.3572270235101,67.24666182926795,57.23783844618241,48.85891785120887,62.709645900907255,57.23783844618241,57.801671239864994,60.43582757285074,60.41399429955781,55.60206489882865,46.394199879092604,61.57230304761718,48.830035442316934,47.09490628352168,41.94413452558663,44.13461575434536,49.0330581395708,45.015431742091714,41.03766728729554,51.021198302627944,74.94414326883394,41.174060435802566,19.778630902171695,19.778630902171695,43.98172496666524,46.098955607192714,41.81822904546088,34.67772775209999,41.030388206814315,31.780265356808343,52.2935367179593,27.106106642536467,29.778494773970234,27.837441245399287,27.837441245399287,30.35421794446503,23.890496019348575,27.79697171721862,18.93389544428695,21.688107514517633,21.125318528116463,21.117349716902513,23.87455839692077,24.329272480262663,24.63753916920032,21.498338798626406,23.230426115312707,19.657140528549462,27.819560277691508,25.128148653334357,25.128148653334357,21.553667958426082,36.62821216499901,25.04208876693174,26.98477540798781,19.70752477461863,19.071621426276664,15.06666150942635,16.290640482574158,21.942745109630554,12.10987967969443,16.957063007123832,18.172685515422035,18.951401844782342,24.24390911915167,22.095077334198983,21.25489889077789,16.301957158396895,16.368885781181255,18.816870408402647,18.598115371486017,19.702177660993065],\\\"type\\\":\\\"scatter\\\",\\\"labels\\\":{\\\"ppa_price\\\":\\\"PPA Price (2020 Dollars\\/MWh)\\\",\\\"ppa_date\\\":\\\"\\\",\\\"region_categorical\\\":\\\"Region\\\"},\\\"name\\\":\\\"West (non-ISO)\\\",\\\"x\\\":[\\\"2006-09-01\\\",\\\"2009-02-23\\\",\\\"2009-03-05\\\",\\\"2009-06-01\\\",\\\"2010-02-02\\\",\\\"2010-04-19\\\",\\\"2010-04-29\\\",\\\"2010-06-01\\\",\\\"2010-06-24\\\",\\\"2010-06-30\\\",\\\"2010-06-30\\\",\\\"2010-07-26\\\",\\\"2010-08-10\\\",\\\"2010-08-24\\\",\\\"2010-12-01\\\",\\\"2011-02-07\\\",\\\"2011-02-11\\\",\\\"2011-02-11\\\",\\\"2011-06-03\\\",\\\"2011-10-01\\\",\\\"2011-12-08\\\",\\\"2011-12-20\\\",\\\"2011-12-20\\\",\\\"2012-01-01\\\",\\\"2012-01-01\\\",\\\"2012-08-31\\\",\\\"2012-10-25\\\",\\\"2012-12-12\\\",\\\"2012-12-13\\\",\\\"2013-06-03\\\",\\\"2013-06-03\\\",\\\"2013-07-03\\\",\\\"2014-02-20\\\",\\\"2014-05-27\\\",\\\"2014-07-24\\\",\\\"2014-07-24\\\",\\\"2014-08-19\\\",\\\"2014-08-25\\\",\\\"2014-09-04\\\",\\\"2014-09-04\\\",\\\"2014-11-13\\\",\\\"2014-11-18\\\",\\\"2015-03-25\\\",\\\"2015-06-05\\\",\\\"2015-06-19\\\",\\\"2015-06-23\\\",\\\"2015-08-05\\\",\\\"2015-08-09\\\",\\\"2015-08-28\\\",\\\"2015-09-03\\\",\\\"2015-09-24\\\",\\\"2015-09-28\\\",\\\"2015-09-28\\\",\\\"2015-11-20\\\",\\\"2015-11-30\\\",\\\"2015-12-17\\\",\\\"2016-05-19\\\",\\\"2016-12-13\\\",\\\"2016-12-15\\\",\\\"2017-04-01\\\",\\\"2017-05-22\\\",\\\"2017-06-07\\\",\\\"2017-10-06\\\",\\\"2017-10-06\\\",\\\"2017-10-30\\\",\\\"2018-01-05\\\",\\\"2018-01-09\\\",\\\"2018-05-30\\\",\\\"2018-05-30\\\",\\\"2018-05-30\\\",\\\"2018-05-30\\\",\\\"2018-05-30\\\",\\\"2018-05-30\\\",\\\"2018-06-06\\\",\\\"2018-06-08\\\",\\\"2018-06-13\\\",\\\"2018-06-13\\\",\\\"2018-07-10\\\",\\\"2018-08-22\\\",\\\"2018-08-22\\\",\\\"2018-09-20\\\",\\\"2018-10-18\\\",\\\"2019-02-14\\\",\\\"2019-03-21\\\",\\\"2019-03-22\\\",\\\"2019-05-30\\\",\\\"2019-06-27\\\",\\\"2019-06-27\\\",\\\"2019-08-08\\\",\\\"2019-10-17\\\",\\\"2019-10-17\\\",\\\"2020-03-25\\\",\\\"2020-04-08\\\",\\\"2020-06-01\\\",\\\"2020-09-23\\\",\\\"2020-09-25\\\",\\\"2021-02-01\\\",\\\"2021-02-04\\\",\\\"2021-03-25\\\",\\\"2021-06-01\\\",\\\"2021-06-01\\\"]}],{\\\"template\\\":{\\\"layout\\\":{\\\"coloraxis\\\":{\\\"colorbar\\\":{\\\"ticks\\\":\\\"\\\",\\\"outlinewidth\\\":0}},\\\"xaxis\\\":{\\\"gridcolor\\\":\\\"white\\\",\\\"zerolinewidth\\\":2,\\\"title\\\":{\\\"standoff\\\":15},\\\"ticks\\\":\\\"\\\",\\\"zerolinecolor\\\":\\\"white\\\",\\\"automargin\\\":true,\\\"linecolor\\\":\\\"white\\\"},\\\"hovermode\\\":\\\"closest\\\",\\\"paper_bgcolor\\\":\\\"white\\\",\\\"geo\\\":{\\\"showlakes\\\":true,\\\"showland\\\":true,\\\"landcolor\\\":\\\"#E5ECF6\\\",\\\"bgcolor\\\":\\\"white\\\",\\\"subunitcolor\\\":\\\"white\\\",\\\"lakecolor\\\":\\\"white\\\"},\\\"colorscale\\\":{\\\"sequential\\\":[[0.0,\\\"#0d0887\\\"],[0.1111111111111111,\\\"#46039f\\\"],[0.2222222222222222,\\\"#7201a8\\\"],[0.3333333333333333,\\\"#9c179e\\\"],[0.4444444444444444,\\\"#bd3786\\\"],[0.5555555555555556,\\\"#d8576b\\\"],[0.6666666666666666,\\\"#ed7953\\\"],[0.7777777777777778,\\\"#fb9f3a\\\"],[0.8888888888888888,\\\"#fdca26\\\"],[1.0,\\\"#f0f921\\\"]],\\\"diverging\\\":[[0,\\\"#8e0152\\\"],[0.1,\\\"#c51b7d\\\"],[0.2,\\\"#de77ae\\\"],[0.3,\\\"#f1b6da\\\"],[0.4,\\\"#fde0ef\\\"],[0.5,\\\"#f7f7f7\\\"],[0.6,\\\"#e6f5d0\\\"],[0.7,\\\"#b8e186\\\"],[0.8,\\\"#7fbc41\\\"],[0.9,\\\"#4d9221\\\"],[1,\\\"#276419\\\"]],\\\"sequentialminus\\\":[[0.0,\\\"#0d0887\\\"],[0.1111111111111111,\\\"#46039f\\\"],[0.2222222222222222,\\\"#7201a8\\\"],[0.3333333333333333,\\\"#9c179e\\\"],[0.4444444444444444,\\\"#bd3786\\\"],[0.5555555555555556,\\\"#d8576b\\\"],[0.6666666666666666,\\\"#ed7953\\\"],[0.7777777777777778,\\\"#fb9f3a\\\"],[0.8888888888888888,\\\"#fdca26\\\"],[1.0,\\\"#f0f921\\\"]]},\\\"yaxis\\\":{\\\"gridcolor\\\":\\\"white\\\",\\\"zerolinewidth\\\":2,\\\"title\\\":{\\\"standoff\\\":15},\\\"ticks\\\":\\\"\\\",\\\"zerolinecolor\\\":\\\"white\\\",\\\"automargin\\\":true,\\\"linecolor\\\":\\\"white\\\"},\\\"shapedefaults\\\":{\\\"line\\\":{\\\"color\\\":\\\"#2a3f5f\\\"}},\\\"hoverlabel\\\":{\\\"align\\\":\\\"left\\\"},\\\"mapbox\\\":{\\\"style\\\":\\\"light\\\"},\\\"polar\\\":{\\\"angularaxis\\\":{\\\"gridcolor\\\":\\\"white\\\",\\\"ticks\\\":\\\"\\\",\\\"linecolor\\\":\\\"white\\\"},\\\"bgcolor\\\":\\\"#E5ECF6\\\",\\\"radialaxis\\\":{\\\"gridcolor\\\":\\\"white\\\",\\\"ticks\\\":\\\"\\\",\\\"linecolor\\\":\\\"white\\\"}},\\\"autotypenumbers\\\":\\\"strict\\\",\\\"font\\\":{\\\"color\\\":\\\"#2a3f5f\\\"},\\\"ternary\\\":{\\\"baxis\\\":{\\\"gridcolor\\\":\\\"white\\\",\\\"ticks\\\":\\\"\\\",\\\"linecolor\\\":\\\"white\\\"},\\\"bgcolor\\\":\\\"#E5ECF6\\\",\\\"caxis\\\":{\\\"gridcolor\\\":\\\"white\\\",\\\"ticks\\\":\\\"\\\",\\\"linecolor\\\":\\\"white\\\"},\\\"aaxis\\\":{\\\"gridcolor\\\":\\\"white\\\",\\\"ticks\\\":\\\"\\\",\\\"linecolor\\\":\\\"white\\\"}},\\\"annotationdefaults\\\":{\\\"arrowhead\\\":0,\\\"arrowwidth\\\":1,\\\"arrowcolor\\\":\\\"#2a3f5f\\\"},\\\"plot_bgcolor\\\":\\\"#E5ECF6\\\",\\\"title\\\":{\\\"x\\\":0.05},\\\"scene\\\":{\\\"xaxis\\\":{\\\"gridcolor\\\":\\\"white\\\",\\\"gridwidth\\\":2,\\\"backgroundcolor\\\":\\\"#E5ECF6\\\",\\\"ticks\\\":\\\"\\\",\\\"showbackground\\\":true,\\\"zerolinecolor\\\":\\\"white\\\",\\\"linecolor\\\":\\\"white\\\"},\\\"zaxis\\\":{\\\"gridcolor\\\":\\\"white\\\",\\\"gridwidth\\\":2,\\\"backgroundcolor\\\":\\\"#E5ECF6\\\",\\\"ticks\\\":\\\"\\\",\\\"showbackground\\\":true,\\\"zerolinecolor\\\":\\\"white\\\",\\\"linecolor\\\":\\\"white\\\"},\\\"yaxis\\\":{\\\"gridcolor\\\":\\\"white\\\",\\\"gridwidth\\\":2,\\\"backgroundcolor\\\":\\\"#E5ECF6\\\",\\\"ticks\\\":\\\"\\\",\\\"showbackground\\\":true,\\\"zerolinecolor\\\":\\\"white\\\",\\\"linecolor\\\":\\\"white\\\"}},\\\"colorway\\\":[\\\"#636efa\\\",\\\"#EF553B\\\",\\\"#00cc96\\\",\\\"#ab63fa\\\",\\\"#FFA15A\\\",\\\"#19d3f3\\\",\\\"#FF6692\\\",\\\"#B6E880\\\",\\\"#FF97FF\\\",\\\"#FECB52\\\"]},\\\"data\\\":{\\\"barpolar\\\":[{\\\"type\\\":\\\"barpolar\\\",\\\"marker\\\":{\\\"line\\\":{\\\"color\\\":\\\"#E5ECF6\\\",\\\"width\\\":0.5}}}],\\\"carpet\\\":[{\\\"aaxis\\\":{\\\"gridcolor\\\":\\\"white\\\",\\\"endlinecolor\\\":\\\"#2a3f5f\\\",\\\"minorgridcolor\\\":\\\"white\\\",\\\"startlinecolor\\\":\\\"#2a3f5f\\\",\\\"linecolor\\\":\\\"white\\\"},\\\"type\\\":\\\"carpet\\\",\\\"baxis\\\":{\\\"gridcolor\\\":\\\"white\\\",\\\"endlinecolor\\\":\\\"#2a3f5f\\\",\\\"minorgridcolor\\\":\\\"white\\\",\\\"startlinecolor\\\":\\\"#2a3f5f\\\",\\\"linecolor\\\":\\\"white\\\"}}],\\\"scatterpolar\\\":[{\\\"type\\\":\\\"scatterpolar\\\",\\\"marker\\\":{\\\"colorbar\\\":{\\\"ticks\\\":\\\"\\\",\\\"outlinewidth\\\":0}}}],\\\"parcoords\\\":[{\\\"line\\\":{\\\"colorbar\\\":{\\\"ticks\\\":\\\"\\\",\\\"outlinewidth\\\":0}},\\\"type\\\":\\\"parcoords\\\"}],\\\"scatter\\\":[{\\\"type\\\":\\\"scatter\\\",\\\"marker\\\":{\\\"colorbar\\\":{\\\"ticks\\\":\\\"\\\",\\\"outlinewidth\\\":0}}}],\\\"histogram2dcontour\\\":[{\\\"colorbar\\\":{\\\"ticks\\\":\\\"\\\",\\\"outlinewidth\\\":0},\\\"type\\\":\\\"histogram2dcontour\\\",\\\"colorscale\\\":[[0.0,\\\"#0d0887\\\"],[0.1111111111111111,\\\"#46039f\\\"],[0.2222222222222222,\\\"#7201a8\\\"],[0.3333333333333333,\\\"#9c179e\\\"],[0.4444444444444444,\\\"#bd3786\\\"],[0.5555555555555556,\\\"#d8576b\\\"],[0.6666666666666666,\\\"#ed7953\\\"],[0.7777777777777778,\\\"#fb9f3a\\\"],[0.8888888888888888,\\\"#fdca26\\\"],[1.0,\\\"#f0f921\\\"]]}],\\\"contour\\\":[{\\\"colorbar\\\":{\\\"ticks\\\":\\\"\\\",\\\"outlinewidth\\\":0},\\\"type\\\":\\\"contour\\\",\\\"colorscale\\\":[[0.0,\\\"#0d0887\\\"],[0.1111111111111111,\\\"#46039f\\\"],[0.2222222222222222,\\\"#7201a8\\\"],[0.3333333333333333,\\\"#9c179e\\\"],[0.4444444444444444,\\\"#bd3786\\\"],[0.5555555555555556,\\\"#d8576b\\\"],[0.6666666666666666,\\\"#ed7953\\\"],[0.7777777777777778,\\\"#fb9f3a\\\"],[0.8888888888888888,\\\"#fdca26\\\"],[1.0,\\\"#f0f921\\\"]]}],\\\"scattercarpet\\\":[{\\\"type\\\":\\\"scattercarpet\\\",\\\"marker\\\":{\\\"colorbar\\\":{\\\"ticks\\\":\\\"\\\",\\\"outlinewidth\\\":0}}}],\\\"mesh3d\\\":[{\\\"colorbar\\\":{\\\"ticks\\\":\\\"\\\",\\\"outlinewidth\\\":0},\\\"type\\\":\\\"mesh3d\\\"}],\\\"surface\\\":[{\\\"colorbar\\\":{\\\"ticks\\\":\\\"\\\",\\\"outlinewidth\\\":0},\\\"type\\\":\\\"surface\\\",\\\"colorscale\\\":[[0.0,\\\"#0d0887\\\"],[0.1111111111111111,\\\"#46039f\\\"],[0.2222222222222222,\\\"#7201a8\\\"],[0.3333333333333333,\\\"#9c179e\\\"],[0.4444444444444444,\\\"#bd3786\\\"],[0.5555555555555556,\\\"#d8576b\\\"],[0.6666666666666666,\\\"#ed7953\\\"],[0.7777777777777778,\\\"#fb9f3a\\\"],[0.8888888888888888,\\\"#fdca26\\\"],[1.0,\\\"#f0f921\\\"]]}],\\\"scattermapbox\\\":[{\\\"type\\\":\\\"scattermapbox\\\",\\\"marker\\\":{\\\"colorbar\\\":{\\\"ticks\\\":\\\"\\\",\\\"outlinewidth\\\":0}}}],\\\"scattergeo\\\":[{\\\"type\\\":\\\"scattergeo\\\",\\\"marker\\\":{\\\"colorbar\\\":{\\\"ticks\\\":\\\"\\\",\\\"outlinewidth\\\":0}}}],\\\"histogram\\\":[{\\\"type\\\":\\\"histogram\\\",\\\"marker\\\":{\\\"colorbar\\\":{\\\"ticks\\\":\\\"\\\",\\\"outlinewidth\\\":0}}}],\\\"pie\\\":[{\\\"type\\\":\\\"pie\\\",\\\"automargin\\\":true}],\\\"choropleth\\\":[{\\\"colorbar\\\":{\\\"ticks\\\":\\\"\\\",\\\"outlinewidth\\\":0},\\\"type\\\":\\\"choropleth\\\"}],\\\"heatmapgl\\\":[{\\\"colorbar\\\":{\\\"ticks\\\":\\\"\\\",\\\"outlinewidth\\\":0},\\\"type\\\":\\\"heatmapgl\\\",\\\"colorscale\\\":[[0.0,\\\"#0d0887\\\"],[0.1111111111111111,\\\"#46039f\\\"],[0.2222222222222222,\\\"#7201a8\\\"],[0.3333333333333333,\\\"#9c179e\\\"],[0.4444444444444444,\\\"#bd3786\\\"],[0.5555555555555556,\\\"#d8576b\\\"],[0.6666666666666666,\\\"#ed7953\\\"],[0.7777777777777778,\\\"#fb9f3a\\\"],[0.8888888888888888,\\\"#fdca26\\\"],[1.0,\\\"#f0f921\\\"]]}],\\\"bar\\\":[{\\\"type\\\":\\\"bar\\\",\\\"error_y\\\":{\\\"color\\\":\\\"#2a3f5f\\\"},\\\"error_x\\\":{\\\"color\\\":\\\"#2a3f5f\\\"},\\\"marker\\\":{\\\"line\\\":{\\\"color\\\":\\\"#E5ECF6\\\",\\\"width\\\":0.5}}}],\\\"heatmap\\\":[{\\\"colorbar\\\":{\\\"ticks\\\":\\\"\\\",\\\"outlinewidth\\\":0},\\\"type\\\":\\\"heatmap\\\",\\\"colorscale\\\":[[0.0,\\\"#0d0887\\\"],[0.1111111111111111,\\\"#46039f\\\"],[0.2222222222222222,\\\"#7201a8\\\"],[0.3333333333333333,\\\"#9c179e\\\"],[0.4444444444444444,\\\"#bd3786\\\"],[0.5555555555555556,\\\"#d8576b\\\"],[0.6666666666666666,\\\"#ed7953\\\"],[0.7777777777777778,\\\"#fb9f3a\\\"],[0.8888888888888888,\\\"#fdca26\\\"],[1.0,\\\"#f0f921\\\"]]}],\\\"contourcarpet\\\":[{\\\"colorbar\\\":{\\\"ticks\\\":\\\"\\\",\\\"outlinewidth\\\":0},\\\"type\\\":\\\"contourcarpet\\\"}],\\\"table\\\":[{\\\"type\\\":\\\"table\\\",\\\"header\\\":{\\\"line\\\":{\\\"color\\\":\\\"white\\\"},\\\"fill\\\":{\\\"color\\\":\\\"#C8D4E3\\\"}},\\\"cells\\\":{\\\"line\\\":{\\\"color\\\":\\\"white\\\"},\\\"fill\\\":{\\\"color\\\":\\\"#EBF0F8\\\"}}}],\\\"scatter3d\\\":[{\\\"line\\\":{\\\"colorbar\\\":{\\\"ticks\\\":\\\"\\\",\\\"outlinewidth\\\":0}},\\\"type\\\":\\\"scatter3d\\\",\\\"marker\\\":{\\\"colorbar\\\":{\\\"ticks\\\":\\\"\\\",\\\"outlinewidth\\\":0}}}],\\\"scattergl\\\":[{\\\"type\\\":\\\"scattergl\\\",\\\"marker\\\":{\\\"colorbar\\\":{\\\"ticks\\\":\\\"\\\",\\\"outlinewidth\\\":0}}}],\\\"histogram2d\\\":[{\\\"colorbar\\\":{\\\"ticks\\\":\\\"\\\",\\\"outlinewidth\\\":0},\\\"type\\\":\\\"histogram2d\\\",\\\"colorscale\\\":[[0.0,\\\"#0d0887\\\"],[0.1111111111111111,\\\"#46039f\\\"],[0.2222222222222222,\\\"#7201a8\\\"],[0.3333333333333333,\\\"#9c179e\\\"],[0.4444444444444444,\\\"#bd3786\\\"],[0.5555555555555556,\\\"#d8576b\\\"],[0.6666666666666666,\\\"#ed7953\\\"],[0.7777777777777778,\\\"#fb9f3a\\\"],[0.8888888888888888,\\\"#fdca26\\\"],[1.0,\\\"#f0f921\\\"]]}],\\\"scatterternary\\\":[{\\\"type\\\":\\\"scatterternary\\\",\\\"marker\\\":{\\\"colorbar\\\":{\\\"ticks\\\":\\\"\\\",\\\"outlinewidth\\\":0}}}],\\\"scatterpolargl\\\":[{\\\"type\\\":\\\"scatterpolargl\\\",\\\"marker\\\":{\\\"colorbar\\\":{\\\"ticks\\\":\\\"\\\",\\\"outlinewidth\\\":0}}}]}},\\\"legend\\\":{\\\"yanchor\\\":\\\"bottom\\\",\\\"xanchor\\\":\\\"right\\\",\\\"y\\\":1.02,\\\"orientation\\\":\\\"h\\\",\\\"x\\\":0.9},\\\"margin\\\":{\\\"l\\\":50,\\\"b\\\":50,\\\"r\\\":50,\\\"t\\\":60}},{\\\"showLink\\\":false,\\\"editable\\\":false,\\\"responsive\\\":true,\\\"staticPlot\\\":false,\\\"scrollZoom\\\":true}); gd.on(\\\"plotly_hover\\\",(function (data){var filtered_data=WebIO.PlotlyCommands.filterEventData(gd,data,\\\"hover\\\"); return !(filtered_data.isnil) ? (WebIO.setval({\\\"name\\\":\\\"hover\\\",\\\"scope\\\":\\\"13471513043601839382\\\",\\\"id\\\":\\\"13719888066702608654\\\",\\\"type\\\":\\\"observable\\\"},filtered_data.out)) : undefined})); gd.on(\\\"plotly_unhover\\\",(function (){return WebIO.setval({\\\"name\\\":\\\"hover\\\",\\\"scope\\\":\\\"13471513043601839382\\\",\\\"id\\\":\\\"13719888066702608654\\\",\\\"type\\\":\\\"observable\\\"},{})})); gd.on(\\\"plotly_selected\\\",(function (data){var filtered_data=WebIO.PlotlyCommands.filterEventData(gd,data,\\\"selected\\\"); return !(filtered_data.isnil) ? (WebIO.setval({\\\"name\\\":\\\"selected\\\",\\\"scope\\\":\\\"13471513043601839382\\\",\\\"id\\\":\\\"3275842663266162837\\\",\\\"type\\\":\\\"observable\\\"},filtered_data.out)) : undefined})); gd.on(\\\"plotly_deselect\\\",(function (){return WebIO.setval({\\\"name\\\":\\\"selected\\\",\\\"scope\\\":\\\"13471513043601839382\\\",\\\"id\\\":\\\"3275842663266162837\\\",\\\"type\\\":\\\"observable\\\"},{})})); gd.on(\\\"plotly_relayout\\\",(function (data){var filtered_data=WebIO.PlotlyCommands.filterEventData(gd,data,\\\"relayout\\\"); return !(filtered_data.isnil) ? (WebIO.setval({\\\"name\\\":\\\"relayout\\\",\\\"scope\\\":\\\"13471513043601839382\\\",\\\"id\\\":\\\"2191146668554016652\\\",\\\"type\\\":\\\"observable\\\"},filtered_data.out)) : undefined})); return gd.on(\\\"plotly_click\\\",(function (data){var filtered_data=WebIO.PlotlyCommands.filterEventData(gd,data,\\\"click\\\"); return !(filtered_data.isnil) ? (WebIO.setval({\\\"name\\\":\\\"click\\\",\\\"scope\\\":\\\"13471513043601839382\\\",\\\"id\\\":\\\"10866286286100622116\\\",\\\"type\\\":\\\"observable\\\"},filtered_data.out)) : undefined}))}));\\n    (WebIO.importBlock({\\\"data\\\":[{\\\"name\\\":\\\"Plotly\\\",\\\"type\\\":\\\"js\\\",\\\"url\\\":\\\"\\/assetserver\\/dd3401e457c2bd3775ace7dcd18dbdb220b78a6c-plotly.min.js\\\"},{\\\"name\\\":null,\\\"type\\\":\\\"js\\\",\\\"url\\\":\\\"\\/assetserver\\/7523cc4f6daddb9f8f78ddc193c0f52bb3a899cc-plotly_webio.bundle.js\\\"}],\\\"type\\\":\\\"async_block\\\"})).then((imports) => handler.apply(this, imports));\\n}\\n\"],\"observables\":{\"_toImage\":{\"sync\":false,\"id\":\"15789064871198086568\",\"value\":{}},\"hover\":{\"sync\":false,\"id\":\"13719888066702608654\",\"value\":{}},\"selected\":{\"sync\":false,\"id\":\"3275842663266162837\",\"value\":{}},\"__gd_contents\":{\"sync\":false,\"id\":\"17125495668114477817\",\"value\":{}},\"click\":{\"sync\":false,\"id\":\"10866286286100622116\",\"value\":{}},\"image\":{\"sync\":true,\"id\":\"15746609007788211548\",\"value\":\"\"},\"__get_gd_contents\":{\"sync\":false,\"id\":\"6804505669085768738\",\"value\":\"\"},\"_downloadImage\":{\"sync\":false,\"id\":\"16746410142017171411\",\"value\":{}},\"relayout\":{\"sync\":false,\"id\":\"2191146668554016652\",\"value\":{}},\"_commands\":{\"sync\":false,\"id\":\"136626422783089382\",\"value\":[]}}},\"children\":[{\"props\":{\"id\":\"plot-5237d282-0a9d-4095-b0ca-85497e46d62f\"},\"nodeType\":\"DOM\",\"type\":\"node\",\"instanceArgs\":{\"namespace\":\"html\",\"tag\":\"div\"},\"children\":[]}]},\n",
       "        window,\n",
       "    );\n",
       "    })()\n",
       "    </script>\n",
       "</div>\n"
      ],
      "text/plain": [
       "data: [\n",
       "  \"scatter with fields color, labels, marker, mode, name, type, x, and y\",\n",
       "  \"scatter with fields color, labels, marker, mode, name, type, x, and y\",\n",
       "  \"scatter with fields color, labels, marker, mode, name, type, x, and y\",\n",
       "  \"scatter with fields color, labels, marker, mode, name, type, x, and y\",\n",
       "  \"scatter with fields color, labels, marker, mode, name, type, x, and y\",\n",
       "  \"scatter with fields color, labels, marker, mode, name, type, x, and y\",\n",
       "  \"scatter with fields color, labels, marker, mode, name, type, x, and y\",\n",
       "  \"scatter with fields color, labels, marker, mode, name, type, x, and y\",\n",
       "  \"scatter with fields color, labels, marker, mode, name, type, x, and y\",\n",
       "  \"scatter with fields color, labels, marker, mode, name, type, x, and y\"\n",
       "]\n",
       "\n",
       "layout: \"layout with fields legend, margin, and template\"\n",
       "\n"
      ]
     },
     "metadata": {},
     "output_type": "display_data"
    },
    {
     "name": "stderr",
     "output_type": "stream",
     "text": [
      "┌ Warning: Kaleido is not available on this system. Julia will be unable to save images of any plots.\n",
      "└ @ PlotlyJS /Users/katiepress/.julia/packages/PlotlyJS/4jzLr/src/kaleido.jl:65\n",
      "┌ Warning: UndefVarError(:artifact_dir)\n",
      "└ @ PlotlyJS /Users/katiepress/.julia/packages/PlotlyJS/4jzLr/src/kaleido.jl:66\n",
      "┌ Warning: Kaleido is not available on this system. Julia will be unable to save images of any plots.\n",
      "└ @ PlotlyJS /Users/katiepress/.julia/packages/PlotlyJS/4jzLr/src/kaleido.jl:65\n",
      "┌ Warning: UndefVarError(:artifact_dir)\n",
      "└ @ PlotlyJS /Users/katiepress/.julia/packages/PlotlyJS/4jzLr/src/kaleido.jl:66\n"
     ]
    }
   ],
   "source": [
    "\n",
    "plot([scatter(\n",
    "    subdf,\n",
    "    x=:ppa_date,\n",
    "    y=:ppa_price,\n",
    "    color=:region_categorical,\n",
    "    mode=\"markers\",\n",
    "    marker=attr(size=:capacity_mw, sizemode=\"area\", symbol=\"circle-open\"),\n",
    "    marker_color = mycolorpal[subdf[1, :region_categorical]],\n",
    "    marker_line_width = 2,\n",
    "    name=subdf[1, :region_categorical],\n",
    "    labels = Dict(\n",
    "        :region_categorical => \"Region\",\n",
    "        :ppa_date => \"\", \n",
    "        :ppa_price => \"PPA Price (2020 Dollars/MWh)\"),\n",
    ")\n",
    "for subdf in groupby(ppa_price_long, :region_categorical)\n",
    "],\n",
    "Layout(legend_orientation=\"h\",\n",
    "    legend_x=.9,\n",
    "        legend_y=1.02,\n",
    "        legend_xanchor=\"right\",\n",
    "        legend_yanchor=\"bottom\"))"
   ]
  },
  {
   "cell_type": "markdown",
   "metadata": {},
   "source": [
    "Stacked bar in plotly. First need to aggregate the data, which is pretty easy in Julia. I think I'm getting the hang of this syntax because I guessed correctly that grouping by multiple columns required brackets. "
   ]
  },
  {
   "cell_type": "code",
   "execution_count": 86,
   "metadata": {},
   "outputs": [],
   "source": [
    "ppa_capacity = combine(groupby(ppa_price_long, [:region_categorical,:ppa_year]), :capacity_mw => sum);"
   ]
  },
  {
   "cell_type": "markdown",
   "metadata": {},
   "source": [
    "This is the first attempt, looks pretty good for not really having any formatting. "
   ]
  },
  {
   "cell_type": "code",
   "execution_count": 87,
   "metadata": {},
   "outputs": [
    {
     "data": {
      "application/vnd.plotly.v1+json": {
       "config": {
        "editable": false,
        "responsive": true,
        "scrollZoom": true,
        "showLink": false,
        "staticPlot": false
       },
       "data": [
        {
         "legendgroup": "CAISO",
         "marker": {
          "color": "#636efa"
         },
         "name": "CAISO",
         "showlegend": true,
         "type": "bar",
         "x": [
          2007,
          2008,
          2009,
          2010,
          2011,
          2012,
          2013,
          2014,
          2015,
          2016,
          2017,
          2018,
          2019,
          2021
         ],
         "xaxis": "x",
         "y": [
          5,
          770,
          844,
          1457.3,
          1259,
          512.8,
          489.314,
          672.36,
          935.387,
          226,
          686.8199999999999,
          206.688,
          444,
          140
         ],
         "yaxis": "y"
        },
        {
         "legendgroup": "ERCOT",
         "marker": {
          "color": "#EF553B"
         },
         "name": "ERCOT",
         "showlegend": true,
         "type": "bar",
         "x": [
          2009,
          2014,
          2015,
          2016,
          2017,
          2018
         ],
         "xaxis": "x",
         "y": [
          44,
          157.5,
          318.5,
          150,
          170,
          144
         ],
         "yaxis": "y"
        },
        {
         "legendgroup": "Hawaii",
         "marker": {
          "color": "#00cc96"
         },
         "name": "Hawaii",
         "showlegend": true,
         "type": "bar",
         "x": [
          2011,
          2013,
          2015,
          2017
         ],
         "xaxis": "x",
         "y": [
          6,
          12,
          27.6,
          109.6
         ],
         "yaxis": "y"
        },
        {
         "legendgroup": "ISO-NE",
         "marker": {
          "color": "#ab63fa"
         },
         "name": "ISO-NE",
         "showlegend": true,
         "type": "bar",
         "x": [
          2013,
          2017,
          2019,
          2020
         ],
         "xaxis": "x",
         "y": [
          20,
          206.11,
          50,
          50
         ],
         "yaxis": "y"
        },
        {
         "legendgroup": "MISO",
         "marker": {
          "color": "#FFA15A"
         },
         "name": "MISO",
         "showlegend": true,
         "type": "bar",
         "x": [
          2013,
          2014,
          2015,
          2017,
          2018,
          2019
         ],
         "xaxis": "x",
         "y": [
          28.8,
          100,
          215.25,
          100,
          60.5,
          109.3076923076923
         ],
         "yaxis": "y"
        },
        {
         "legendgroup": "NYISO",
         "marker": {
          "color": "#19d3f3"
         },
         "name": "NYISO",
         "showlegend": true,
         "type": "bar",
         "x": [
          2010,
          2016,
          2018,
          2021
         ],
         "xaxis": "x",
         "y": [
          32,
          24.9,
          6.3,
          590
         ],
         "yaxis": "y"
        },
        {
         "legendgroup": "PJM",
         "marker": {
          "color": "#FF6692"
         },
         "name": "PJM",
         "showlegend": true,
         "type": "bar",
         "x": [
          2009,
          2011,
          2014,
          2015,
          2016,
          2017,
          2018,
          2019
         ],
         "xaxis": "x",
         "y": [
          10.08,
          20,
          10.3,
          80,
          180,
          16.8,
          156,
          265.5
         ],
         "yaxis": "y"
        },
        {
         "legendgroup": "SPP",
         "marker": {
          "color": "#B6E880"
         },
         "name": "SPP",
         "showlegend": true,
         "type": "bar",
         "x": [
          2009,
          2015,
          2018,
          2019
         ],
         "xaxis": "x",
         "y": [
          50,
          168.6,
          5.681481481481481,
          4.6
         ],
         "yaxis": "y"
        },
        {
         "legendgroup": "Southeast (non-ISO)",
         "marker": {
          "color": "#FF97FF"
         },
         "name": "Southeast (non-ISO)",
         "showlegend": true,
         "type": "bar",
         "x": [
          2009,
          2010,
          2011,
          2013,
          2014,
          2015,
          2016,
          2017,
          2018,
          2019,
          2020
         ],
         "xaxis": "x",
         "y": [
          12.6,
          13.15,
          30,
          20,
          551.8,
          503.56,
          28.56,
          504.7,
          741,
          125,
          7.5
         ],
         "yaxis": "y"
        },
        {
         "legendgroup": "West (non-ISO)",
         "marker": {
          "color": "#FECB52"
         },
         "name": "West (non-ISO)",
         "showlegend": true,
         "type": "bar",
         "x": [
          2006,
          2009,
          2010,
          2011,
          2012,
          2013,
          2014,
          2015,
          2016,
          2017,
          2018,
          2019,
          2020,
          2021
         ],
         "xaxis": "x",
         "y": [
          7,
          69,
          251,
          495,
          600,
          138,
          564.4159999999999,
          865.48,
          307.8,
          306,
          1599,
          968,
          777.86,
          970
         ],
         "yaxis": "y"
        }
       ],
       "frames": [],
       "layout": {
        "barmode": "stack",
        "legend": {
         "title": {
          "text": "region_categorical"
         },
         "tracegroupgap": 0
        },
        "margin": {
         "b": 50,
         "l": 50,
         "r": 50,
         "t": 60
        },
        "template": {
         "data": {
          "bar": [
           {
            "error_x": {
             "color": "#2a3f5f"
            },
            "error_y": {
             "color": "#2a3f5f"
            },
            "marker": {
             "line": {
              "color": "#E5ECF6",
              "width": 0.5
             }
            },
            "type": "bar"
           }
          ],
          "barpolar": [
           {
            "marker": {
             "line": {
              "color": "#E5ECF6",
              "width": 0.5
             }
            },
            "type": "barpolar"
           }
          ],
          "carpet": [
           {
            "aaxis": {
             "endlinecolor": "#2a3f5f",
             "gridcolor": "white",
             "linecolor": "white",
             "minorgridcolor": "white",
             "startlinecolor": "#2a3f5f"
            },
            "baxis": {
             "endlinecolor": "#2a3f5f",
             "gridcolor": "white",
             "linecolor": "white",
             "minorgridcolor": "white",
             "startlinecolor": "#2a3f5f"
            },
            "type": "carpet"
           }
          ],
          "choropleth": [
           {
            "colorbar": {
             "outlinewidth": 0,
             "ticks": ""
            },
            "type": "choropleth"
           }
          ],
          "contour": [
           {
            "colorbar": {
             "outlinewidth": 0,
             "ticks": ""
            },
            "colorscale": [
             [
              0,
              "#0d0887"
             ],
             [
              0.1111111111111111,
              "#46039f"
             ],
             [
              0.2222222222222222,
              "#7201a8"
             ],
             [
              0.3333333333333333,
              "#9c179e"
             ],
             [
              0.4444444444444444,
              "#bd3786"
             ],
             [
              0.5555555555555556,
              "#d8576b"
             ],
             [
              0.6666666666666666,
              "#ed7953"
             ],
             [
              0.7777777777777778,
              "#fb9f3a"
             ],
             [
              0.8888888888888888,
              "#fdca26"
             ],
             [
              1,
              "#f0f921"
             ]
            ],
            "type": "contour"
           }
          ],
          "contourcarpet": [
           {
            "colorbar": {
             "outlinewidth": 0,
             "ticks": ""
            },
            "type": "contourcarpet"
           }
          ],
          "heatmap": [
           {
            "colorbar": {
             "outlinewidth": 0,
             "ticks": ""
            },
            "colorscale": [
             [
              0,
              "#0d0887"
             ],
             [
              0.1111111111111111,
              "#46039f"
             ],
             [
              0.2222222222222222,
              "#7201a8"
             ],
             [
              0.3333333333333333,
              "#9c179e"
             ],
             [
              0.4444444444444444,
              "#bd3786"
             ],
             [
              0.5555555555555556,
              "#d8576b"
             ],
             [
              0.6666666666666666,
              "#ed7953"
             ],
             [
              0.7777777777777778,
              "#fb9f3a"
             ],
             [
              0.8888888888888888,
              "#fdca26"
             ],
             [
              1,
              "#f0f921"
             ]
            ],
            "type": "heatmap"
           }
          ],
          "heatmapgl": [
           {
            "colorbar": {
             "outlinewidth": 0,
             "ticks": ""
            },
            "colorscale": [
             [
              0,
              "#0d0887"
             ],
             [
              0.1111111111111111,
              "#46039f"
             ],
             [
              0.2222222222222222,
              "#7201a8"
             ],
             [
              0.3333333333333333,
              "#9c179e"
             ],
             [
              0.4444444444444444,
              "#bd3786"
             ],
             [
              0.5555555555555556,
              "#d8576b"
             ],
             [
              0.6666666666666666,
              "#ed7953"
             ],
             [
              0.7777777777777778,
              "#fb9f3a"
             ],
             [
              0.8888888888888888,
              "#fdca26"
             ],
             [
              1,
              "#f0f921"
             ]
            ],
            "type": "heatmapgl"
           }
          ],
          "histogram": [
           {
            "marker": {
             "colorbar": {
              "outlinewidth": 0,
              "ticks": ""
             }
            },
            "type": "histogram"
           }
          ],
          "histogram2d": [
           {
            "colorbar": {
             "outlinewidth": 0,
             "ticks": ""
            },
            "colorscale": [
             [
              0,
              "#0d0887"
             ],
             [
              0.1111111111111111,
              "#46039f"
             ],
             [
              0.2222222222222222,
              "#7201a8"
             ],
             [
              0.3333333333333333,
              "#9c179e"
             ],
             [
              0.4444444444444444,
              "#bd3786"
             ],
             [
              0.5555555555555556,
              "#d8576b"
             ],
             [
              0.6666666666666666,
              "#ed7953"
             ],
             [
              0.7777777777777778,
              "#fb9f3a"
             ],
             [
              0.8888888888888888,
              "#fdca26"
             ],
             [
              1,
              "#f0f921"
             ]
            ],
            "type": "histogram2d"
           }
          ],
          "histogram2dcontour": [
           {
            "colorbar": {
             "outlinewidth": 0,
             "ticks": ""
            },
            "colorscale": [
             [
              0,
              "#0d0887"
             ],
             [
              0.1111111111111111,
              "#46039f"
             ],
             [
              0.2222222222222222,
              "#7201a8"
             ],
             [
              0.3333333333333333,
              "#9c179e"
             ],
             [
              0.4444444444444444,
              "#bd3786"
             ],
             [
              0.5555555555555556,
              "#d8576b"
             ],
             [
              0.6666666666666666,
              "#ed7953"
             ],
             [
              0.7777777777777778,
              "#fb9f3a"
             ],
             [
              0.8888888888888888,
              "#fdca26"
             ],
             [
              1,
              "#f0f921"
             ]
            ],
            "type": "histogram2dcontour"
           }
          ],
          "mesh3d": [
           {
            "colorbar": {
             "outlinewidth": 0,
             "ticks": ""
            },
            "type": "mesh3d"
           }
          ],
          "parcoords": [
           {
            "line": {
             "colorbar": {
              "outlinewidth": 0,
              "ticks": ""
             }
            },
            "type": "parcoords"
           }
          ],
          "pie": [
           {
            "automargin": true,
            "type": "pie"
           }
          ],
          "scatter": [
           {
            "marker": {
             "colorbar": {
              "outlinewidth": 0,
              "ticks": ""
             }
            },
            "type": "scatter"
           }
          ],
          "scatter3d": [
           {
            "line": {
             "colorbar": {
              "outlinewidth": 0,
              "ticks": ""
             }
            },
            "marker": {
             "colorbar": {
              "outlinewidth": 0,
              "ticks": ""
             }
            },
            "type": "scatter3d"
           }
          ],
          "scattercarpet": [
           {
            "marker": {
             "colorbar": {
              "outlinewidth": 0,
              "ticks": ""
             }
            },
            "type": "scattercarpet"
           }
          ],
          "scattergeo": [
           {
            "marker": {
             "colorbar": {
              "outlinewidth": 0,
              "ticks": ""
             }
            },
            "type": "scattergeo"
           }
          ],
          "scattergl": [
           {
            "marker": {
             "colorbar": {
              "outlinewidth": 0,
              "ticks": ""
             }
            },
            "type": "scattergl"
           }
          ],
          "scattermapbox": [
           {
            "marker": {
             "colorbar": {
              "outlinewidth": 0,
              "ticks": ""
             }
            },
            "type": "scattermapbox"
           }
          ],
          "scatterpolar": [
           {
            "marker": {
             "colorbar": {
              "outlinewidth": 0,
              "ticks": ""
             }
            },
            "type": "scatterpolar"
           }
          ],
          "scatterpolargl": [
           {
            "marker": {
             "colorbar": {
              "outlinewidth": 0,
              "ticks": ""
             }
            },
            "type": "scatterpolargl"
           }
          ],
          "scatterternary": [
           {
            "marker": {
             "colorbar": {
              "outlinewidth": 0,
              "ticks": ""
             }
            },
            "type": "scatterternary"
           }
          ],
          "surface": [
           {
            "colorbar": {
             "outlinewidth": 0,
             "ticks": ""
            },
            "colorscale": [
             [
              0,
              "#0d0887"
             ],
             [
              0.1111111111111111,
              "#46039f"
             ],
             [
              0.2222222222222222,
              "#7201a8"
             ],
             [
              0.3333333333333333,
              "#9c179e"
             ],
             [
              0.4444444444444444,
              "#bd3786"
             ],
             [
              0.5555555555555556,
              "#d8576b"
             ],
             [
              0.6666666666666666,
              "#ed7953"
             ],
             [
              0.7777777777777778,
              "#fb9f3a"
             ],
             [
              0.8888888888888888,
              "#fdca26"
             ],
             [
              1,
              "#f0f921"
             ]
            ],
            "type": "surface"
           }
          ],
          "table": [
           {
            "cells": {
             "fill": {
              "color": "#EBF0F8"
             },
             "line": {
              "color": "white"
             }
            },
            "header": {
             "fill": {
              "color": "#C8D4E3"
             },
             "line": {
              "color": "white"
             }
            },
            "type": "table"
           }
          ]
         },
         "layout": {
          "annotationdefaults": {
           "arrowcolor": "#2a3f5f",
           "arrowhead": 0,
           "arrowwidth": 1
          },
          "autotypenumbers": "strict",
          "coloraxis": {
           "colorbar": {
            "outlinewidth": 0,
            "ticks": ""
           }
          },
          "colorscale": {
           "diverging": [
            [
             0,
             "#8e0152"
            ],
            [
             0.1,
             "#c51b7d"
            ],
            [
             0.2,
             "#de77ae"
            ],
            [
             0.3,
             "#f1b6da"
            ],
            [
             0.4,
             "#fde0ef"
            ],
            [
             0.5,
             "#f7f7f7"
            ],
            [
             0.6,
             "#e6f5d0"
            ],
            [
             0.7,
             "#b8e186"
            ],
            [
             0.8,
             "#7fbc41"
            ],
            [
             0.9,
             "#4d9221"
            ],
            [
             1,
             "#276419"
            ]
           ],
           "sequential": [
            [
             0,
             "#0d0887"
            ],
            [
             0.1111111111111111,
             "#46039f"
            ],
            [
             0.2222222222222222,
             "#7201a8"
            ],
            [
             0.3333333333333333,
             "#9c179e"
            ],
            [
             0.4444444444444444,
             "#bd3786"
            ],
            [
             0.5555555555555556,
             "#d8576b"
            ],
            [
             0.6666666666666666,
             "#ed7953"
            ],
            [
             0.7777777777777778,
             "#fb9f3a"
            ],
            [
             0.8888888888888888,
             "#fdca26"
            ],
            [
             1,
             "#f0f921"
            ]
           ],
           "sequentialminus": [
            [
             0,
             "#0d0887"
            ],
            [
             0.1111111111111111,
             "#46039f"
            ],
            [
             0.2222222222222222,
             "#7201a8"
            ],
            [
             0.3333333333333333,
             "#9c179e"
            ],
            [
             0.4444444444444444,
             "#bd3786"
            ],
            [
             0.5555555555555556,
             "#d8576b"
            ],
            [
             0.6666666666666666,
             "#ed7953"
            ],
            [
             0.7777777777777778,
             "#fb9f3a"
            ],
            [
             0.8888888888888888,
             "#fdca26"
            ],
            [
             1,
             "#f0f921"
            ]
           ]
          },
          "colorway": [
           "#636efa",
           "#EF553B",
           "#00cc96",
           "#ab63fa",
           "#FFA15A",
           "#19d3f3",
           "#FF6692",
           "#B6E880",
           "#FF97FF",
           "#FECB52"
          ],
          "font": {
           "color": "#2a3f5f"
          },
          "geo": {
           "bgcolor": "white",
           "lakecolor": "white",
           "landcolor": "#E5ECF6",
           "showlakes": true,
           "showland": true,
           "subunitcolor": "white"
          },
          "hoverlabel": {
           "align": "left"
          },
          "hovermode": "closest",
          "mapbox": {
           "style": "light"
          },
          "paper_bgcolor": "white",
          "plot_bgcolor": "#E5ECF6",
          "polar": {
           "angularaxis": {
            "gridcolor": "white",
            "linecolor": "white",
            "ticks": ""
           },
           "bgcolor": "#E5ECF6",
           "radialaxis": {
            "gridcolor": "white",
            "linecolor": "white",
            "ticks": ""
           }
          },
          "scene": {
           "xaxis": {
            "backgroundcolor": "#E5ECF6",
            "gridcolor": "white",
            "gridwidth": 2,
            "linecolor": "white",
            "showbackground": true,
            "ticks": "",
            "zerolinecolor": "white"
           },
           "yaxis": {
            "backgroundcolor": "#E5ECF6",
            "gridcolor": "white",
            "gridwidth": 2,
            "linecolor": "white",
            "showbackground": true,
            "ticks": "",
            "zerolinecolor": "white"
           },
           "zaxis": {
            "backgroundcolor": "#E5ECF6",
            "gridcolor": "white",
            "gridwidth": 2,
            "linecolor": "white",
            "showbackground": true,
            "ticks": "",
            "zerolinecolor": "white"
           }
          },
          "shapedefaults": {
           "line": {
            "color": "#2a3f5f"
           }
          },
          "ternary": {
           "aaxis": {
            "gridcolor": "white",
            "linecolor": "white",
            "ticks": ""
           },
           "baxis": {
            "gridcolor": "white",
            "linecolor": "white",
            "ticks": ""
           },
           "bgcolor": "#E5ECF6",
           "caxis": {
            "gridcolor": "white",
            "linecolor": "white",
            "ticks": ""
           }
          },
          "title": {
           "x": 0.05
          },
          "xaxis": {
           "automargin": true,
           "gridcolor": "white",
           "linecolor": "white",
           "ticks": "",
           "title": {
            "standoff": 15
           },
           "zerolinecolor": "white",
           "zerolinewidth": 2
          },
          "yaxis": {
           "automargin": true,
           "gridcolor": "white",
           "linecolor": "white",
           "ticks": "",
           "title": {
            "standoff": 15
           },
           "zerolinecolor": "white",
           "zerolinewidth": 2
          }
         }
        },
        "xaxis": {
         "title": {
          "text": "ppa_year"
         }
        },
        "yaxis": {
         "title": {
          "text": "capacity_mw_sum"
         }
        }
       }
      },
      "text/html": [
       "<div\n",
       "    class=\"webio-mountpoint\"\n",
       "    data-webio-mountpoint=\"12718358245401416756\"\n",
       ">\n",
       "    <script>\n",
       "    (function(){\n",
       "    // Some integrations (namely, IJulia/Jupyter) use an alternate render pathway than\n",
       "    // just putting the html on the page. If WebIO isn't defined, then it's pretty likely\n",
       "    // that we're in one of those situations and the integration just isn't installed\n",
       "    // correctly.\n",
       "    if (typeof window.WebIO === \"undefined\") {\n",
       "        document\n",
       "            .querySelector('[data-webio-mountpoint=\"12718358245401416756\"]')\n",
       "            .innerHTML = (\n",
       "                '<div style=\"padding: 1em; background-color: #f8d6da; border: 1px solid #f5c6cb; font-weight: bold;\">' +\n",
       "                '<p><strong>WebIO not detected.</strong></p>' +\n",
       "                '<p>Please read ' +\n",
       "                '<a href=\"https://juliagizmos.github.io/WebIO.jl/latest/troubleshooting/not-detected/\" target=\"_blank\">the troubleshooting guide</a> ' +\n",
       "                'for more information on how to resolve this issue.</p>' +\n",
       "                '<p><a href=\"https://juliagizmos.github.io/WebIO.jl/latest/troubleshooting/not-detected/\" target=\"_blank\">https://juliagizmos.github.io/WebIO.jl/latest/troubleshooting/not-detected/</a></p>' +\n",
       "                '</div>'\n",
       "            );\n",
       "        return;\n",
       "    }\n",
       "    WebIO.mount(\n",
       "        document.querySelector('[data-webio-mountpoint=\"12718358245401416756\"]'),\n",
       "        {\"props\":{},\"nodeType\":\"Scope\",\"type\":\"node\",\"instanceArgs\":{\"imports\":{\"data\":[{\"name\":\"Plotly\",\"type\":\"js\",\"url\":\"\\/assetserver\\/dd3401e457c2bd3775ace7dcd18dbdb220b78a6c-plotly.min.js\"},{\"name\":null,\"type\":\"js\",\"url\":\"\\/assetserver\\/7523cc4f6daddb9f8f78ddc193c0f52bb3a899cc-plotly_webio.bundle.js\"}],\"type\":\"async_block\"},\"id\":\"172303609591176900\",\"handlers\":{\"_toImage\":[\"(function (options){return this.Plotly.toImage(this.plotElem,options).then((function (data){return WebIO.setval({\\\"name\\\":\\\"image\\\",\\\"scope\\\":\\\"172303609591176900\\\",\\\"id\\\":\\\"3221682585980858867\\\",\\\"type\\\":\\\"observable\\\"},data)}))})\"],\"__get_gd_contents\":[\"(function (prop){prop==\\\"data\\\" ? (WebIO.setval({\\\"name\\\":\\\"__gd_contents\\\",\\\"scope\\\":\\\"172303609591176900\\\",\\\"id\\\":\\\"3712533189920760759\\\",\\\"type\\\":\\\"observable\\\"},this.plotElem.data)) : undefined; return prop==\\\"layout\\\" ? (WebIO.setval({\\\"name\\\":\\\"__gd_contents\\\",\\\"scope\\\":\\\"172303609591176900\\\",\\\"id\\\":\\\"3712533189920760759\\\",\\\"type\\\":\\\"observable\\\"},this.plotElem.layout)) : undefined})\"],\"_downloadImage\":[\"(function (options){return this.Plotly.downloadImage(this.plotElem,options)})\"],\"_commands\":[\"(function (args){var fn=args.shift(); var elem=this.plotElem; var Plotly=this.Plotly; args.unshift(elem); return Plotly[fn].apply(this,args)})\"]},\"systemjs_options\":null,\"mount_callbacks\":[\"function () {\\n    var handler = ((function (Plotly,PlotlyWebIO){PlotlyWebIO.init(WebIO); var gd=this.dom.querySelector(\\\"#plot-be5a2c41-ae61-4e9c-85e2-2e42db99bcef\\\"); this.plotElem=gd; this.Plotly=Plotly; (window.Blink!==undefined) ? (gd.style.width=\\\"100%\\\", gd.style.height=\\\"100vh\\\", gd.style.marginLeft=\\\"0%\\\", gd.style.marginTop=\\\"0vh\\\") : undefined; window.onresize=(function (){return Plotly.Plots.resize(gd)}); Plotly.newPlot(gd,[{\\\"showlegend\\\":true,\\\"marker\\\":{\\\"color\\\":\\\"#636efa\\\"},\\\"xaxis\\\":\\\"x\\\",\\\"y\\\":[5.0,770.0,844.0,1457.3,1259.0,512.8,489.314,672.36,935.387,226.0,686.8199999999999,206.688,444.0,140.0],\\\"type\\\":\\\"bar\\\",\\\"name\\\":\\\"CAISO\\\",\\\"yaxis\\\":\\\"y\\\",\\\"legendgroup\\\":\\\"CAISO\\\",\\\"x\\\":[2007,2008,2009,2010,2011,2012,2013,2014,2015,2016,2017,2018,2019,2021]},{\\\"showlegend\\\":true,\\\"marker\\\":{\\\"color\\\":\\\"#EF553B\\\"},\\\"xaxis\\\":\\\"x\\\",\\\"y\\\":[44.0,157.5,318.5,150.0,170.0,144.0],\\\"type\\\":\\\"bar\\\",\\\"name\\\":\\\"ERCOT\\\",\\\"yaxis\\\":\\\"y\\\",\\\"legendgroup\\\":\\\"ERCOT\\\",\\\"x\\\":[2009,2014,2015,2016,2017,2018]},{\\\"showlegend\\\":true,\\\"marker\\\":{\\\"color\\\":\\\"#00cc96\\\"},\\\"xaxis\\\":\\\"x\\\",\\\"y\\\":[6.0,12.0,27.6,109.6],\\\"type\\\":\\\"bar\\\",\\\"name\\\":\\\"Hawaii\\\",\\\"yaxis\\\":\\\"y\\\",\\\"legendgroup\\\":\\\"Hawaii\\\",\\\"x\\\":[2011,2013,2015,2017]},{\\\"showlegend\\\":true,\\\"marker\\\":{\\\"color\\\":\\\"#ab63fa\\\"},\\\"xaxis\\\":\\\"x\\\",\\\"y\\\":[20.0,206.11,50.0,50.0],\\\"type\\\":\\\"bar\\\",\\\"name\\\":\\\"ISO-NE\\\",\\\"yaxis\\\":\\\"y\\\",\\\"legendgroup\\\":\\\"ISO-NE\\\",\\\"x\\\":[2013,2017,2019,2020]},{\\\"showlegend\\\":true,\\\"marker\\\":{\\\"color\\\":\\\"#FFA15A\\\"},\\\"xaxis\\\":\\\"x\\\",\\\"y\\\":[28.8,100.0,215.25,100.0,60.5,109.3076923076923],\\\"type\\\":\\\"bar\\\",\\\"name\\\":\\\"MISO\\\",\\\"yaxis\\\":\\\"y\\\",\\\"legendgroup\\\":\\\"MISO\\\",\\\"x\\\":[2013,2014,2015,2017,2018,2019]},{\\\"showlegend\\\":true,\\\"marker\\\":{\\\"color\\\":\\\"#19d3f3\\\"},\\\"xaxis\\\":\\\"x\\\",\\\"y\\\":[32.0,24.9,6.3,590.0],\\\"type\\\":\\\"bar\\\",\\\"name\\\":\\\"NYISO\\\",\\\"yaxis\\\":\\\"y\\\",\\\"legendgroup\\\":\\\"NYISO\\\",\\\"x\\\":[2010,2016,2018,2021]},{\\\"showlegend\\\":true,\\\"marker\\\":{\\\"color\\\":\\\"#FF6692\\\"},\\\"xaxis\\\":\\\"x\\\",\\\"y\\\":[10.08,20.0,10.3,80.0,180.0,16.8,156.0,265.5],\\\"type\\\":\\\"bar\\\",\\\"name\\\":\\\"PJM\\\",\\\"yaxis\\\":\\\"y\\\",\\\"legendgroup\\\":\\\"PJM\\\",\\\"x\\\":[2009,2011,2014,2015,2016,2017,2018,2019]},{\\\"showlegend\\\":true,\\\"marker\\\":{\\\"color\\\":\\\"#B6E880\\\"},\\\"xaxis\\\":\\\"x\\\",\\\"y\\\":[50.0,168.6,5.681481481481481,4.6],\\\"type\\\":\\\"bar\\\",\\\"name\\\":\\\"SPP\\\",\\\"yaxis\\\":\\\"y\\\",\\\"legendgroup\\\":\\\"SPP\\\",\\\"x\\\":[2009,2015,2018,2019]},{\\\"showlegend\\\":true,\\\"marker\\\":{\\\"color\\\":\\\"#FF97FF\\\"},\\\"xaxis\\\":\\\"x\\\",\\\"y\\\":[12.6,13.15,30.0,20.0,551.8,503.56,28.56,504.7,741.0,125.0,7.5],\\\"type\\\":\\\"bar\\\",\\\"name\\\":\\\"Southeast (non-ISO)\\\",\\\"yaxis\\\":\\\"y\\\",\\\"legendgroup\\\":\\\"Southeast (non-ISO)\\\",\\\"x\\\":[2009,2010,2011,2013,2014,2015,2016,2017,2018,2019,2020]},{\\\"showlegend\\\":true,\\\"marker\\\":{\\\"color\\\":\\\"#FECB52\\\"},\\\"xaxis\\\":\\\"x\\\",\\\"y\\\":[7.0,69.0,251.0,495.0,600.0,138.0,564.4159999999999,865.48,307.8,306.0,1599.0,968.0,777.86,970.0],\\\"type\\\":\\\"bar\\\",\\\"name\\\":\\\"West (non-ISO)\\\",\\\"yaxis\\\":\\\"y\\\",\\\"legendgroup\\\":\\\"West (non-ISO)\\\",\\\"x\\\":[2006,2009,2010,2011,2012,2013,2014,2015,2016,2017,2018,2019,2020,2021]}],{\\\"xaxis\\\":{\\\"title\\\":{\\\"text\\\":\\\"ppa_year\\\"}},\\\"template\\\":{\\\"layout\\\":{\\\"coloraxis\\\":{\\\"colorbar\\\":{\\\"ticks\\\":\\\"\\\",\\\"outlinewidth\\\":0}},\\\"xaxis\\\":{\\\"gridcolor\\\":\\\"white\\\",\\\"zerolinewidth\\\":2,\\\"title\\\":{\\\"standoff\\\":15},\\\"ticks\\\":\\\"\\\",\\\"zerolinecolor\\\":\\\"white\\\",\\\"automargin\\\":true,\\\"linecolor\\\":\\\"white\\\"},\\\"hovermode\\\":\\\"closest\\\",\\\"paper_bgcolor\\\":\\\"white\\\",\\\"geo\\\":{\\\"showlakes\\\":true,\\\"showland\\\":true,\\\"landcolor\\\":\\\"#E5ECF6\\\",\\\"bgcolor\\\":\\\"white\\\",\\\"subunitcolor\\\":\\\"white\\\",\\\"lakecolor\\\":\\\"white\\\"},\\\"colorscale\\\":{\\\"sequential\\\":[[0.0,\\\"#0d0887\\\"],[0.1111111111111111,\\\"#46039f\\\"],[0.2222222222222222,\\\"#7201a8\\\"],[0.3333333333333333,\\\"#9c179e\\\"],[0.4444444444444444,\\\"#bd3786\\\"],[0.5555555555555556,\\\"#d8576b\\\"],[0.6666666666666666,\\\"#ed7953\\\"],[0.7777777777777778,\\\"#fb9f3a\\\"],[0.8888888888888888,\\\"#fdca26\\\"],[1.0,\\\"#f0f921\\\"]],\\\"diverging\\\":[[0,\\\"#8e0152\\\"],[0.1,\\\"#c51b7d\\\"],[0.2,\\\"#de77ae\\\"],[0.3,\\\"#f1b6da\\\"],[0.4,\\\"#fde0ef\\\"],[0.5,\\\"#f7f7f7\\\"],[0.6,\\\"#e6f5d0\\\"],[0.7,\\\"#b8e186\\\"],[0.8,\\\"#7fbc41\\\"],[0.9,\\\"#4d9221\\\"],[1,\\\"#276419\\\"]],\\\"sequentialminus\\\":[[0.0,\\\"#0d0887\\\"],[0.1111111111111111,\\\"#46039f\\\"],[0.2222222222222222,\\\"#7201a8\\\"],[0.3333333333333333,\\\"#9c179e\\\"],[0.4444444444444444,\\\"#bd3786\\\"],[0.5555555555555556,\\\"#d8576b\\\"],[0.6666666666666666,\\\"#ed7953\\\"],[0.7777777777777778,\\\"#fb9f3a\\\"],[0.8888888888888888,\\\"#fdca26\\\"],[1.0,\\\"#f0f921\\\"]]},\\\"yaxis\\\":{\\\"gridcolor\\\":\\\"white\\\",\\\"zerolinewidth\\\":2,\\\"title\\\":{\\\"standoff\\\":15},\\\"ticks\\\":\\\"\\\",\\\"zerolinecolor\\\":\\\"white\\\",\\\"automargin\\\":true,\\\"linecolor\\\":\\\"white\\\"},\\\"shapedefaults\\\":{\\\"line\\\":{\\\"color\\\":\\\"#2a3f5f\\\"}},\\\"hoverlabel\\\":{\\\"align\\\":\\\"left\\\"},\\\"mapbox\\\":{\\\"style\\\":\\\"light\\\"},\\\"polar\\\":{\\\"angularaxis\\\":{\\\"gridcolor\\\":\\\"white\\\",\\\"ticks\\\":\\\"\\\",\\\"linecolor\\\":\\\"white\\\"},\\\"bgcolor\\\":\\\"#E5ECF6\\\",\\\"radialaxis\\\":{\\\"gridcolor\\\":\\\"white\\\",\\\"ticks\\\":\\\"\\\",\\\"linecolor\\\":\\\"white\\\"}},\\\"autotypenumbers\\\":\\\"strict\\\",\\\"font\\\":{\\\"color\\\":\\\"#2a3f5f\\\"},\\\"ternary\\\":{\\\"baxis\\\":{\\\"gridcolor\\\":\\\"white\\\",\\\"ticks\\\":\\\"\\\",\\\"linecolor\\\":\\\"white\\\"},\\\"bgcolor\\\":\\\"#E5ECF6\\\",\\\"caxis\\\":{\\\"gridcolor\\\":\\\"white\\\",\\\"ticks\\\":\\\"\\\",\\\"linecolor\\\":\\\"white\\\"},\\\"aaxis\\\":{\\\"gridcolor\\\":\\\"white\\\",\\\"ticks\\\":\\\"\\\",\\\"linecolor\\\":\\\"white\\\"}},\\\"annotationdefaults\\\":{\\\"arrowhead\\\":0,\\\"arrowwidth\\\":1,\\\"arrowcolor\\\":\\\"#2a3f5f\\\"},\\\"plot_bgcolor\\\":\\\"#E5ECF6\\\",\\\"title\\\":{\\\"x\\\":0.05},\\\"scene\\\":{\\\"xaxis\\\":{\\\"gridcolor\\\":\\\"white\\\",\\\"gridwidth\\\":2,\\\"backgroundcolor\\\":\\\"#E5ECF6\\\",\\\"ticks\\\":\\\"\\\",\\\"showbackground\\\":true,\\\"zerolinecolor\\\":\\\"white\\\",\\\"linecolor\\\":\\\"white\\\"},\\\"zaxis\\\":{\\\"gridcolor\\\":\\\"white\\\",\\\"gridwidth\\\":2,\\\"backgroundcolor\\\":\\\"#E5ECF6\\\",\\\"ticks\\\":\\\"\\\",\\\"showbackground\\\":true,\\\"zerolinecolor\\\":\\\"white\\\",\\\"linecolor\\\":\\\"white\\\"},\\\"yaxis\\\":{\\\"gridcolor\\\":\\\"white\\\",\\\"gridwidth\\\":2,\\\"backgroundcolor\\\":\\\"#E5ECF6\\\",\\\"ticks\\\":\\\"\\\",\\\"showbackground\\\":true,\\\"zerolinecolor\\\":\\\"white\\\",\\\"linecolor\\\":\\\"white\\\"}},\\\"colorway\\\":[\\\"#636efa\\\",\\\"#EF553B\\\",\\\"#00cc96\\\",\\\"#ab63fa\\\",\\\"#FFA15A\\\",\\\"#19d3f3\\\",\\\"#FF6692\\\",\\\"#B6E880\\\",\\\"#FF97FF\\\",\\\"#FECB52\\\"]},\\\"data\\\":{\\\"barpolar\\\":[{\\\"type\\\":\\\"barpolar\\\",\\\"marker\\\":{\\\"line\\\":{\\\"color\\\":\\\"#E5ECF6\\\",\\\"width\\\":0.5}}}],\\\"carpet\\\":[{\\\"aaxis\\\":{\\\"gridcolor\\\":\\\"white\\\",\\\"endlinecolor\\\":\\\"#2a3f5f\\\",\\\"minorgridcolor\\\":\\\"white\\\",\\\"startlinecolor\\\":\\\"#2a3f5f\\\",\\\"linecolor\\\":\\\"white\\\"},\\\"type\\\":\\\"carpet\\\",\\\"baxis\\\":{\\\"gridcolor\\\":\\\"white\\\",\\\"endlinecolor\\\":\\\"#2a3f5f\\\",\\\"minorgridcolor\\\":\\\"white\\\",\\\"startlinecolor\\\":\\\"#2a3f5f\\\",\\\"linecolor\\\":\\\"white\\\"}}],\\\"scatterpolar\\\":[{\\\"type\\\":\\\"scatterpolar\\\",\\\"marker\\\":{\\\"colorbar\\\":{\\\"ticks\\\":\\\"\\\",\\\"outlinewidth\\\":0}}}],\\\"parcoords\\\":[{\\\"line\\\":{\\\"colorbar\\\":{\\\"ticks\\\":\\\"\\\",\\\"outlinewidth\\\":0}},\\\"type\\\":\\\"parcoords\\\"}],\\\"scatter\\\":[{\\\"type\\\":\\\"scatter\\\",\\\"marker\\\":{\\\"colorbar\\\":{\\\"ticks\\\":\\\"\\\",\\\"outlinewidth\\\":0}}}],\\\"histogram2dcontour\\\":[{\\\"colorbar\\\":{\\\"ticks\\\":\\\"\\\",\\\"outlinewidth\\\":0},\\\"type\\\":\\\"histogram2dcontour\\\",\\\"colorscale\\\":[[0.0,\\\"#0d0887\\\"],[0.1111111111111111,\\\"#46039f\\\"],[0.2222222222222222,\\\"#7201a8\\\"],[0.3333333333333333,\\\"#9c179e\\\"],[0.4444444444444444,\\\"#bd3786\\\"],[0.5555555555555556,\\\"#d8576b\\\"],[0.6666666666666666,\\\"#ed7953\\\"],[0.7777777777777778,\\\"#fb9f3a\\\"],[0.8888888888888888,\\\"#fdca26\\\"],[1.0,\\\"#f0f921\\\"]]}],\\\"contour\\\":[{\\\"colorbar\\\":{\\\"ticks\\\":\\\"\\\",\\\"outlinewidth\\\":0},\\\"type\\\":\\\"contour\\\",\\\"colorscale\\\":[[0.0,\\\"#0d0887\\\"],[0.1111111111111111,\\\"#46039f\\\"],[0.2222222222222222,\\\"#7201a8\\\"],[0.3333333333333333,\\\"#9c179e\\\"],[0.4444444444444444,\\\"#bd3786\\\"],[0.5555555555555556,\\\"#d8576b\\\"],[0.6666666666666666,\\\"#ed7953\\\"],[0.7777777777777778,\\\"#fb9f3a\\\"],[0.8888888888888888,\\\"#fdca26\\\"],[1.0,\\\"#f0f921\\\"]]}],\\\"scattercarpet\\\":[{\\\"type\\\":\\\"scattercarpet\\\",\\\"marker\\\":{\\\"colorbar\\\":{\\\"ticks\\\":\\\"\\\",\\\"outlinewidth\\\":0}}}],\\\"mesh3d\\\":[{\\\"colorbar\\\":{\\\"ticks\\\":\\\"\\\",\\\"outlinewidth\\\":0},\\\"type\\\":\\\"mesh3d\\\"}],\\\"surface\\\":[{\\\"colorbar\\\":{\\\"ticks\\\":\\\"\\\",\\\"outlinewidth\\\":0},\\\"type\\\":\\\"surface\\\",\\\"colorscale\\\":[[0.0,\\\"#0d0887\\\"],[0.1111111111111111,\\\"#46039f\\\"],[0.2222222222222222,\\\"#7201a8\\\"],[0.3333333333333333,\\\"#9c179e\\\"],[0.4444444444444444,\\\"#bd3786\\\"],[0.5555555555555556,\\\"#d8576b\\\"],[0.6666666666666666,\\\"#ed7953\\\"],[0.7777777777777778,\\\"#fb9f3a\\\"],[0.8888888888888888,\\\"#fdca26\\\"],[1.0,\\\"#f0f921\\\"]]}],\\\"scattermapbox\\\":[{\\\"type\\\":\\\"scattermapbox\\\",\\\"marker\\\":{\\\"colorbar\\\":{\\\"ticks\\\":\\\"\\\",\\\"outlinewidth\\\":0}}}],\\\"scattergeo\\\":[{\\\"type\\\":\\\"scattergeo\\\",\\\"marker\\\":{\\\"colorbar\\\":{\\\"ticks\\\":\\\"\\\",\\\"outlinewidth\\\":0}}}],\\\"histogram\\\":[{\\\"type\\\":\\\"histogram\\\",\\\"marker\\\":{\\\"colorbar\\\":{\\\"ticks\\\":\\\"\\\",\\\"outlinewidth\\\":0}}}],\\\"pie\\\":[{\\\"type\\\":\\\"pie\\\",\\\"automargin\\\":true}],\\\"choropleth\\\":[{\\\"colorbar\\\":{\\\"ticks\\\":\\\"\\\",\\\"outlinewidth\\\":0},\\\"type\\\":\\\"choropleth\\\"}],\\\"heatmapgl\\\":[{\\\"colorbar\\\":{\\\"ticks\\\":\\\"\\\",\\\"outlinewidth\\\":0},\\\"type\\\":\\\"heatmapgl\\\",\\\"colorscale\\\":[[0.0,\\\"#0d0887\\\"],[0.1111111111111111,\\\"#46039f\\\"],[0.2222222222222222,\\\"#7201a8\\\"],[0.3333333333333333,\\\"#9c179e\\\"],[0.4444444444444444,\\\"#bd3786\\\"],[0.5555555555555556,\\\"#d8576b\\\"],[0.6666666666666666,\\\"#ed7953\\\"],[0.7777777777777778,\\\"#fb9f3a\\\"],[0.8888888888888888,\\\"#fdca26\\\"],[1.0,\\\"#f0f921\\\"]]}],\\\"bar\\\":[{\\\"type\\\":\\\"bar\\\",\\\"error_y\\\":{\\\"color\\\":\\\"#2a3f5f\\\"},\\\"error_x\\\":{\\\"color\\\":\\\"#2a3f5f\\\"},\\\"marker\\\":{\\\"line\\\":{\\\"color\\\":\\\"#E5ECF6\\\",\\\"width\\\":0.5}}}],\\\"heatmap\\\":[{\\\"colorbar\\\":{\\\"ticks\\\":\\\"\\\",\\\"outlinewidth\\\":0},\\\"type\\\":\\\"heatmap\\\",\\\"colorscale\\\":[[0.0,\\\"#0d0887\\\"],[0.1111111111111111,\\\"#46039f\\\"],[0.2222222222222222,\\\"#7201a8\\\"],[0.3333333333333333,\\\"#9c179e\\\"],[0.4444444444444444,\\\"#bd3786\\\"],[0.5555555555555556,\\\"#d8576b\\\"],[0.6666666666666666,\\\"#ed7953\\\"],[0.7777777777777778,\\\"#fb9f3a\\\"],[0.8888888888888888,\\\"#fdca26\\\"],[1.0,\\\"#f0f921\\\"]]}],\\\"contourcarpet\\\":[{\\\"colorbar\\\":{\\\"ticks\\\":\\\"\\\",\\\"outlinewidth\\\":0},\\\"type\\\":\\\"contourcarpet\\\"}],\\\"table\\\":[{\\\"type\\\":\\\"table\\\",\\\"header\\\":{\\\"line\\\":{\\\"color\\\":\\\"white\\\"},\\\"fill\\\":{\\\"color\\\":\\\"#C8D4E3\\\"}},\\\"cells\\\":{\\\"line\\\":{\\\"color\\\":\\\"white\\\"},\\\"fill\\\":{\\\"color\\\":\\\"#EBF0F8\\\"}}}],\\\"scatter3d\\\":[{\\\"line\\\":{\\\"colorbar\\\":{\\\"ticks\\\":\\\"\\\",\\\"outlinewidth\\\":0}},\\\"type\\\":\\\"scatter3d\\\",\\\"marker\\\":{\\\"colorbar\\\":{\\\"ticks\\\":\\\"\\\",\\\"outlinewidth\\\":0}}}],\\\"scattergl\\\":[{\\\"type\\\":\\\"scattergl\\\",\\\"marker\\\":{\\\"colorbar\\\":{\\\"ticks\\\":\\\"\\\",\\\"outlinewidth\\\":0}}}],\\\"histogram2d\\\":[{\\\"colorbar\\\":{\\\"ticks\\\":\\\"\\\",\\\"outlinewidth\\\":0},\\\"type\\\":\\\"histogram2d\\\",\\\"colorscale\\\":[[0.0,\\\"#0d0887\\\"],[0.1111111111111111,\\\"#46039f\\\"],[0.2222222222222222,\\\"#7201a8\\\"],[0.3333333333333333,\\\"#9c179e\\\"],[0.4444444444444444,\\\"#bd3786\\\"],[0.5555555555555556,\\\"#d8576b\\\"],[0.6666666666666666,\\\"#ed7953\\\"],[0.7777777777777778,\\\"#fb9f3a\\\"],[0.8888888888888888,\\\"#fdca26\\\"],[1.0,\\\"#f0f921\\\"]]}],\\\"scatterternary\\\":[{\\\"type\\\":\\\"scatterternary\\\",\\\"marker\\\":{\\\"colorbar\\\":{\\\"ticks\\\":\\\"\\\",\\\"outlinewidth\\\":0}}}],\\\"scatterpolargl\\\":[{\\\"type\\\":\\\"scatterpolargl\\\",\\\"marker\\\":{\\\"colorbar\\\":{\\\"ticks\\\":\\\"\\\",\\\"outlinewidth\\\":0}}}]}},\\\"barmode\\\":\\\"stack\\\",\\\"margin\\\":{\\\"l\\\":50,\\\"b\\\":50,\\\"r\\\":50,\\\"t\\\":60},\\\"legend\\\":{\\\"tracegroupgap\\\":0,\\\"title\\\":{\\\"text\\\":\\\"region_categorical\\\"}},\\\"yaxis\\\":{\\\"title\\\":{\\\"text\\\":\\\"capacity_mw_sum\\\"}}},{\\\"showLink\\\":false,\\\"editable\\\":false,\\\"responsive\\\":true,\\\"staticPlot\\\":false,\\\"scrollZoom\\\":true}); gd.on(\\\"plotly_hover\\\",(function (data){var filtered_data=WebIO.PlotlyCommands.filterEventData(gd,data,\\\"hover\\\"); return !(filtered_data.isnil) ? (WebIO.setval({\\\"name\\\":\\\"hover\\\",\\\"scope\\\":\\\"172303609591176900\\\",\\\"id\\\":\\\"6398608018717597789\\\",\\\"type\\\":\\\"observable\\\"},filtered_data.out)) : undefined})); gd.on(\\\"plotly_unhover\\\",(function (){return WebIO.setval({\\\"name\\\":\\\"hover\\\",\\\"scope\\\":\\\"172303609591176900\\\",\\\"id\\\":\\\"6398608018717597789\\\",\\\"type\\\":\\\"observable\\\"},{})})); gd.on(\\\"plotly_selected\\\",(function (data){var filtered_data=WebIO.PlotlyCommands.filterEventData(gd,data,\\\"selected\\\"); return !(filtered_data.isnil) ? (WebIO.setval({\\\"name\\\":\\\"selected\\\",\\\"scope\\\":\\\"172303609591176900\\\",\\\"id\\\":\\\"13032576294884347227\\\",\\\"type\\\":\\\"observable\\\"},filtered_data.out)) : undefined})); gd.on(\\\"plotly_deselect\\\",(function (){return WebIO.setval({\\\"name\\\":\\\"selected\\\",\\\"scope\\\":\\\"172303609591176900\\\",\\\"id\\\":\\\"13032576294884347227\\\",\\\"type\\\":\\\"observable\\\"},{})})); gd.on(\\\"plotly_relayout\\\",(function (data){var filtered_data=WebIO.PlotlyCommands.filterEventData(gd,data,\\\"relayout\\\"); return !(filtered_data.isnil) ? (WebIO.setval({\\\"name\\\":\\\"relayout\\\",\\\"scope\\\":\\\"172303609591176900\\\",\\\"id\\\":\\\"17818174459854832440\\\",\\\"type\\\":\\\"observable\\\"},filtered_data.out)) : undefined})); return gd.on(\\\"plotly_click\\\",(function (data){var filtered_data=WebIO.PlotlyCommands.filterEventData(gd,data,\\\"click\\\"); return !(filtered_data.isnil) ? (WebIO.setval({\\\"name\\\":\\\"click\\\",\\\"scope\\\":\\\"172303609591176900\\\",\\\"id\\\":\\\"12232877253277505530\\\",\\\"type\\\":\\\"observable\\\"},filtered_data.out)) : undefined}))}));\\n    (WebIO.importBlock({\\\"data\\\":[{\\\"name\\\":\\\"Plotly\\\",\\\"type\\\":\\\"js\\\",\\\"url\\\":\\\"\\/assetserver\\/dd3401e457c2bd3775ace7dcd18dbdb220b78a6c-plotly.min.js\\\"},{\\\"name\\\":null,\\\"type\\\":\\\"js\\\",\\\"url\\\":\\\"\\/assetserver\\/7523cc4f6daddb9f8f78ddc193c0f52bb3a899cc-plotly_webio.bundle.js\\\"}],\\\"type\\\":\\\"async_block\\\"})).then((imports) => handler.apply(this, imports));\\n}\\n\"],\"observables\":{\"_toImage\":{\"sync\":false,\"id\":\"6783622410014853106\",\"value\":{}},\"hover\":{\"sync\":false,\"id\":\"6398608018717597789\",\"value\":{}},\"selected\":{\"sync\":false,\"id\":\"13032576294884347227\",\"value\":{}},\"__gd_contents\":{\"sync\":false,\"id\":\"3712533189920760759\",\"value\":{}},\"click\":{\"sync\":false,\"id\":\"12232877253277505530\",\"value\":{}},\"image\":{\"sync\":true,\"id\":\"3221682585980858867\",\"value\":\"\"},\"__get_gd_contents\":{\"sync\":false,\"id\":\"10238913480165414805\",\"value\":\"\"},\"_downloadImage\":{\"sync\":false,\"id\":\"12378637368798445477\",\"value\":{}},\"relayout\":{\"sync\":false,\"id\":\"17818174459854832440\",\"value\":{}},\"_commands\":{\"sync\":false,\"id\":\"2950167537371460448\",\"value\":[]}}},\"children\":[{\"props\":{\"id\":\"plot-be5a2c41-ae61-4e9c-85e2-2e42db99bcef\"},\"nodeType\":\"DOM\",\"type\":\"node\",\"instanceArgs\":{\"namespace\":\"html\",\"tag\":\"div\"},\"children\":[]}]},\n",
       "        window,\n",
       "    );\n",
       "    })()\n",
       "    </script>\n",
       "</div>\n"
      ],
      "text/plain": [
       "data: [\n",
       "  \"bar with fields legendgroup, marker, name, showlegend, type, x, xaxis, y, and yaxis\",\n",
       "  \"bar with fields legendgroup, marker, name, showlegend, type, x, xaxis, y, and yaxis\",\n",
       "  \"bar with fields legendgroup, marker, name, showlegend, type, x, xaxis, y, and yaxis\",\n",
       "  \"bar with fields legendgroup, marker, name, showlegend, type, x, xaxis, y, and yaxis\",\n",
       "  \"bar with fields legendgroup, marker, name, showlegend, type, x, xaxis, y, and yaxis\",\n",
       "  \"bar with fields legendgroup, marker, name, showlegend, type, x, xaxis, y, and yaxis\",\n",
       "  \"bar with fields legendgroup, marker, name, showlegend, type, x, xaxis, y, and yaxis\",\n",
       "  \"bar with fields legendgroup, marker, name, showlegend, type, x, xaxis, y, and yaxis\",\n",
       "  \"bar with fields legendgroup, marker, name, showlegend, type, x, xaxis, y, and yaxis\",\n",
       "  \"bar with fields legendgroup, marker, name, showlegend, type, x, xaxis, y, and yaxis\"\n",
       "]\n",
       "\n",
       "layout: \"layout with fields barmode, legend, margin, template, xaxis, and yaxis\"\n",
       "\n"
      ]
     },
     "metadata": {},
     "output_type": "display_data"
    },
    {
     "name": "stderr",
     "output_type": "stream",
     "text": [
      "┌ Warning: Kaleido is not available on this system. Julia will be unable to save images of any plots.\n",
      "└ @ PlotlyJS /Users/katiepress/.julia/packages/PlotlyJS/4jzLr/src/kaleido.jl:65\n",
      "┌ Warning: UndefVarError(:artifact_dir)\n",
      "└ @ PlotlyJS /Users/katiepress/.julia/packages/PlotlyJS/4jzLr/src/kaleido.jl:66\n",
      "┌ Warning: Kaleido is not available on this system. Julia will be unable to save images of any plots.\n",
      "└ @ PlotlyJS /Users/katiepress/.julia/packages/PlotlyJS/4jzLr/src/kaleido.jl:65\n",
      "┌ Warning: UndefVarError(:artifact_dir)\n",
      "└ @ PlotlyJS /Users/katiepress/.julia/packages/PlotlyJS/4jzLr/src/kaleido.jl:66\n"
     ]
    }
   ],
   "source": [
    "plot(\n",
    "    ppa_capacity,\n",
    "    kind=\"bar\",\n",
    "    x=:ppa_year,\n",
    "    y=:capacity_mw_sum,\n",
    "    color=:region_categorical,\n",
    "    Layout(barmode=\"stack\")\n",
    ")"
   ]
  },
  {
   "cell_type": "markdown",
   "metadata": {},
   "source": [
    "See if I can get the annotations for the top of the bars in a similar way that I did in R. First, sort the data by year and descending region."
   ]
  },
  {
   "cell_type": "code",
   "execution_count": 88,
   "metadata": {},
   "outputs": [],
   "source": [
    "ppa_capacity_year = sort(ppa_capacity, [:ppa_year, order(:region_categorical, rev=true)]);"
   ]
  },
  {
   "cell_type": "markdown",
   "metadata": {},
   "source": [
    "Now aggregate, thankfully Julia has a first() function just like R. "
   ]
  },
  {
   "cell_type": "code",
   "execution_count": 89,
   "metadata": {},
   "outputs": [],
   "source": [
    "ppa_capacity_year = combine(groupby(ppa_capacity_year, :ppa_year),\n",
    " :capacity_mw_sum => sum => :capacity_sum,\n",
    " :region_categorical => first => :region_categorical);"
   ]
  },
  {
   "cell_type": "markdown",
   "metadata": {},
   "source": [
    "Convert the capacity_sum to integer so it will look nicer. "
   ]
  },
  {
   "cell_type": "code",
   "execution_count": 90,
   "metadata": {},
   "outputs": [],
   "source": [
    "transform!(ppa_capacity_year, :capacity_sum => ByRow(x -> round(Int32, x)) => :capacity_sum);"
   ]
  },
  {
   "cell_type": "markdown",
   "metadata": {},
   "source": [
    "Now try joining the data. "
   ]
  },
  {
   "cell_type": "code",
   "execution_count": 91,
   "metadata": {},
   "outputs": [],
   "source": [
    "ppa_capacity_all = leftjoin(ppa_capacity, ppa_capacity_year, on = [:ppa_year, :region_categorical]);"
   ]
  },
  {
   "cell_type": "markdown",
   "metadata": {},
   "source": [
    "It worked! The only thing is the colors are not in the same order as the Tableau dashboard, but at this point I think I'm done plotting for the day. "
   ]
  },
  {
   "cell_type": "code",
   "execution_count": 92,
   "metadata": {},
   "outputs": [
    {
     "data": {
      "application/vnd.plotly.v1+json": {
       "config": {
        "editable": false,
        "responsive": true,
        "scrollZoom": true,
        "showLink": false,
        "staticPlot": false
       },
       "data": [
        {
         "color": [
          "CAISO",
          "CAISO",
          "CAISO",
          "CAISO",
          "CAISO",
          "CAISO",
          "CAISO",
          "CAISO",
          "CAISO",
          "CAISO",
          "CAISO",
          "CAISO",
          "CAISO",
          "CAISO"
         ],
         "marker": {
          "color": "#4E79A7"
         },
         "mode": "markers",
         "name": "CAISO",
         "text": [
          5,
          770,
          null,
          null,
          null,
          null,
          null,
          null,
          null,
          null,
          null,
          null,
          null,
          null
         ],
         "textposition": "outside",
         "type": "bar",
         "x": [
          2007,
          2008,
          2009,
          2010,
          2011,
          2012,
          2013,
          2014,
          2015,
          2016,
          2017,
          2018,
          2019,
          2021
         ],
         "y": [
          5,
          770,
          844,
          1457.3,
          1259,
          512.8,
          489.314,
          672.36,
          935.387,
          226,
          686.8199999999999,
          206.688,
          444,
          140
         ]
        },
        {
         "color": [
          "ERCOT",
          "ERCOT",
          "ERCOT",
          "ERCOT",
          "ERCOT",
          "ERCOT"
         ],
         "marker": {
          "color": "#F28E2B"
         },
         "mode": "markers",
         "name": "ERCOT",
         "text": [
          null,
          null,
          null,
          null,
          null,
          null
         ],
         "textposition": "outside",
         "type": "bar",
         "x": [
          2009,
          2014,
          2015,
          2016,
          2017,
          2018
         ],
         "y": [
          44,
          157.5,
          318.5,
          150,
          170,
          144
         ]
        },
        {
         "color": [
          "Hawaii",
          "Hawaii",
          "Hawaii",
          "Hawaii"
         ],
         "marker": {
          "color": "#E15759"
         },
         "mode": "markers",
         "name": "Hawaii",
         "text": [
          null,
          null,
          null,
          null
         ],
         "textposition": "outside",
         "type": "bar",
         "x": [
          2011,
          2013,
          2015,
          2017
         ],
         "y": [
          6,
          12,
          27.6,
          109.6
         ]
        },
        {
         "color": [
          "ISO-NE",
          "ISO-NE",
          "ISO-NE",
          "ISO-NE"
         ],
         "marker": {
          "color": "#76B7B2"
         },
         "mode": "markers",
         "name": "ISO-NE",
         "text": [
          null,
          null,
          null,
          null
         ],
         "textposition": "outside",
         "type": "bar",
         "x": [
          2013,
          2017,
          2019,
          2020
         ],
         "y": [
          20,
          206.11,
          50,
          50
         ]
        },
        {
         "color": [
          "MISO",
          "MISO",
          "MISO",
          "MISO",
          "MISO",
          "MISO"
         ],
         "marker": {
          "color": "#59A14F"
         },
         "mode": "markers",
         "name": "MISO",
         "text": [
          null,
          null,
          null,
          null,
          null,
          null
         ],
         "textposition": "outside",
         "type": "bar",
         "x": [
          2013,
          2014,
          2015,
          2017,
          2018,
          2019
         ],
         "y": [
          28.8,
          100,
          215.25,
          100,
          60.5,
          109.3076923076923
         ]
        },
        {
         "color": [
          "NYISO",
          "NYISO",
          "NYISO",
          "NYISO"
         ],
         "marker": {
          "color": "#BAB0AC"
         },
         "mode": "markers",
         "name": "NYISO",
         "text": [
          null,
          null,
          null,
          null
         ],
         "textposition": "outside",
         "type": "bar",
         "x": [
          2010,
          2016,
          2018,
          2021
         ],
         "y": [
          32,
          24.9,
          6.3,
          590
         ]
        },
        {
         "color": [
          "PJM",
          "PJM",
          "PJM",
          "PJM",
          "PJM",
          "PJM",
          "PJM",
          "PJM"
         ],
         "marker": {
          "color": "#9C755F"
         },
         "mode": "markers",
         "name": "PJM",
         "text": [
          null,
          null,
          null,
          null,
          null,
          null,
          null,
          null
         ],
         "textposition": "outside",
         "type": "bar",
         "x": [
          2009,
          2011,
          2014,
          2015,
          2016,
          2017,
          2018,
          2019
         ],
         "y": [
          10.08,
          20,
          10.3,
          80,
          180,
          16.8,
          156,
          265.5
         ]
        },
        {
         "color": [
          "SPP",
          "SPP",
          "SPP",
          "SPP"
         ],
         "marker": {
          "color": "#B07AA1"
         },
         "mode": "markers",
         "name": "SPP",
         "text": [
          null,
          null,
          null,
          null
         ],
         "textposition": "outside",
         "type": "bar",
         "x": [
          2009,
          2015,
          2018,
          2019
         ],
         "y": [
          50,
          168.6,
          5.681481481481481,
          4.6
         ]
        },
        {
         "color": [
          "Southeast (non-ISO)",
          "Southeast (non-ISO)",
          "Southeast (non-ISO)",
          "Southeast (non-ISO)",
          "Southeast (non-ISO)",
          "Southeast (non-ISO)",
          "Southeast (non-ISO)",
          "Southeast (non-ISO)",
          "Southeast (non-ISO)",
          "Southeast (non-ISO)",
          "Southeast (non-ISO)"
         ],
         "marker": {
          "color": "#FF9DA7"
         },
         "mode": "markers",
         "name": "Southeast (non-ISO)",
         "text": [
          null,
          null,
          null,
          null,
          null,
          null,
          null,
          null,
          null,
          null,
          null
         ],
         "textposition": "outside",
         "type": "bar",
         "x": [
          2009,
          2010,
          2011,
          2013,
          2014,
          2015,
          2016,
          2017,
          2018,
          2019,
          2020
         ],
         "y": [
          12.6,
          13.15,
          30,
          20,
          551.8,
          503.56,
          28.56,
          504.7,
          741,
          125,
          7.5
         ]
        },
        {
         "color": [
          "West (non-ISO)",
          "West (non-ISO)",
          "West (non-ISO)",
          "West (non-ISO)",
          "West (non-ISO)",
          "West (non-ISO)",
          "West (non-ISO)",
          "West (non-ISO)",
          "West (non-ISO)",
          "West (non-ISO)",
          "West (non-ISO)",
          "West (non-ISO)",
          "West (non-ISO)",
          "West (non-ISO)"
         ],
         "marker": {
          "color": "#EDC948"
         },
         "mode": "markers",
         "name": "West (non-ISO)",
         "text": [
          7,
          1030,
          1753,
          1810,
          1113,
          708,
          2056,
          3114,
          917,
          2100,
          2919,
          1966,
          835,
          1700
         ],
         "textposition": "outside",
         "type": "bar",
         "x": [
          2006,
          2009,
          2010,
          2011,
          2012,
          2013,
          2014,
          2015,
          2016,
          2017,
          2018,
          2019,
          2020,
          2021
         ],
         "y": [
          7,
          69,
          251,
          495,
          600,
          138,
          564.4159999999999,
          865.48,
          307.8,
          306,
          1599,
          968,
          777.86,
          970
         ]
        }
       ],
       "frames": [],
       "layout": {
        "barmode": "stack",
        "legend": {
         "orientation": "h",
         "title": {
          "text": "Region"
         },
         "x": 0.9,
         "xanchor": "right",
         "y": 1.02,
         "yanchor": "bottom"
        },
        "margin": {
         "b": 50,
         "l": 50,
         "r": 50,
         "t": 60
        },
        "template": {
         "data": {
          "bar": [
           {
            "error_x": {
             "color": "#2a3f5f"
            },
            "error_y": {
             "color": "#2a3f5f"
            },
            "marker": {
             "line": {
              "color": "#E5ECF6",
              "width": 0.5
             }
            },
            "type": "bar"
           }
          ],
          "barpolar": [
           {
            "marker": {
             "line": {
              "color": "#E5ECF6",
              "width": 0.5
             }
            },
            "type": "barpolar"
           }
          ],
          "carpet": [
           {
            "aaxis": {
             "endlinecolor": "#2a3f5f",
             "gridcolor": "white",
             "linecolor": "white",
             "minorgridcolor": "white",
             "startlinecolor": "#2a3f5f"
            },
            "baxis": {
             "endlinecolor": "#2a3f5f",
             "gridcolor": "white",
             "linecolor": "white",
             "minorgridcolor": "white",
             "startlinecolor": "#2a3f5f"
            },
            "type": "carpet"
           }
          ],
          "choropleth": [
           {
            "colorbar": {
             "outlinewidth": 0,
             "ticks": ""
            },
            "type": "choropleth"
           }
          ],
          "contour": [
           {
            "colorbar": {
             "outlinewidth": 0,
             "ticks": ""
            },
            "colorscale": [
             [
              0,
              "#0d0887"
             ],
             [
              0.1111111111111111,
              "#46039f"
             ],
             [
              0.2222222222222222,
              "#7201a8"
             ],
             [
              0.3333333333333333,
              "#9c179e"
             ],
             [
              0.4444444444444444,
              "#bd3786"
             ],
             [
              0.5555555555555556,
              "#d8576b"
             ],
             [
              0.6666666666666666,
              "#ed7953"
             ],
             [
              0.7777777777777778,
              "#fb9f3a"
             ],
             [
              0.8888888888888888,
              "#fdca26"
             ],
             [
              1,
              "#f0f921"
             ]
            ],
            "type": "contour"
           }
          ],
          "contourcarpet": [
           {
            "colorbar": {
             "outlinewidth": 0,
             "ticks": ""
            },
            "type": "contourcarpet"
           }
          ],
          "heatmap": [
           {
            "colorbar": {
             "outlinewidth": 0,
             "ticks": ""
            },
            "colorscale": [
             [
              0,
              "#0d0887"
             ],
             [
              0.1111111111111111,
              "#46039f"
             ],
             [
              0.2222222222222222,
              "#7201a8"
             ],
             [
              0.3333333333333333,
              "#9c179e"
             ],
             [
              0.4444444444444444,
              "#bd3786"
             ],
             [
              0.5555555555555556,
              "#d8576b"
             ],
             [
              0.6666666666666666,
              "#ed7953"
             ],
             [
              0.7777777777777778,
              "#fb9f3a"
             ],
             [
              0.8888888888888888,
              "#fdca26"
             ],
             [
              1,
              "#f0f921"
             ]
            ],
            "type": "heatmap"
           }
          ],
          "heatmapgl": [
           {
            "colorbar": {
             "outlinewidth": 0,
             "ticks": ""
            },
            "colorscale": [
             [
              0,
              "#0d0887"
             ],
             [
              0.1111111111111111,
              "#46039f"
             ],
             [
              0.2222222222222222,
              "#7201a8"
             ],
             [
              0.3333333333333333,
              "#9c179e"
             ],
             [
              0.4444444444444444,
              "#bd3786"
             ],
             [
              0.5555555555555556,
              "#d8576b"
             ],
             [
              0.6666666666666666,
              "#ed7953"
             ],
             [
              0.7777777777777778,
              "#fb9f3a"
             ],
             [
              0.8888888888888888,
              "#fdca26"
             ],
             [
              1,
              "#f0f921"
             ]
            ],
            "type": "heatmapgl"
           }
          ],
          "histogram": [
           {
            "marker": {
             "colorbar": {
              "outlinewidth": 0,
              "ticks": ""
             }
            },
            "type": "histogram"
           }
          ],
          "histogram2d": [
           {
            "colorbar": {
             "outlinewidth": 0,
             "ticks": ""
            },
            "colorscale": [
             [
              0,
              "#0d0887"
             ],
             [
              0.1111111111111111,
              "#46039f"
             ],
             [
              0.2222222222222222,
              "#7201a8"
             ],
             [
              0.3333333333333333,
              "#9c179e"
             ],
             [
              0.4444444444444444,
              "#bd3786"
             ],
             [
              0.5555555555555556,
              "#d8576b"
             ],
             [
              0.6666666666666666,
              "#ed7953"
             ],
             [
              0.7777777777777778,
              "#fb9f3a"
             ],
             [
              0.8888888888888888,
              "#fdca26"
             ],
             [
              1,
              "#f0f921"
             ]
            ],
            "type": "histogram2d"
           }
          ],
          "histogram2dcontour": [
           {
            "colorbar": {
             "outlinewidth": 0,
             "ticks": ""
            },
            "colorscale": [
             [
              0,
              "#0d0887"
             ],
             [
              0.1111111111111111,
              "#46039f"
             ],
             [
              0.2222222222222222,
              "#7201a8"
             ],
             [
              0.3333333333333333,
              "#9c179e"
             ],
             [
              0.4444444444444444,
              "#bd3786"
             ],
             [
              0.5555555555555556,
              "#d8576b"
             ],
             [
              0.6666666666666666,
              "#ed7953"
             ],
             [
              0.7777777777777778,
              "#fb9f3a"
             ],
             [
              0.8888888888888888,
              "#fdca26"
             ],
             [
              1,
              "#f0f921"
             ]
            ],
            "type": "histogram2dcontour"
           }
          ],
          "mesh3d": [
           {
            "colorbar": {
             "outlinewidth": 0,
             "ticks": ""
            },
            "type": "mesh3d"
           }
          ],
          "parcoords": [
           {
            "line": {
             "colorbar": {
              "outlinewidth": 0,
              "ticks": ""
             }
            },
            "type": "parcoords"
           }
          ],
          "pie": [
           {
            "automargin": true,
            "type": "pie"
           }
          ],
          "scatter": [
           {
            "marker": {
             "colorbar": {
              "outlinewidth": 0,
              "ticks": ""
             }
            },
            "type": "scatter"
           }
          ],
          "scatter3d": [
           {
            "line": {
             "colorbar": {
              "outlinewidth": 0,
              "ticks": ""
             }
            },
            "marker": {
             "colorbar": {
              "outlinewidth": 0,
              "ticks": ""
             }
            },
            "type": "scatter3d"
           }
          ],
          "scattercarpet": [
           {
            "marker": {
             "colorbar": {
              "outlinewidth": 0,
              "ticks": ""
             }
            },
            "type": "scattercarpet"
           }
          ],
          "scattergeo": [
           {
            "marker": {
             "colorbar": {
              "outlinewidth": 0,
              "ticks": ""
             }
            },
            "type": "scattergeo"
           }
          ],
          "scattergl": [
           {
            "marker": {
             "colorbar": {
              "outlinewidth": 0,
              "ticks": ""
             }
            },
            "type": "scattergl"
           }
          ],
          "scattermapbox": [
           {
            "marker": {
             "colorbar": {
              "outlinewidth": 0,
              "ticks": ""
             }
            },
            "type": "scattermapbox"
           }
          ],
          "scatterpolar": [
           {
            "marker": {
             "colorbar": {
              "outlinewidth": 0,
              "ticks": ""
             }
            },
            "type": "scatterpolar"
           }
          ],
          "scatterpolargl": [
           {
            "marker": {
             "colorbar": {
              "outlinewidth": 0,
              "ticks": ""
             }
            },
            "type": "scatterpolargl"
           }
          ],
          "scatterternary": [
           {
            "marker": {
             "colorbar": {
              "outlinewidth": 0,
              "ticks": ""
             }
            },
            "type": "scatterternary"
           }
          ],
          "surface": [
           {
            "colorbar": {
             "outlinewidth": 0,
             "ticks": ""
            },
            "colorscale": [
             [
              0,
              "#0d0887"
             ],
             [
              0.1111111111111111,
              "#46039f"
             ],
             [
              0.2222222222222222,
              "#7201a8"
             ],
             [
              0.3333333333333333,
              "#9c179e"
             ],
             [
              0.4444444444444444,
              "#bd3786"
             ],
             [
              0.5555555555555556,
              "#d8576b"
             ],
             [
              0.6666666666666666,
              "#ed7953"
             ],
             [
              0.7777777777777778,
              "#fb9f3a"
             ],
             [
              0.8888888888888888,
              "#fdca26"
             ],
             [
              1,
              "#f0f921"
             ]
            ],
            "type": "surface"
           }
          ],
          "table": [
           {
            "cells": {
             "fill": {
              "color": "#EBF0F8"
             },
             "line": {
              "color": "white"
             }
            },
            "header": {
             "fill": {
              "color": "#C8D4E3"
             },
             "line": {
              "color": "white"
             }
            },
            "type": "table"
           }
          ]
         },
         "layout": {
          "annotationdefaults": {
           "arrowcolor": "#2a3f5f",
           "arrowhead": 0,
           "arrowwidth": 1
          },
          "autotypenumbers": "strict",
          "coloraxis": {
           "colorbar": {
            "outlinewidth": 0,
            "ticks": ""
           }
          },
          "colorscale": {
           "diverging": [
            [
             0,
             "#8e0152"
            ],
            [
             0.1,
             "#c51b7d"
            ],
            [
             0.2,
             "#de77ae"
            ],
            [
             0.3,
             "#f1b6da"
            ],
            [
             0.4,
             "#fde0ef"
            ],
            [
             0.5,
             "#f7f7f7"
            ],
            [
             0.6,
             "#e6f5d0"
            ],
            [
             0.7,
             "#b8e186"
            ],
            [
             0.8,
             "#7fbc41"
            ],
            [
             0.9,
             "#4d9221"
            ],
            [
             1,
             "#276419"
            ]
           ],
           "sequential": [
            [
             0,
             "#0d0887"
            ],
            [
             0.1111111111111111,
             "#46039f"
            ],
            [
             0.2222222222222222,
             "#7201a8"
            ],
            [
             0.3333333333333333,
             "#9c179e"
            ],
            [
             0.4444444444444444,
             "#bd3786"
            ],
            [
             0.5555555555555556,
             "#d8576b"
            ],
            [
             0.6666666666666666,
             "#ed7953"
            ],
            [
             0.7777777777777778,
             "#fb9f3a"
            ],
            [
             0.8888888888888888,
             "#fdca26"
            ],
            [
             1,
             "#f0f921"
            ]
           ],
           "sequentialminus": [
            [
             0,
             "#0d0887"
            ],
            [
             0.1111111111111111,
             "#46039f"
            ],
            [
             0.2222222222222222,
             "#7201a8"
            ],
            [
             0.3333333333333333,
             "#9c179e"
            ],
            [
             0.4444444444444444,
             "#bd3786"
            ],
            [
             0.5555555555555556,
             "#d8576b"
            ],
            [
             0.6666666666666666,
             "#ed7953"
            ],
            [
             0.7777777777777778,
             "#fb9f3a"
            ],
            [
             0.8888888888888888,
             "#fdca26"
            ],
            [
             1,
             "#f0f921"
            ]
           ]
          },
          "colorway": [
           "#636efa",
           "#EF553B",
           "#00cc96",
           "#ab63fa",
           "#FFA15A",
           "#19d3f3",
           "#FF6692",
           "#B6E880",
           "#FF97FF",
           "#FECB52"
          ],
          "font": {
           "color": "#2a3f5f"
          },
          "geo": {
           "bgcolor": "white",
           "lakecolor": "white",
           "landcolor": "#E5ECF6",
           "showlakes": true,
           "showland": true,
           "subunitcolor": "white"
          },
          "hoverlabel": {
           "align": "left"
          },
          "hovermode": "closest",
          "mapbox": {
           "style": "light"
          },
          "paper_bgcolor": "white",
          "plot_bgcolor": "#E5ECF6",
          "polar": {
           "angularaxis": {
            "gridcolor": "white",
            "linecolor": "white",
            "ticks": ""
           },
           "bgcolor": "#E5ECF6",
           "radialaxis": {
            "gridcolor": "white",
            "linecolor": "white",
            "ticks": ""
           }
          },
          "scene": {
           "xaxis": {
            "backgroundcolor": "#E5ECF6",
            "gridcolor": "white",
            "gridwidth": 2,
            "linecolor": "white",
            "showbackground": true,
            "ticks": "",
            "zerolinecolor": "white"
           },
           "yaxis": {
            "backgroundcolor": "#E5ECF6",
            "gridcolor": "white",
            "gridwidth": 2,
            "linecolor": "white",
            "showbackground": true,
            "ticks": "",
            "zerolinecolor": "white"
           },
           "zaxis": {
            "backgroundcolor": "#E5ECF6",
            "gridcolor": "white",
            "gridwidth": 2,
            "linecolor": "white",
            "showbackground": true,
            "ticks": "",
            "zerolinecolor": "white"
           }
          },
          "shapedefaults": {
           "line": {
            "color": "#2a3f5f"
           }
          },
          "ternary": {
           "aaxis": {
            "gridcolor": "white",
            "linecolor": "white",
            "ticks": ""
           },
           "baxis": {
            "gridcolor": "white",
            "linecolor": "white",
            "ticks": ""
           },
           "bgcolor": "#E5ECF6",
           "caxis": {
            "gridcolor": "white",
            "linecolor": "white",
            "ticks": ""
           }
          },
          "title": {
           "x": 0.05
          },
          "xaxis": {
           "automargin": true,
           "gridcolor": "white",
           "linecolor": "white",
           "ticks": "",
           "title": {
            "standoff": 15
           },
           "zerolinecolor": "white",
           "zerolinewidth": 2
          },
          "yaxis": {
           "automargin": true,
           "gridcolor": "white",
           "linecolor": "white",
           "ticks": "",
           "title": {
            "standoff": 15
           },
           "zerolinecolor": "white",
           "zerolinewidth": 2
          }
         }
        },
        "xaxis": {
         "tickvals": [
          2006,
          2007,
          2008,
          2009,
          2010,
          2011,
          2012,
          2013,
          2014,
          2015,
          2016,
          2017,
          2018,
          2019,
          2020,
          2021,
          2022
         ]
        },
        "yaxis": {
         "title": {
          "text": "Capacity (MW-AC)"
         }
        }
       }
      },
      "text/html": [
       "<div\n",
       "    class=\"webio-mountpoint\"\n",
       "    data-webio-mountpoint=\"10245493674538650934\"\n",
       ">\n",
       "    <script>\n",
       "    (function(){\n",
       "    // Some integrations (namely, IJulia/Jupyter) use an alternate render pathway than\n",
       "    // just putting the html on the page. If WebIO isn't defined, then it's pretty likely\n",
       "    // that we're in one of those situations and the integration just isn't installed\n",
       "    // correctly.\n",
       "    if (typeof window.WebIO === \"undefined\") {\n",
       "        document\n",
       "            .querySelector('[data-webio-mountpoint=\"10245493674538650934\"]')\n",
       "            .innerHTML = (\n",
       "                '<div style=\"padding: 1em; background-color: #f8d6da; border: 1px solid #f5c6cb; font-weight: bold;\">' +\n",
       "                '<p><strong>WebIO not detected.</strong></p>' +\n",
       "                '<p>Please read ' +\n",
       "                '<a href=\"https://juliagizmos.github.io/WebIO.jl/latest/troubleshooting/not-detected/\" target=\"_blank\">the troubleshooting guide</a> ' +\n",
       "                'for more information on how to resolve this issue.</p>' +\n",
       "                '<p><a href=\"https://juliagizmos.github.io/WebIO.jl/latest/troubleshooting/not-detected/\" target=\"_blank\">https://juliagizmos.github.io/WebIO.jl/latest/troubleshooting/not-detected/</a></p>' +\n",
       "                '</div>'\n",
       "            );\n",
       "        return;\n",
       "    }\n",
       "    WebIO.mount(\n",
       "        document.querySelector('[data-webio-mountpoint=\"10245493674538650934\"]'),\n",
       "        {\"props\":{},\"nodeType\":\"Scope\",\"type\":\"node\",\"instanceArgs\":{\"imports\":{\"data\":[{\"name\":\"Plotly\",\"type\":\"js\",\"url\":\"\\/assetserver\\/dd3401e457c2bd3775ace7dcd18dbdb220b78a6c-plotly.min.js\"},{\"name\":null,\"type\":\"js\",\"url\":\"\\/assetserver\\/7523cc4f6daddb9f8f78ddc193c0f52bb3a899cc-plotly_webio.bundle.js\"}],\"type\":\"async_block\"},\"id\":\"11103149830738470295\",\"handlers\":{\"_toImage\":[\"(function (options){return this.Plotly.toImage(this.plotElem,options).then((function (data){return WebIO.setval({\\\"name\\\":\\\"image\\\",\\\"scope\\\":\\\"11103149830738470295\\\",\\\"id\\\":\\\"9468820337364279745\\\",\\\"type\\\":\\\"observable\\\"},data)}))})\"],\"__get_gd_contents\":[\"(function (prop){prop==\\\"data\\\" ? (WebIO.setval({\\\"name\\\":\\\"__gd_contents\\\",\\\"scope\\\":\\\"11103149830738470295\\\",\\\"id\\\":\\\"10869898554700915459\\\",\\\"type\\\":\\\"observable\\\"},this.plotElem.data)) : undefined; return prop==\\\"layout\\\" ? (WebIO.setval({\\\"name\\\":\\\"__gd_contents\\\",\\\"scope\\\":\\\"11103149830738470295\\\",\\\"id\\\":\\\"10869898554700915459\\\",\\\"type\\\":\\\"observable\\\"},this.plotElem.layout)) : undefined})\"],\"_downloadImage\":[\"(function (options){return this.Plotly.downloadImage(this.plotElem,options)})\"],\"_commands\":[\"(function (args){var fn=args.shift(); var elem=this.plotElem; var Plotly=this.Plotly; args.unshift(elem); return Plotly[fn].apply(this,args)})\"]},\"systemjs_options\":null,\"mount_callbacks\":[\"function () {\\n    var handler = ((function (Plotly,PlotlyWebIO){PlotlyWebIO.init(WebIO); var gd=this.dom.querySelector(\\\"#plot-5ffeea97-763b-4658-80df-1877326db004\\\"); this.plotElem=gd; this.Plotly=Plotly; (window.Blink!==undefined) ? (gd.style.width=\\\"100%\\\", gd.style.height=\\\"100vh\\\", gd.style.marginLeft=\\\"0%\\\", gd.style.marginTop=\\\"0vh\\\") : undefined; window.onresize=(function (){return Plotly.Plots.resize(gd)}); Plotly.newPlot(gd,[{\\\"color\\\":[\\\"CAISO\\\",\\\"CAISO\\\",\\\"CAISO\\\",\\\"CAISO\\\",\\\"CAISO\\\",\\\"CAISO\\\",\\\"CAISO\\\",\\\"CAISO\\\",\\\"CAISO\\\",\\\"CAISO\\\",\\\"CAISO\\\",\\\"CAISO\\\",\\\"CAISO\\\",\\\"CAISO\\\"],\\\"mode\\\":\\\"markers\\\",\\\"marker\\\":{\\\"color\\\":\\\"#4E79A7\\\"},\\\"textposition\\\":\\\"outside\\\",\\\"y\\\":[5.0,770.0,844.0,1457.3,1259.0,512.8,489.314,672.36,935.387,226.0,686.8199999999999,206.688,444.0,140.0],\\\"type\\\":\\\"bar\\\",\\\"name\\\":\\\"CAISO\\\",\\\"text\\\":[5,770,null,null,null,null,null,null,null,null,null,null,null,null],\\\"x\\\":[2007,2008,2009,2010,2011,2012,2013,2014,2015,2016,2017,2018,2019,2021]},{\\\"color\\\":[\\\"ERCOT\\\",\\\"ERCOT\\\",\\\"ERCOT\\\",\\\"ERCOT\\\",\\\"ERCOT\\\",\\\"ERCOT\\\"],\\\"mode\\\":\\\"markers\\\",\\\"marker\\\":{\\\"color\\\":\\\"#F28E2B\\\"},\\\"textposition\\\":\\\"outside\\\",\\\"y\\\":[44.0,157.5,318.5,150.0,170.0,144.0],\\\"type\\\":\\\"bar\\\",\\\"name\\\":\\\"ERCOT\\\",\\\"text\\\":[null,null,null,null,null,null],\\\"x\\\":[2009,2014,2015,2016,2017,2018]},{\\\"color\\\":[\\\"Hawaii\\\",\\\"Hawaii\\\",\\\"Hawaii\\\",\\\"Hawaii\\\"],\\\"mode\\\":\\\"markers\\\",\\\"marker\\\":{\\\"color\\\":\\\"#E15759\\\"},\\\"textposition\\\":\\\"outside\\\",\\\"y\\\":[6.0,12.0,27.6,109.6],\\\"type\\\":\\\"bar\\\",\\\"name\\\":\\\"Hawaii\\\",\\\"text\\\":[null,null,null,null],\\\"x\\\":[2011,2013,2015,2017]},{\\\"color\\\":[\\\"ISO-NE\\\",\\\"ISO-NE\\\",\\\"ISO-NE\\\",\\\"ISO-NE\\\"],\\\"mode\\\":\\\"markers\\\",\\\"marker\\\":{\\\"color\\\":\\\"#76B7B2\\\"},\\\"textposition\\\":\\\"outside\\\",\\\"y\\\":[20.0,206.11,50.0,50.0],\\\"type\\\":\\\"bar\\\",\\\"name\\\":\\\"ISO-NE\\\",\\\"text\\\":[null,null,null,null],\\\"x\\\":[2013,2017,2019,2020]},{\\\"color\\\":[\\\"MISO\\\",\\\"MISO\\\",\\\"MISO\\\",\\\"MISO\\\",\\\"MISO\\\",\\\"MISO\\\"],\\\"mode\\\":\\\"markers\\\",\\\"marker\\\":{\\\"color\\\":\\\"#59A14F\\\"},\\\"textposition\\\":\\\"outside\\\",\\\"y\\\":[28.8,100.0,215.25,100.0,60.5,109.3076923076923],\\\"type\\\":\\\"bar\\\",\\\"name\\\":\\\"MISO\\\",\\\"text\\\":[null,null,null,null,null,null],\\\"x\\\":[2013,2014,2015,2017,2018,2019]},{\\\"color\\\":[\\\"NYISO\\\",\\\"NYISO\\\",\\\"NYISO\\\",\\\"NYISO\\\"],\\\"mode\\\":\\\"markers\\\",\\\"marker\\\":{\\\"color\\\":\\\"#BAB0AC\\\"},\\\"textposition\\\":\\\"outside\\\",\\\"y\\\":[32.0,24.9,6.3,590.0],\\\"type\\\":\\\"bar\\\",\\\"name\\\":\\\"NYISO\\\",\\\"text\\\":[null,null,null,null],\\\"x\\\":[2010,2016,2018,2021]},{\\\"color\\\":[\\\"PJM\\\",\\\"PJM\\\",\\\"PJM\\\",\\\"PJM\\\",\\\"PJM\\\",\\\"PJM\\\",\\\"PJM\\\",\\\"PJM\\\"],\\\"mode\\\":\\\"markers\\\",\\\"marker\\\":{\\\"color\\\":\\\"#9C755F\\\"},\\\"textposition\\\":\\\"outside\\\",\\\"y\\\":[10.08,20.0,10.3,80.0,180.0,16.8,156.0,265.5],\\\"type\\\":\\\"bar\\\",\\\"name\\\":\\\"PJM\\\",\\\"text\\\":[null,null,null,null,null,null,null,null],\\\"x\\\":[2009,2011,2014,2015,2016,2017,2018,2019]},{\\\"color\\\":[\\\"SPP\\\",\\\"SPP\\\",\\\"SPP\\\",\\\"SPP\\\"],\\\"mode\\\":\\\"markers\\\",\\\"marker\\\":{\\\"color\\\":\\\"#B07AA1\\\"},\\\"textposition\\\":\\\"outside\\\",\\\"y\\\":[50.0,168.6,5.681481481481481,4.6],\\\"type\\\":\\\"bar\\\",\\\"name\\\":\\\"SPP\\\",\\\"text\\\":[null,null,null,null],\\\"x\\\":[2009,2015,2018,2019]},{\\\"color\\\":[\\\"Southeast (non-ISO)\\\",\\\"Southeast (non-ISO)\\\",\\\"Southeast (non-ISO)\\\",\\\"Southeast (non-ISO)\\\",\\\"Southeast (non-ISO)\\\",\\\"Southeast (non-ISO)\\\",\\\"Southeast (non-ISO)\\\",\\\"Southeast (non-ISO)\\\",\\\"Southeast (non-ISO)\\\",\\\"Southeast (non-ISO)\\\",\\\"Southeast (non-ISO)\\\"],\\\"mode\\\":\\\"markers\\\",\\\"marker\\\":{\\\"color\\\":\\\"#FF9DA7\\\"},\\\"textposition\\\":\\\"outside\\\",\\\"y\\\":[12.6,13.15,30.0,20.0,551.8,503.56,28.56,504.7,741.0,125.0,7.5],\\\"type\\\":\\\"bar\\\",\\\"name\\\":\\\"Southeast (non-ISO)\\\",\\\"text\\\":[null,null,null,null,null,null,null,null,null,null,null],\\\"x\\\":[2009,2010,2011,2013,2014,2015,2016,2017,2018,2019,2020]},{\\\"color\\\":[\\\"West (non-ISO)\\\",\\\"West (non-ISO)\\\",\\\"West (non-ISO)\\\",\\\"West (non-ISO)\\\",\\\"West (non-ISO)\\\",\\\"West (non-ISO)\\\",\\\"West (non-ISO)\\\",\\\"West (non-ISO)\\\",\\\"West (non-ISO)\\\",\\\"West (non-ISO)\\\",\\\"West (non-ISO)\\\",\\\"West (non-ISO)\\\",\\\"West (non-ISO)\\\",\\\"West (non-ISO)\\\"],\\\"mode\\\":\\\"markers\\\",\\\"marker\\\":{\\\"color\\\":\\\"#EDC948\\\"},\\\"textposition\\\":\\\"outside\\\",\\\"y\\\":[7.0,69.0,251.0,495.0,600.0,138.0,564.4159999999999,865.48,307.8,306.0,1599.0,968.0,777.86,970.0],\\\"type\\\":\\\"bar\\\",\\\"name\\\":\\\"West (non-ISO)\\\",\\\"text\\\":[7,1030,1753,1810,1113,708,2056,3114,917,2100,2919,1966,835,1700],\\\"x\\\":[2006,2009,2010,2011,2012,2013,2014,2015,2016,2017,2018,2019,2020,2021]}],{\\\"xaxis\\\":{\\\"tickvals\\\":[2006,2007,2008,2009,2010,2011,2012,2013,2014,2015,2016,2017,2018,2019,2020,2021,2022]},\\\"template\\\":{\\\"layout\\\":{\\\"coloraxis\\\":{\\\"colorbar\\\":{\\\"ticks\\\":\\\"\\\",\\\"outlinewidth\\\":0}},\\\"xaxis\\\":{\\\"gridcolor\\\":\\\"white\\\",\\\"zerolinewidth\\\":2,\\\"title\\\":{\\\"standoff\\\":15},\\\"ticks\\\":\\\"\\\",\\\"zerolinecolor\\\":\\\"white\\\",\\\"automargin\\\":true,\\\"linecolor\\\":\\\"white\\\"},\\\"hovermode\\\":\\\"closest\\\",\\\"paper_bgcolor\\\":\\\"white\\\",\\\"geo\\\":{\\\"showlakes\\\":true,\\\"showland\\\":true,\\\"landcolor\\\":\\\"#E5ECF6\\\",\\\"bgcolor\\\":\\\"white\\\",\\\"subunitcolor\\\":\\\"white\\\",\\\"lakecolor\\\":\\\"white\\\"},\\\"colorscale\\\":{\\\"sequential\\\":[[0.0,\\\"#0d0887\\\"],[0.1111111111111111,\\\"#46039f\\\"],[0.2222222222222222,\\\"#7201a8\\\"],[0.3333333333333333,\\\"#9c179e\\\"],[0.4444444444444444,\\\"#bd3786\\\"],[0.5555555555555556,\\\"#d8576b\\\"],[0.6666666666666666,\\\"#ed7953\\\"],[0.7777777777777778,\\\"#fb9f3a\\\"],[0.8888888888888888,\\\"#fdca26\\\"],[1.0,\\\"#f0f921\\\"]],\\\"diverging\\\":[[0,\\\"#8e0152\\\"],[0.1,\\\"#c51b7d\\\"],[0.2,\\\"#de77ae\\\"],[0.3,\\\"#f1b6da\\\"],[0.4,\\\"#fde0ef\\\"],[0.5,\\\"#f7f7f7\\\"],[0.6,\\\"#e6f5d0\\\"],[0.7,\\\"#b8e186\\\"],[0.8,\\\"#7fbc41\\\"],[0.9,\\\"#4d9221\\\"],[1,\\\"#276419\\\"]],\\\"sequentialminus\\\":[[0.0,\\\"#0d0887\\\"],[0.1111111111111111,\\\"#46039f\\\"],[0.2222222222222222,\\\"#7201a8\\\"],[0.3333333333333333,\\\"#9c179e\\\"],[0.4444444444444444,\\\"#bd3786\\\"],[0.5555555555555556,\\\"#d8576b\\\"],[0.6666666666666666,\\\"#ed7953\\\"],[0.7777777777777778,\\\"#fb9f3a\\\"],[0.8888888888888888,\\\"#fdca26\\\"],[1.0,\\\"#f0f921\\\"]]},\\\"yaxis\\\":{\\\"gridcolor\\\":\\\"white\\\",\\\"zerolinewidth\\\":2,\\\"title\\\":{\\\"standoff\\\":15},\\\"ticks\\\":\\\"\\\",\\\"zerolinecolor\\\":\\\"white\\\",\\\"automargin\\\":true,\\\"linecolor\\\":\\\"white\\\"},\\\"shapedefaults\\\":{\\\"line\\\":{\\\"color\\\":\\\"#2a3f5f\\\"}},\\\"hoverlabel\\\":{\\\"align\\\":\\\"left\\\"},\\\"mapbox\\\":{\\\"style\\\":\\\"light\\\"},\\\"polar\\\":{\\\"angularaxis\\\":{\\\"gridcolor\\\":\\\"white\\\",\\\"ticks\\\":\\\"\\\",\\\"linecolor\\\":\\\"white\\\"},\\\"bgcolor\\\":\\\"#E5ECF6\\\",\\\"radialaxis\\\":{\\\"gridcolor\\\":\\\"white\\\",\\\"ticks\\\":\\\"\\\",\\\"linecolor\\\":\\\"white\\\"}},\\\"autotypenumbers\\\":\\\"strict\\\",\\\"font\\\":{\\\"color\\\":\\\"#2a3f5f\\\"},\\\"ternary\\\":{\\\"baxis\\\":{\\\"gridcolor\\\":\\\"white\\\",\\\"ticks\\\":\\\"\\\",\\\"linecolor\\\":\\\"white\\\"},\\\"bgcolor\\\":\\\"#E5ECF6\\\",\\\"caxis\\\":{\\\"gridcolor\\\":\\\"white\\\",\\\"ticks\\\":\\\"\\\",\\\"linecolor\\\":\\\"white\\\"},\\\"aaxis\\\":{\\\"gridcolor\\\":\\\"white\\\",\\\"ticks\\\":\\\"\\\",\\\"linecolor\\\":\\\"white\\\"}},\\\"annotationdefaults\\\":{\\\"arrowhead\\\":0,\\\"arrowwidth\\\":1,\\\"arrowcolor\\\":\\\"#2a3f5f\\\"},\\\"plot_bgcolor\\\":\\\"#E5ECF6\\\",\\\"title\\\":{\\\"x\\\":0.05},\\\"scene\\\":{\\\"xaxis\\\":{\\\"gridcolor\\\":\\\"white\\\",\\\"gridwidth\\\":2,\\\"backgroundcolor\\\":\\\"#E5ECF6\\\",\\\"ticks\\\":\\\"\\\",\\\"showbackground\\\":true,\\\"zerolinecolor\\\":\\\"white\\\",\\\"linecolor\\\":\\\"white\\\"},\\\"zaxis\\\":{\\\"gridcolor\\\":\\\"white\\\",\\\"gridwidth\\\":2,\\\"backgroundcolor\\\":\\\"#E5ECF6\\\",\\\"ticks\\\":\\\"\\\",\\\"showbackground\\\":true,\\\"zerolinecolor\\\":\\\"white\\\",\\\"linecolor\\\":\\\"white\\\"},\\\"yaxis\\\":{\\\"gridcolor\\\":\\\"white\\\",\\\"gridwidth\\\":2,\\\"backgroundcolor\\\":\\\"#E5ECF6\\\",\\\"ticks\\\":\\\"\\\",\\\"showbackground\\\":true,\\\"zerolinecolor\\\":\\\"white\\\",\\\"linecolor\\\":\\\"white\\\"}},\\\"colorway\\\":[\\\"#636efa\\\",\\\"#EF553B\\\",\\\"#00cc96\\\",\\\"#ab63fa\\\",\\\"#FFA15A\\\",\\\"#19d3f3\\\",\\\"#FF6692\\\",\\\"#B6E880\\\",\\\"#FF97FF\\\",\\\"#FECB52\\\"]},\\\"data\\\":{\\\"barpolar\\\":[{\\\"type\\\":\\\"barpolar\\\",\\\"marker\\\":{\\\"line\\\":{\\\"color\\\":\\\"#E5ECF6\\\",\\\"width\\\":0.5}}}],\\\"carpet\\\":[{\\\"aaxis\\\":{\\\"gridcolor\\\":\\\"white\\\",\\\"endlinecolor\\\":\\\"#2a3f5f\\\",\\\"minorgridcolor\\\":\\\"white\\\",\\\"startlinecolor\\\":\\\"#2a3f5f\\\",\\\"linecolor\\\":\\\"white\\\"},\\\"type\\\":\\\"carpet\\\",\\\"baxis\\\":{\\\"gridcolor\\\":\\\"white\\\",\\\"endlinecolor\\\":\\\"#2a3f5f\\\",\\\"minorgridcolor\\\":\\\"white\\\",\\\"startlinecolor\\\":\\\"#2a3f5f\\\",\\\"linecolor\\\":\\\"white\\\"}}],\\\"scatterpolar\\\":[{\\\"type\\\":\\\"scatterpolar\\\",\\\"marker\\\":{\\\"colorbar\\\":{\\\"ticks\\\":\\\"\\\",\\\"outlinewidth\\\":0}}}],\\\"parcoords\\\":[{\\\"line\\\":{\\\"colorbar\\\":{\\\"ticks\\\":\\\"\\\",\\\"outlinewidth\\\":0}},\\\"type\\\":\\\"parcoords\\\"}],\\\"scatter\\\":[{\\\"type\\\":\\\"scatter\\\",\\\"marker\\\":{\\\"colorbar\\\":{\\\"ticks\\\":\\\"\\\",\\\"outlinewidth\\\":0}}}],\\\"histogram2dcontour\\\":[{\\\"colorbar\\\":{\\\"ticks\\\":\\\"\\\",\\\"outlinewidth\\\":0},\\\"type\\\":\\\"histogram2dcontour\\\",\\\"colorscale\\\":[[0.0,\\\"#0d0887\\\"],[0.1111111111111111,\\\"#46039f\\\"],[0.2222222222222222,\\\"#7201a8\\\"],[0.3333333333333333,\\\"#9c179e\\\"],[0.4444444444444444,\\\"#bd3786\\\"],[0.5555555555555556,\\\"#d8576b\\\"],[0.6666666666666666,\\\"#ed7953\\\"],[0.7777777777777778,\\\"#fb9f3a\\\"],[0.8888888888888888,\\\"#fdca26\\\"],[1.0,\\\"#f0f921\\\"]]}],\\\"contour\\\":[{\\\"colorbar\\\":{\\\"ticks\\\":\\\"\\\",\\\"outlinewidth\\\":0},\\\"type\\\":\\\"contour\\\",\\\"colorscale\\\":[[0.0,\\\"#0d0887\\\"],[0.1111111111111111,\\\"#46039f\\\"],[0.2222222222222222,\\\"#7201a8\\\"],[0.3333333333333333,\\\"#9c179e\\\"],[0.4444444444444444,\\\"#bd3786\\\"],[0.5555555555555556,\\\"#d8576b\\\"],[0.6666666666666666,\\\"#ed7953\\\"],[0.7777777777777778,\\\"#fb9f3a\\\"],[0.8888888888888888,\\\"#fdca26\\\"],[1.0,\\\"#f0f921\\\"]]}],\\\"scattercarpet\\\":[{\\\"type\\\":\\\"scattercarpet\\\",\\\"marker\\\":{\\\"colorbar\\\":{\\\"ticks\\\":\\\"\\\",\\\"outlinewidth\\\":0}}}],\\\"mesh3d\\\":[{\\\"colorbar\\\":{\\\"ticks\\\":\\\"\\\",\\\"outlinewidth\\\":0},\\\"type\\\":\\\"mesh3d\\\"}],\\\"surface\\\":[{\\\"colorbar\\\":{\\\"ticks\\\":\\\"\\\",\\\"outlinewidth\\\":0},\\\"type\\\":\\\"surface\\\",\\\"colorscale\\\":[[0.0,\\\"#0d0887\\\"],[0.1111111111111111,\\\"#46039f\\\"],[0.2222222222222222,\\\"#7201a8\\\"],[0.3333333333333333,\\\"#9c179e\\\"],[0.4444444444444444,\\\"#bd3786\\\"],[0.5555555555555556,\\\"#d8576b\\\"],[0.6666666666666666,\\\"#ed7953\\\"],[0.7777777777777778,\\\"#fb9f3a\\\"],[0.8888888888888888,\\\"#fdca26\\\"],[1.0,\\\"#f0f921\\\"]]}],\\\"scattermapbox\\\":[{\\\"type\\\":\\\"scattermapbox\\\",\\\"marker\\\":{\\\"colorbar\\\":{\\\"ticks\\\":\\\"\\\",\\\"outlinewidth\\\":0}}}],\\\"scattergeo\\\":[{\\\"type\\\":\\\"scattergeo\\\",\\\"marker\\\":{\\\"colorbar\\\":{\\\"ticks\\\":\\\"\\\",\\\"outlinewidth\\\":0}}}],\\\"histogram\\\":[{\\\"type\\\":\\\"histogram\\\",\\\"marker\\\":{\\\"colorbar\\\":{\\\"ticks\\\":\\\"\\\",\\\"outlinewidth\\\":0}}}],\\\"pie\\\":[{\\\"type\\\":\\\"pie\\\",\\\"automargin\\\":true}],\\\"choropleth\\\":[{\\\"colorbar\\\":{\\\"ticks\\\":\\\"\\\",\\\"outlinewidth\\\":0},\\\"type\\\":\\\"choropleth\\\"}],\\\"heatmapgl\\\":[{\\\"colorbar\\\":{\\\"ticks\\\":\\\"\\\",\\\"outlinewidth\\\":0},\\\"type\\\":\\\"heatmapgl\\\",\\\"colorscale\\\":[[0.0,\\\"#0d0887\\\"],[0.1111111111111111,\\\"#46039f\\\"],[0.2222222222222222,\\\"#7201a8\\\"],[0.3333333333333333,\\\"#9c179e\\\"],[0.4444444444444444,\\\"#bd3786\\\"],[0.5555555555555556,\\\"#d8576b\\\"],[0.6666666666666666,\\\"#ed7953\\\"],[0.7777777777777778,\\\"#fb9f3a\\\"],[0.8888888888888888,\\\"#fdca26\\\"],[1.0,\\\"#f0f921\\\"]]}],\\\"bar\\\":[{\\\"type\\\":\\\"bar\\\",\\\"error_y\\\":{\\\"color\\\":\\\"#2a3f5f\\\"},\\\"error_x\\\":{\\\"color\\\":\\\"#2a3f5f\\\"},\\\"marker\\\":{\\\"line\\\":{\\\"color\\\":\\\"#E5ECF6\\\",\\\"width\\\":0.5}}}],\\\"heatmap\\\":[{\\\"colorbar\\\":{\\\"ticks\\\":\\\"\\\",\\\"outlinewidth\\\":0},\\\"type\\\":\\\"heatmap\\\",\\\"colorscale\\\":[[0.0,\\\"#0d0887\\\"],[0.1111111111111111,\\\"#46039f\\\"],[0.2222222222222222,\\\"#7201a8\\\"],[0.3333333333333333,\\\"#9c179e\\\"],[0.4444444444444444,\\\"#bd3786\\\"],[0.5555555555555556,\\\"#d8576b\\\"],[0.6666666666666666,\\\"#ed7953\\\"],[0.7777777777777778,\\\"#fb9f3a\\\"],[0.8888888888888888,\\\"#fdca26\\\"],[1.0,\\\"#f0f921\\\"]]}],\\\"contourcarpet\\\":[{\\\"colorbar\\\":{\\\"ticks\\\":\\\"\\\",\\\"outlinewidth\\\":0},\\\"type\\\":\\\"contourcarpet\\\"}],\\\"table\\\":[{\\\"type\\\":\\\"table\\\",\\\"header\\\":{\\\"line\\\":{\\\"color\\\":\\\"white\\\"},\\\"fill\\\":{\\\"color\\\":\\\"#C8D4E3\\\"}},\\\"cells\\\":{\\\"line\\\":{\\\"color\\\":\\\"white\\\"},\\\"fill\\\":{\\\"color\\\":\\\"#EBF0F8\\\"}}}],\\\"scatter3d\\\":[{\\\"line\\\":{\\\"colorbar\\\":{\\\"ticks\\\":\\\"\\\",\\\"outlinewidth\\\":0}},\\\"type\\\":\\\"scatter3d\\\",\\\"marker\\\":{\\\"colorbar\\\":{\\\"ticks\\\":\\\"\\\",\\\"outlinewidth\\\":0}}}],\\\"scattergl\\\":[{\\\"type\\\":\\\"scattergl\\\",\\\"marker\\\":{\\\"colorbar\\\":{\\\"ticks\\\":\\\"\\\",\\\"outlinewidth\\\":0}}}],\\\"histogram2d\\\":[{\\\"colorbar\\\":{\\\"ticks\\\":\\\"\\\",\\\"outlinewidth\\\":0},\\\"type\\\":\\\"histogram2d\\\",\\\"colorscale\\\":[[0.0,\\\"#0d0887\\\"],[0.1111111111111111,\\\"#46039f\\\"],[0.2222222222222222,\\\"#7201a8\\\"],[0.3333333333333333,\\\"#9c179e\\\"],[0.4444444444444444,\\\"#bd3786\\\"],[0.5555555555555556,\\\"#d8576b\\\"],[0.6666666666666666,\\\"#ed7953\\\"],[0.7777777777777778,\\\"#fb9f3a\\\"],[0.8888888888888888,\\\"#fdca26\\\"],[1.0,\\\"#f0f921\\\"]]}],\\\"scatterternary\\\":[{\\\"type\\\":\\\"scatterternary\\\",\\\"marker\\\":{\\\"colorbar\\\":{\\\"ticks\\\":\\\"\\\",\\\"outlinewidth\\\":0}}}],\\\"scatterpolargl\\\":[{\\\"type\\\":\\\"scatterpolargl\\\",\\\"marker\\\":{\\\"colorbar\\\":{\\\"ticks\\\":\\\"\\\",\\\"outlinewidth\\\":0}}}]}},\\\"barmode\\\":\\\"stack\\\",\\\"margin\\\":{\\\"l\\\":50,\\\"b\\\":50,\\\"r\\\":50,\\\"t\\\":60},\\\"yaxis\\\":{\\\"title\\\":{\\\"text\\\":\\\"Capacity (MW-AC)\\\"}},\\\"legend\\\":{\\\"yanchor\\\":\\\"bottom\\\",\\\"xanchor\\\":\\\"right\\\",\\\"y\\\":1.02,\\\"title\\\":{\\\"text\\\":\\\"Region\\\"},\\\"orientation\\\":\\\"h\\\",\\\"x\\\":0.9}},{\\\"showLink\\\":false,\\\"editable\\\":false,\\\"responsive\\\":true,\\\"staticPlot\\\":false,\\\"scrollZoom\\\":true}); gd.on(\\\"plotly_hover\\\",(function (data){var filtered_data=WebIO.PlotlyCommands.filterEventData(gd,data,\\\"hover\\\"); return !(filtered_data.isnil) ? (WebIO.setval({\\\"name\\\":\\\"hover\\\",\\\"scope\\\":\\\"11103149830738470295\\\",\\\"id\\\":\\\"15077197259387011793\\\",\\\"type\\\":\\\"observable\\\"},filtered_data.out)) : undefined})); gd.on(\\\"plotly_unhover\\\",(function (){return WebIO.setval({\\\"name\\\":\\\"hover\\\",\\\"scope\\\":\\\"11103149830738470295\\\",\\\"id\\\":\\\"15077197259387011793\\\",\\\"type\\\":\\\"observable\\\"},{})})); gd.on(\\\"plotly_selected\\\",(function (data){var filtered_data=WebIO.PlotlyCommands.filterEventData(gd,data,\\\"selected\\\"); return !(filtered_data.isnil) ? (WebIO.setval({\\\"name\\\":\\\"selected\\\",\\\"scope\\\":\\\"11103149830738470295\\\",\\\"id\\\":\\\"3794517825538311306\\\",\\\"type\\\":\\\"observable\\\"},filtered_data.out)) : undefined})); gd.on(\\\"plotly_deselect\\\",(function (){return WebIO.setval({\\\"name\\\":\\\"selected\\\",\\\"scope\\\":\\\"11103149830738470295\\\",\\\"id\\\":\\\"3794517825538311306\\\",\\\"type\\\":\\\"observable\\\"},{})})); gd.on(\\\"plotly_relayout\\\",(function (data){var filtered_data=WebIO.PlotlyCommands.filterEventData(gd,data,\\\"relayout\\\"); return !(filtered_data.isnil) ? (WebIO.setval({\\\"name\\\":\\\"relayout\\\",\\\"scope\\\":\\\"11103149830738470295\\\",\\\"id\\\":\\\"1496895859400615684\\\",\\\"type\\\":\\\"observable\\\"},filtered_data.out)) : undefined})); return gd.on(\\\"plotly_click\\\",(function (data){var filtered_data=WebIO.PlotlyCommands.filterEventData(gd,data,\\\"click\\\"); return !(filtered_data.isnil) ? (WebIO.setval({\\\"name\\\":\\\"click\\\",\\\"scope\\\":\\\"11103149830738470295\\\",\\\"id\\\":\\\"14417468977228930876\\\",\\\"type\\\":\\\"observable\\\"},filtered_data.out)) : undefined}))}));\\n    (WebIO.importBlock({\\\"data\\\":[{\\\"name\\\":\\\"Plotly\\\",\\\"type\\\":\\\"js\\\",\\\"url\\\":\\\"\\/assetserver\\/dd3401e457c2bd3775ace7dcd18dbdb220b78a6c-plotly.min.js\\\"},{\\\"name\\\":null,\\\"type\\\":\\\"js\\\",\\\"url\\\":\\\"\\/assetserver\\/7523cc4f6daddb9f8f78ddc193c0f52bb3a899cc-plotly_webio.bundle.js\\\"}],\\\"type\\\":\\\"async_block\\\"})).then((imports) => handler.apply(this, imports));\\n}\\n\"],\"observables\":{\"_toImage\":{\"sync\":false,\"id\":\"3258232381755540440\",\"value\":{}},\"hover\":{\"sync\":false,\"id\":\"15077197259387011793\",\"value\":{}},\"selected\":{\"sync\":false,\"id\":\"3794517825538311306\",\"value\":{}},\"__gd_contents\":{\"sync\":false,\"id\":\"10869898554700915459\",\"value\":{}},\"click\":{\"sync\":false,\"id\":\"14417468977228930876\",\"value\":{}},\"image\":{\"sync\":true,\"id\":\"9468820337364279745\",\"value\":\"\"},\"__get_gd_contents\":{\"sync\":false,\"id\":\"138240024056292139\",\"value\":\"\"},\"_downloadImage\":{\"sync\":false,\"id\":\"8096537365352348654\",\"value\":{}},\"relayout\":{\"sync\":false,\"id\":\"1496895859400615684\",\"value\":{}},\"_commands\":{\"sync\":false,\"id\":\"7170131664558523571\",\"value\":[]}}},\"children\":[{\"props\":{\"id\":\"plot-5ffeea97-763b-4658-80df-1877326db004\"},\"nodeType\":\"DOM\",\"type\":\"node\",\"instanceArgs\":{\"namespace\":\"html\",\"tag\":\"div\"},\"children\":[]}]},\n",
       "        window,\n",
       "    );\n",
       "    })()\n",
       "    </script>\n",
       "</div>\n"
      ],
      "text/plain": [
       "data: [\n",
       "  \"bar with fields color, marker, mode, name, text, textposition, type, x, and y\",\n",
       "  \"bar with fields color, marker, mode, name, text, textposition, type, x, and y\",\n",
       "  \"bar with fields color, marker, mode, name, text, textposition, type, x, and y\",\n",
       "  \"bar with fields color, marker, mode, name, text, textposition, type, x, and y\",\n",
       "  \"bar with fields color, marker, mode, name, text, textposition, type, x, and y\",\n",
       "  \"bar with fields color, marker, mode, name, text, textposition, type, x, and y\",\n",
       "  \"bar with fields color, marker, mode, name, text, textposition, type, x, and y\",\n",
       "  \"bar with fields color, marker, mode, name, text, textposition, type, x, and y\",\n",
       "  \"bar with fields color, marker, mode, name, text, textposition, type, x, and y\",\n",
       "  \"bar with fields color, marker, mode, name, text, textposition, type, x, and y\"\n",
       "]\n",
       "\n",
       "layout: \"layout with fields barmode, legend, margin, template, xaxis, and yaxis\"\n",
       "\n"
      ]
     },
     "metadata": {},
     "output_type": "display_data"
    },
    {
     "name": "stderr",
     "output_type": "stream",
     "text": [
      "┌ Warning: Kaleido is not available on this system. Julia will be unable to save images of any plots.\n",
      "└ @ PlotlyJS /Users/katiepress/.julia/packages/PlotlyJS/4jzLr/src/kaleido.jl:65\n",
      "┌ Warning: UndefVarError(:artifact_dir)\n",
      "└ @ PlotlyJS /Users/katiepress/.julia/packages/PlotlyJS/4jzLr/src/kaleido.jl:66\n",
      "┌ Warning: Kaleido is not available on this system. Julia will be unable to save images of any plots.\n",
      "└ @ PlotlyJS /Users/katiepress/.julia/packages/PlotlyJS/4jzLr/src/kaleido.jl:65\n",
      "┌ Warning: UndefVarError(:artifact_dir)\n",
      "└ @ PlotlyJS /Users/katiepress/.julia/packages/PlotlyJS/4jzLr/src/kaleido.jl:66\n"
     ]
    }
   ],
   "source": [
    "plot([bar(\n",
    "    subdf,\n",
    "    x=:ppa_year,\n",
    "    y=:capacity_mw_sum,\n",
    "    color=:region_categorical,\n",
    "    mode=\"markers\",\n",
    "    marker_color = mycolorpal[subdf[1, :region_categorical]],\n",
    "    name=subdf[1, :region_categorical],\n",
    "    text=:capacity_sum,\n",
    "    textposition=\"outside\",\n",
    "\n",
    ")\n",
    "for subdf in groupby(ppa_capacity_all, :region_categorical)\n",
    "],\n",
    "Layout(\n",
    "        barmode=\"stack\",\n",
    "        yaxis_title=\"Capacity (MW-AC)\",\n",
    "        legend_title_text=\"Region\",\n",
    "        legend_orientation=\"h\",\n",
    "        legend_x=.9,\n",
    "        legend_y=1.02,\n",
    "        legend_xanchor=\"right\",\n",
    "        legend_yanchor=\"bottom\",\n",
    "        xaxis_tickvals=[\n",
    "            2006, 2007, 2008, 2009, 2010, 2011, 2012, 2013,\n",
    "            2014, 2015, 2016, 2017, 2018, 2019, 2020, 2021, 2022]\n",
    "        ))"
   ]
  }
 ],
 "metadata": {
  "interpreter": {
   "hash": "31f2aee4e71d21fbe5cf8b01ff0e069b9275f58929596ceb00d14d90e3e16cd6"
  },
  "kernelspec": {
   "display_name": "Julia 1.7.2",
   "language": "julia",
   "name": "julia-1.7"
  },
  "language_info": {
   "file_extension": ".jl",
   "mimetype": "application/julia",
   "name": "julia",
   "version": "1.7.2"
  },
  "orig_nbformat": 4
 },
 "nbformat": 4,
 "nbformat_minor": 2
}
